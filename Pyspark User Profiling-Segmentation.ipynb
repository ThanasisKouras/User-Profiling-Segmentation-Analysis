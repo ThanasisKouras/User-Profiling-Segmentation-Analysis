{
 "cells": [
  {
   "cell_type": "code",
   "execution_count": 0,
   "metadata": {
    "application/vnd.databricks.v1+cell": {
     "cellMetadata": {
      "byteLimit": 2048000,
      "rowLimit": 10000
     },
     "inputWidgets": {},
     "nuid": "f5d40b7e-cc0e-4012-aa7a-16354751f458",
     "showTitle": false,
     "title": ""
    }
   },
   "outputs": [],
   "source": [
    "df = spark.read.csv(\"/FileStore/tables/user_profiles_for_ads.csv\", header=True, inferSchema=True)"
   ]
  },
  {
   "cell_type": "code",
   "execution_count": 0,
   "metadata": {
    "application/vnd.databricks.v1+cell": {
     "cellMetadata": {
      "byteLimit": 2048000,
      "rowLimit": 10000
     },
     "inputWidgets": {},
     "nuid": "e7c55719-720b-4efb-84de-e7c70007d047",
     "showTitle": false,
     "title": ""
    }
   },
   "outputs": [
    {
     "output_type": "stream",
     "name": "stdout",
     "output_type": "stream",
     "text": [
      "+-------+-----+------+--------+--------+---------------+-------------------+-----------------+----------------+-------------------------------+-------------------------------+-------------------------+----------------+-------------------------+------------+--------------------+\n|User ID|  Age|Gender|Location|Language|Education Level|Likes and Reactions|Followed Accounts|    Device Usage|Time Spent Online (hrs/weekday)|Time Spent Online (hrs/weekend)|Click-Through Rates (CTR)|Conversion Rates|Ad Interaction Time (sec)|Income Level|       Top Interests|\n+-------+-----+------+--------+--------+---------------+-------------------+-----------------+----------------+-------------------------------+-------------------------------+-------------------------+----------------+-------------------------+------------+--------------------+\n|      1|25-34|Female|Suburban|   Hindi|      Technical|               5640|              190|     Mobile Only|                            4.5|                            1.7|                    0.193|           0.067|                       25|     20k-40k|   Digital Marketing|\n|      2|  65+|  Male|   Urban|   Hindi|            PhD|               9501|              375|          Tablet|                            0.5|                            7.7|                    0.114|           0.044|                       68|       0-20k|        Data Science|\n|      3|45-54|Female|Suburban| Spanish|      Technical|               4775|              187|     Mobile Only|                            4.5|                            5.6|                    0.153|           0.095|                       80|     60k-80k|Fitness and Wellness|\n|      4|35-44|Female|   Rural| Spanish|            PhD|               9182|              152|    Desktop Only|                            3.1|                            4.2|                    0.093|           0.061|                       65|       100k+|  Gaming, DIY Crafts|\n|      5|25-34|Female|   Urban| English|      Technical|               6848|              371|     Mobile Only|                            2.0|                            3.8|                    0.175|           0.022|                       99|     20k-40k|Fitness and Welln...|\n|      6|25-34|Female|Suburban|   Hindi|         Master|               6203|              257|Mobile + Desktop|                            3.8|                            3.3|                    0.209|           0.048|                       44|       100k+|Gourmet Cooking, ...|\n|      7|18-24|Female|Suburban|   Hindi|       Bachelor|               1573|              136|Mobile + Desktop|                            2.8|                            7.9|                    0.172|           0.068|                        8|       100k+|Gardening, Digita...|\n|      8|55-64|  Male|Suburban|   Hindi|            PhD|               3343|              272|    Desktop Only|                            2.7|                            1.9|                    0.128|           0.032|                       35|     40k-60k|Music Production,...|\n|      9|45-54|Female|   Urban| Spanish|    High School|               2281|               49|Mobile + Desktop|                            1.0|                            3.2|                    0.115|           0.008|                      159|     20k-40k|Eco-Friendly Livi...|\n|     10|45-54|  Male|   Rural|   Hindi|       Bachelor|               9741|              421|Mobile + Desktop|                            2.3|                            4.4|                    0.161|           0.058|                      157|       100k+|Digital Marketing...|\n|     11|18-24|Female|Suburban| English|    High School|               3196|              425|          Tablet|                            1.6|                            4.3|                     0.17|           0.095|                       73|       0-20k|Eco-Friendly Livi...|\n|     12|  65+|  Male|Suburban| English|       Bachelor|               6746|              364|    Desktop Only|                            0.6|                            4.3|                     0.14|           0.049|                       74|     20k-40k|Software Engineer...|\n|     13|55-64|  Male|Suburban| Spanish|       Bachelor|               9882|              264|          Tablet|                            2.1|                            2.2|                    0.156|           0.091|                        9|     60k-80k|Software Engineer...|\n|     14|25-34|Female|Suburban|Mandarin|      Technical|               5982|              152|          Tablet|                            0.9|                            2.0|                    0.024|           0.084|                      119|     20k-40k|Gourmet Cooking, ...|\n|     15|25-34|Female|Suburban| Spanish|            PhD|               6082|              249|     Mobile Only|                            1.7|                            2.8|                    0.238|           0.015|                       95|     20k-40k|Software Engineer...|\n|     16|25-34|Female|   Rural|Mandarin|            PhD|               5898|              237|    Desktop Only|                            0.9|                            7.4|                    0.198|           0.071|                       12|       100k+|Fashion Modelling...|\n|     17|25-34|  Male|   Rural|   Hindi|       Bachelor|               9727|              350|     Mobile Only|                            1.0|                            1.8|                    0.093|           0.044|                       13|     40k-60k|Eco-Friendly Livi...|\n|     18|35-44|Female|Suburban| Spanish|         Master|               8515|              207|     Mobile Only|                            1.4|                            6.3|                    0.141|           0.025|                       19|     20k-40k|Gourmet Cooking, ...|\n|     19|35-44|Female|   Urban| English|         Master|               8511|               74|          Tablet|                            5.0|                            6.3|                    0.012|           0.069|                      109|       100k+|Fitness and Welln...|\n|     20|25-34|Female|   Rural|   Hindi|    High School|               9946|              397|Mobile + Desktop|                            0.5|                            6.7|                     0.01|           0.074|                       11|     60k-80k|Software Engineer...|\n+-------+-----+------+--------+--------+---------------+-------------------+-----------------+----------------+-------------------------------+-------------------------------+-------------------------+----------------+-------------------------+------------+--------------------+\nonly showing top 20 rows\n\nroot\n |-- User ID: integer (nullable = true)\n |-- Age: string (nullable = true)\n |-- Gender: string (nullable = true)\n |-- Location: string (nullable = true)\n |-- Language: string (nullable = true)\n |-- Education Level: string (nullable = true)\n |-- Likes and Reactions: integer (nullable = true)\n |-- Followed Accounts: integer (nullable = true)\n |-- Device Usage: string (nullable = true)\n |-- Time Spent Online (hrs/weekday): double (nullable = true)\n |-- Time Spent Online (hrs/weekend): double (nullable = true)\n |-- Click-Through Rates (CTR): double (nullable = true)\n |-- Conversion Rates: double (nullable = true)\n |-- Ad Interaction Time (sec): integer (nullable = true)\n |-- Income Level: string (nullable = true)\n |-- Top Interests: string (nullable = true)\n\n"
     ]
    }
   ],
   "source": [
    "# Show the first few rows of the DataFrame\n",
    "df.show()\n",
    "\n",
    "# Print the schema of the DataFrame\n",
    "df.printSchema()"
   ]
  },
  {
   "cell_type": "code",
   "execution_count": 0,
   "metadata": {
    "application/vnd.databricks.v1+cell": {
     "cellMetadata": {
      "byteLimit": 2048000,
      "rowLimit": 10000
     },
     "inputWidgets": {},
     "nuid": "3ade3923-1167-400e-943e-f1a72f05b5d4",
     "showTitle": false,
     "title": ""
    }
   },
   "outputs": [
    {
     "output_type": "stream",
     "name": "stdout",
     "output_type": "stream",
     "text": [
      "Number of rows: 1000\nMinimum Age: 18-24\nMaximum Age: 65+\nAverage Age: None\nGender Counts:\nFemale : 506\nMale : 494\nEducation Level Counts:\nHigh School : 205\nPhD : 186\nMaster : 209\nBachelor : 189\nTechnical : 211\nIncome Level Counts:\n100k+ : 176\n20k-40k : 165\n80k-100k : 168\n40k-60k : 175\n0-20k : 148\n60k-80k : 168\n"
     ]
    }
   ],
   "source": [
    "# Register the DataFrame as a temporary view\n",
    "df.createOrReplaceTempView(\"data_table\")\n",
    "\n",
    "# Perform EDA using SQL queries\n",
    "# Example 1: Count the number of rows in the DataFrame\n",
    "row_count = spark.sql(\"SELECT COUNT(*) AS row_count FROM data_table\").collect()[0][0]\n",
    "print(\"Number of rows:\", row_count)\n",
    "\n",
    "# Example 2: Summary statistics for numerical columns\n",
    "summary_stats = spark.sql(\"SELECT MIN(Age) AS min_age, MAX(Age) AS max_age, AVG(Age) AS avg_age FROM data_table\").collect()[0]\n",
    "print(\"Minimum Age:\", summary_stats.min_age)\n",
    "print(\"Maximum Age:\", summary_stats.max_age)\n",
    "print(\"Average Age:\", summary_stats.avg_age)\n",
    "\n",
    "# Gender Counts\n",
    "gender_counts = spark.sql(\"SELECT Gender, COUNT(*) AS count FROM data_table GROUP BY Gender\").collect()\n",
    "print(\"Gender Counts:\")\n",
    "for row in gender_counts:\n",
    "    print(row['Gender'], \":\", row['count'])\n",
    "\n",
    "# Education Level Counts\n",
    "education_counts = spark.sql(\"SELECT `Education Level`, COUNT(*) AS count FROM data_table GROUP BY `Education Level`\").collect()\n",
    "print(\"Education Level Counts:\")\n",
    "for row in education_counts:\n",
    "    print(row['Education Level'], \":\", row['count'])\n",
    "\n",
    "# Income Level Counts\n",
    "income_counts = spark.sql(\"SELECT `Income Level`, COUNT(*) AS count FROM data_table GROUP BY `Income Level`\").collect()\n",
    "print(\"Income Level Counts:\")\n",
    "for row in income_counts:\n",
    "    print(row['Income Level'], \":\", row['count'])\n",
    "\n"
   ]
  },
  {
   "cell_type": "code",
   "execution_count": 0,
   "metadata": {
    "application/vnd.databricks.v1+cell": {
     "cellMetadata": {
      "byteLimit": 2048000,
      "rowLimit": 10000
     },
     "inputWidgets": {},
     "nuid": "10c8a192-5420-4593-abdb-29e618f59d78",
     "showTitle": false,
     "title": ""
    }
   },
   "outputs": [
    {
     "output_type": "display_data",
     "data": {
      "text/html": [
       "<style scoped>\n",
       "  .table-result-container {\n",
       "    max-height: 300px;\n",
       "    overflow: auto;\n",
       "  }\n",
       "  table, th, td {\n",
       "    border: 1px solid black;\n",
       "    border-collapse: collapse;\n",
       "  }\n",
       "  th, td {\n",
       "    padding: 5px;\n",
       "  }\n",
       "  th {\n",
       "    text-align: left;\n",
       "  }\n",
       "</style><div class='table-result-container'><table class='table-result'><thead style='background-color: white'><tr><th>Gender</th><th>count</th></tr></thead><tbody><tr><td>Female</td><td>506</td></tr><tr><td>Male</td><td>494</td></tr></tbody></table></div>"
      ]
     },
     "metadata": {
      "application/vnd.databricks.v1+output": {
       "addedWidgets": {},
       "aggData": [],
       "aggError": "",
       "aggOverflow": false,
       "aggSchema": [],
       "aggSeriesLimitReached": false,
       "aggType": "",
       "arguments": {},
       "columnCustomDisplayInfos": {},
       "data": [
        [
         "Female",
         506
        ],
        [
         "Male",
         494
        ]
       ],
       "datasetInfos": [],
       "dbfsResultPath": null,
       "isJsonSchema": true,
       "metadata": {},
       "overflow": false,
       "plotOptions": {
        "customPlotOptions": {},
        "displayType": "table",
        "pivotAggregation": null,
        "pivotColumns": null,
        "xColumns": null,
        "yColumns": null
       },
       "removedWidgets": [],
       "schema": [
        {
         "metadata": "{}",
         "name": "Gender",
         "type": "\"string\""
        },
        {
         "metadata": "{}",
         "name": "count",
         "type": "\"long\""
        }
       ],
       "type": "table"
      }
     },
     "output_type": "display_data"
    },
    {
     "output_type": "display_data",
     "data": {
      "text/plain": [
       "Databricks visualization. Run in Databricks to view."
      ]
     },
     "metadata": {
      "application/vnd.databricks.v1.subcommand+json": {
       "baseErrorDetails": null,
       "bindings": {},
       "collapsed": false,
       "command": "%python\n__backend_agg_display_orig = display\n__backend_agg_dfs = []\ndef __backend_agg_display_new(df):\n    __backend_agg_df_modules = [\"pandas.core.frame\", \"databricks.koalas.frame\", \"pyspark.sql.dataframe\", \"pyspark.pandas.frame\", \"pyspark.sql.connect.dataframe\"]\n    if (type(df).__module__ in __backend_agg_df_modules and type(df).__name__ == 'DataFrame') or isinstance(df, list):\n        __backend_agg_dfs.append(df)\n\ndisplay = __backend_agg_display_new\n\ndef __backend_agg_user_code_fn():\n    import base64\n    exec(base64.standard_b64decode(\"IyBHZW5kZXIgQ291bnRzCmdlbmRlcl9jb3VudHMgPSBzcGFyay5zcWwoIlNFTEVDVCBHZW5kZXIsIENPVU5UKCopIEFTIGNvdW50IEZST00gZGF0YV90YWJsZSBHUk9VUCBCWSBHZW5kZXIiKQpkaXNwbGF5KGdlbmRlcl9jb3VudHMp\").decode())\n\ntry:\n    # run user code\n    __backend_agg_user_code_fn()\n\n    #reset display function\n    display = __backend_agg_display_orig\n\n    if len(__backend_agg_dfs) > 0:\n        # create a temp view\n        if type(__backend_agg_dfs[0]).__module__ == \"databricks.koalas.frame\":\n            # koalas dataframe\n            __backend_agg_dfs[0].to_spark().createOrReplaceTempView(\"DatabricksViewb34ef61\")\n        elif type(__backend_agg_dfs[0]).__module__ == \"pandas.core.frame\" or isinstance(__backend_agg_dfs[0], list):\n            # pandas dataframe\n            spark.createDataFrame(__backend_agg_dfs[0]).createOrReplaceTempView(\"DatabricksViewb34ef61\")\n        else:\n            __backend_agg_dfs[0].createOrReplaceTempView(\"DatabricksViewb34ef61\")\n        #run backend agg\n        display(spark.sql(\"\"\"WITH q AS (select * from DatabricksViewb34ef61) SELECT `Gender`,SUM(`count`) `column_16dd2d442` FROM q GROUP BY `Gender`\"\"\"))\n    else:\n        displayHTML(\"dataframe no longer exists. If you're using dataframe.display(), use display(dataframe) instead.\")\n\n\nfinally:\n    spark.sql(\"drop view if exists DatabricksViewb34ef61\")\n    display = __backend_agg_display_orig\n    del __backend_agg_display_new\n    del __backend_agg_display_orig\n    del __backend_agg_dfs\n    del __backend_agg_user_code_fn\n\n",
       "commandTitle": "Visualization 1",
       "commandType": "auto",
       "commandVersion": 0,
       "commentThread": [],
       "commentsVisible": false,
       "contentSha256Hex": null,
       "customPlotOptions": {
        "redashChart": [
         {
          "key": "type",
          "value": "CHART"
         },
         {
          "key": "options",
          "value": {
           "alignYAxesAtZero": true,
           "coefficient": 1,
           "columnConfigurationMap": {
            "x": {
             "column": "Gender",
             "id": "column_16dd2d441"
            },
            "y": [
             {
              "column": "count",
              "id": "column_16dd2d442",
              "transform": "SUM"
             }
            ]
           },
           "dateTimeFormat": "DD/MM/YYYY HH:mm",
           "direction": {
            "type": "counterclockwise"
           },
           "error_y": {
            "type": "data",
            "visible": true
           },
           "globalSeriesType": "pie",
           "isAggregationOn": true,
           "legend": {
            "traceorder": "normal"
           },
           "missingValuesAsZero": true,
           "numberFormat": "0,0.[00000]",
           "percentFormat": "0[.]00%",
           "series": {
            "error_y": {
             "type": "data",
             "visible": true
            },
            "stacking": null
           },
           "seriesOptions": {
            "column_16dd2d442": {
             "color": "#C63FA9",
             "name": " ",
             "type": "pie",
             "yAxis": 0
            }
           },
           "showDataLabels": true,
           "sizemode": "diameter",
           "sortX": true,
           "sortY": true,
           "swappedAxes": false,
           "textFormat": "",
           "useAggregationsUi": true,
           "valuesOptions": {
            "Female": {
             "color": "#E92828"
            },
            "Male": {
             "color": "#494949"
            }
           },
           "version": 2,
           "xAxis": {
            "labels": {
             "enabled": true
            },
            "type": "-"
           },
           "yAxis": [
            {
             "type": "-"
            },
            {
             "opposite": true,
             "type": "-"
            }
           ]
          }
         }
        ]
       },
       "datasetPreviewNameToCmdIdMap": {},
       "diffDeletes": [],
       "diffInserts": [],
       "displayType": "redashChart",
       "error": null,
       "errorDetails": null,
       "errorSummary": null,
       "errorTraceType": null,
       "finishTime": 0,
       "globalVars": {},
       "guid": "",
       "height": "auto",
       "hideCommandCode": false,
       "hideCommandResult": false,
       "iPythonMetadata": null,
       "inputWidgets": {},
       "isLockedInExamMode": false,
       "latestUser": "a user",
       "latestUserId": null,
       "listResultMetadata": null,
       "metadata": {
        "byteLimit": 2048000,
        "rowLimit": 10000
       },
       "nuid": "9e716700-2818-4255-b47a-2c41810c5240",
       "origId": 0,
       "parentHierarchy": [],
       "pivotAggregation": null,
       "pivotColumns": null,
       "position": 5.0,
       "resultDbfsErrorMessage": null,
       "resultDbfsStatus": "INLINED_IN_TREE",
       "results": null,
       "showCommandTitle": false,
       "startTime": 0,
       "state": "finished",
       "streamStates": {},
       "subcommandOptions": {
        "queryPlan": {
         "groups": [
          {
           "column": "Gender",
           "type": "column"
          }
         ],
         "selects": [
          {
           "column": "Gender",
           "type": "column"
          },
          {
           "alias": "column_16dd2d442",
           "args": [
            {
             "column": "count",
             "type": "column"
            }
           ],
           "function": "SUM",
           "type": "function"
          }
         ]
        }
       },
       "submitTime": 0,
       "subtype": "tableResultSubCmd.visualization",
       "tableResultIndex": 0,
       "useConsistentColors": false,
       "version": "CommandV1",
       "width": "auto",
       "workflows": [],
       "xColumns": null,
       "yColumns": null
      }
     },
     "output_type": "display_data"
    }
   ],
   "source": [
    "# Gender Counts\n",
    "gender_counts = spark.sql(\"SELECT Gender, COUNT(*) AS count FROM data_table GROUP BY Gender\")\n",
    "display(gender_counts)"
   ]
  },
  {
   "cell_type": "code",
   "execution_count": 0,
   "metadata": {
    "application/vnd.databricks.v1+cell": {
     "cellMetadata": {
      "byteLimit": 2048000,
      "rowLimit": 10000
     },
     "inputWidgets": {},
     "nuid": "696acf44-8c5e-4341-9f54-1e1fd3bff42a",
     "showTitle": false,
     "title": ""
    }
   },
   "outputs": [
    {
     "output_type": "display_data",
     "data": {
      "text/html": [
       "<style scoped>\n",
       "  .table-result-container {\n",
       "    max-height: 300px;\n",
       "    overflow: auto;\n",
       "  }\n",
       "  table, th, td {\n",
       "    border: 1px solid black;\n",
       "    border-collapse: collapse;\n",
       "  }\n",
       "  th, td {\n",
       "    padding: 5px;\n",
       "  }\n",
       "  th {\n",
       "    text-align: left;\n",
       "  }\n",
       "</style><div class='table-result-container'><table class='table-result'><thead style='background-color: white'><tr><th>Education Level</th><th>count</th></tr></thead><tbody><tr><td>High School</td><td>205</td></tr><tr><td>PhD</td><td>186</td></tr><tr><td>Master</td><td>209</td></tr><tr><td>Bachelor</td><td>189</td></tr><tr><td>Technical</td><td>211</td></tr></tbody></table></div>"
      ]
     },
     "metadata": {
      "application/vnd.databricks.v1+output": {
       "addedWidgets": {},
       "aggData": [],
       "aggError": "",
       "aggOverflow": false,
       "aggSchema": [],
       "aggSeriesLimitReached": false,
       "aggType": "",
       "arguments": {},
       "columnCustomDisplayInfos": {},
       "data": [
        [
         "High School",
         205
        ],
        [
         "PhD",
         186
        ],
        [
         "Master",
         209
        ],
        [
         "Bachelor",
         189
        ],
        [
         "Technical",
         211
        ]
       ],
       "datasetInfos": [],
       "dbfsResultPath": null,
       "isJsonSchema": true,
       "metadata": {},
       "overflow": false,
       "plotOptions": {
        "customPlotOptions": {},
        "displayType": "table",
        "pivotAggregation": null,
        "pivotColumns": null,
        "xColumns": null,
        "yColumns": null
       },
       "removedWidgets": [],
       "schema": [
        {
         "metadata": "{}",
         "name": "Education Level",
         "type": "\"string\""
        },
        {
         "metadata": "{}",
         "name": "count",
         "type": "\"long\""
        }
       ],
       "type": "table"
      }
     },
     "output_type": "display_data"
    },
    {
     "output_type": "display_data",
     "data": {
      "text/plain": [
       "Databricks visualization. Run in Databricks to view."
      ]
     },
     "metadata": {
      "application/vnd.databricks.v1.subcommand+json": {
       "baseErrorDetails": null,
       "bindings": {},
       "collapsed": false,
       "command": "%python\n__backend_agg_display_orig = display\n__backend_agg_dfs = []\ndef __backend_agg_display_new(df):\n    __backend_agg_df_modules = [\"pandas.core.frame\", \"databricks.koalas.frame\", \"pyspark.sql.dataframe\", \"pyspark.pandas.frame\", \"pyspark.sql.connect.dataframe\"]\n    if (type(df).__module__ in __backend_agg_df_modules and type(df).__name__ == 'DataFrame') or isinstance(df, list):\n        __backend_agg_dfs.append(df)\n\ndisplay = __backend_agg_display_new\n\ndef __backend_agg_user_code_fn():\n    import base64\n    exec(base64.standard_b64decode(\"IyBFZHVjYXRpb24gTGV2ZWwgQ291bnRzCmVkdWNhdGlvbl9jb3VudHMgPSBzcGFyay5zcWwoIlNFTEVDVCBgRWR1Y2F0aW9uIExldmVsYCwgQ09VTlQoKikgQVMgY291bnQgRlJPTSBkYXRhX3RhYmxlIEdST1VQIEJZIGBFZHVjYXRpb24gTGV2ZWxgIikKZGlzcGxheShlZHVjYXRpb25fY291bnRzKQ==\").decode())\n\ntry:\n    # run user code\n    __backend_agg_user_code_fn()\n\n    #reset display function\n    display = __backend_agg_display_orig\n\n    if len(__backend_agg_dfs) > 0:\n        # create a temp view\n        if type(__backend_agg_dfs[0]).__module__ == \"databricks.koalas.frame\":\n            # koalas dataframe\n            __backend_agg_dfs[0].to_spark().createOrReplaceTempView(\"DatabricksView3206b54\")\n        elif type(__backend_agg_dfs[0]).__module__ == \"pandas.core.frame\" or isinstance(__backend_agg_dfs[0], list):\n            # pandas dataframe\n            spark.createDataFrame(__backend_agg_dfs[0]).createOrReplaceTempView(\"DatabricksView3206b54\")\n        else:\n            __backend_agg_dfs[0].createOrReplaceTempView(\"DatabricksView3206b54\")\n        #run backend agg\n        display(spark.sql(\"\"\"WITH q AS (select * from DatabricksView3206b54) SELECT `Education Level`,SUM(`count`) `column_16dd2d4412`,`Education Level` FROM q GROUP BY `Education Level`\"\"\"))\n    else:\n        displayHTML(\"dataframe no longer exists. If you're using dataframe.display(), use display(dataframe) instead.\")\n\n\nfinally:\n    spark.sql(\"drop view if exists DatabricksView3206b54\")\n    display = __backend_agg_display_orig\n    del __backend_agg_display_new\n    del __backend_agg_display_orig\n    del __backend_agg_dfs\n    del __backend_agg_user_code_fn\n\n",
       "commandTitle": "Visualization 1",
       "commandType": "auto",
       "commandVersion": 0,
       "commentThread": [],
       "commentsVisible": false,
       "contentSha256Hex": null,
       "customPlotOptions": {
        "redashChart": [
         {
          "key": "type",
          "value": "CHART"
         },
         {
          "key": "options",
          "value": {
           "alignYAxesAtZero": true,
           "coefficient": 1,
           "columnConfigurationMap": {
            "series": {
             "column": "Education Level",
             "id": "column_16dd2d4444"
            },
            "x": {
             "column": "Education Level",
             "id": "column_16dd2d4411"
            },
            "y": [
             {
              "column": "count",
              "id": "column_16dd2d4412",
              "transform": "SUM"
             }
            ]
           },
           "dateTimeFormat": "DD/MM/YYYY HH:mm",
           "direction": {
            "type": "counterclockwise"
           },
           "error_y": {
            "type": "data",
            "visible": true
           },
           "globalSeriesType": "column",
           "hideYAxes": false,
           "isAggregationOn": true,
           "legend": {
            "traceorder": "normal"
           },
           "missingValuesAsZero": true,
           "numberFormat": "0,0.[00000]",
           "percentFormat": "0[.]00%",
           "series": {
            "error_y": {
             "type": "data",
             "visible": true
            },
            "stacking": "stack"
           },
           "seriesOptions": {
            "Bachelor": {
             "color": "#494949",
             "yAxis": 0
            },
            "High School": {
             "color": "#494949",
             "yAxis": 0
            },
            "Master": {
             "color": "#494949",
             "yAxis": 0
            },
            "PhD": {
             "color": "#494949",
             "yAxis": 0
            },
            "Technical": {
             "color": "#E92828",
             "yAxis": 0
            },
            "column_16dd2d4412": {
             "name": "count",
             "yAxis": 0
            }
           },
           "showDataLabels": false,
           "sizemode": "diameter",
           "sortX": true,
           "sortY": true,
           "swappedAxes": false,
           "textFormat": "",
           "useAggregationsUi": true,
           "valuesOptions": {},
           "version": 2,
           "xAxis": {
            "labels": {
             "enabled": true
            },
            "title": {
             "text": " "
            },
            "type": "-"
           },
           "yAxis": [
            {
             "title": {
              "text": " "
             },
             "type": "-"
            },
            {
             "opposite": true,
             "type": "-"
            }
           ]
          }
         }
        ]
       },
       "datasetPreviewNameToCmdIdMap": {},
       "diffDeletes": [],
       "diffInserts": [],
       "displayType": "redashChart",
       "error": null,
       "errorDetails": null,
       "errorSummary": null,
       "errorTraceType": null,
       "finishTime": 0,
       "globalVars": {},
       "guid": "",
       "height": "auto",
       "hideCommandCode": false,
       "hideCommandResult": false,
       "iPythonMetadata": null,
       "inputWidgets": {},
       "isLockedInExamMode": false,
       "latestUser": "a user",
       "latestUserId": null,
       "listResultMetadata": null,
       "metadata": {
        "byteLimit": 2048000,
        "rowLimit": 10000
       },
       "nuid": "9d179090-75f1-4973-84f5-fe3ea6d1fe4b",
       "origId": 0,
       "parentHierarchy": [],
       "pivotAggregation": null,
       "pivotColumns": null,
       "position": 6.0,
       "resultDbfsErrorMessage": null,
       "resultDbfsStatus": "INLINED_IN_TREE",
       "results": null,
       "showCommandTitle": false,
       "startTime": 0,
       "state": "finished",
       "streamStates": {},
       "subcommandOptions": {
        "queryPlan": {
         "groups": [
          {
           "column": "Education Level",
           "type": "column"
          },
          {
           "column": "Education Level",
           "type": "column"
          }
         ],
         "selects": [
          {
           "column": "Education Level",
           "type": "column"
          },
          {
           "alias": "column_16dd2d4412",
           "args": [
            {
             "column": "count",
             "type": "column"
            }
           ],
           "function": "SUM",
           "type": "function"
          },
          {
           "column": "Education Level",
           "type": "column"
          }
         ]
        }
       },
       "submitTime": 0,
       "subtype": "tableResultSubCmd.visualization",
       "tableResultIndex": 0,
       "useConsistentColors": false,
       "version": "CommandV1",
       "width": "auto",
       "workflows": [],
       "xColumns": null,
       "yColumns": null
      }
     },
     "output_type": "display_data"
    }
   ],
   "source": [
    "# Education Level Counts\n",
    "education_counts = spark.sql(\"SELECT `Education Level`, COUNT(*) AS count FROM data_table GROUP BY `Education Level`\")\n",
    "display(education_counts)"
   ]
  },
  {
   "cell_type": "code",
   "execution_count": 0,
   "metadata": {
    "application/vnd.databricks.v1+cell": {
     "cellMetadata": {
      "byteLimit": 2048000,
      "rowLimit": 10000
     },
     "inputWidgets": {},
     "nuid": "6e9e5310-04ba-4828-979f-3ba3e9ccb780",
     "showTitle": false,
     "title": ""
    }
   },
   "outputs": [
    {
     "output_type": "display_data",
     "data": {
      "text/html": [
       "<style scoped>\n",
       "  .table-result-container {\n",
       "    max-height: 300px;\n",
       "    overflow: auto;\n",
       "  }\n",
       "  table, th, td {\n",
       "    border: 1px solid black;\n",
       "    border-collapse: collapse;\n",
       "  }\n",
       "  th, td {\n",
       "    padding: 5px;\n",
       "  }\n",
       "  th {\n",
       "    text-align: left;\n",
       "  }\n",
       "</style><div class='table-result-container'><table class='table-result'><thead style='background-color: white'><tr><th>Income Level</th><th>count</th></tr></thead><tbody><tr><td>100k+</td><td>176</td></tr><tr><td>20k-40k</td><td>165</td></tr><tr><td>80k-100k</td><td>168</td></tr><tr><td>40k-60k</td><td>175</td></tr><tr><td>0-20k</td><td>148</td></tr><tr><td>60k-80k</td><td>168</td></tr></tbody></table></div>"
      ]
     },
     "metadata": {
      "application/vnd.databricks.v1+output": {
       "addedWidgets": {},
       "aggData": [],
       "aggError": "",
       "aggOverflow": false,
       "aggSchema": [],
       "aggSeriesLimitReached": false,
       "aggType": "",
       "arguments": {},
       "columnCustomDisplayInfos": {},
       "data": [
        [
         "100k+",
         176
        ],
        [
         "20k-40k",
         165
        ],
        [
         "80k-100k",
         168
        ],
        [
         "40k-60k",
         175
        ],
        [
         "0-20k",
         148
        ],
        [
         "60k-80k",
         168
        ]
       ],
       "datasetInfos": [],
       "dbfsResultPath": null,
       "isJsonSchema": true,
       "metadata": {},
       "overflow": false,
       "plotOptions": {
        "customPlotOptions": {},
        "displayType": "table",
        "pivotAggregation": null,
        "pivotColumns": null,
        "xColumns": null,
        "yColumns": null
       },
       "removedWidgets": [],
       "schema": [
        {
         "metadata": "{}",
         "name": "Income Level",
         "type": "\"string\""
        },
        {
         "metadata": "{}",
         "name": "count",
         "type": "\"long\""
        }
       ],
       "type": "table"
      }
     },
     "output_type": "display_data"
    },
    {
     "output_type": "display_data",
     "data": {
      "text/plain": [
       "Databricks visualization. Run in Databricks to view."
      ]
     },
     "metadata": {
      "application/vnd.databricks.v1.subcommand+json": {
       "baseErrorDetails": null,
       "bindings": {},
       "collapsed": false,
       "command": "%python\n__backend_agg_display_orig = display\n__backend_agg_dfs = []\ndef __backend_agg_display_new(df):\n    __backend_agg_df_modules = [\"pandas.core.frame\", \"databricks.koalas.frame\", \"pyspark.sql.dataframe\", \"pyspark.pandas.frame\", \"pyspark.sql.connect.dataframe\"]\n    if (type(df).__module__ in __backend_agg_df_modules and type(df).__name__ == 'DataFrame') or isinstance(df, list):\n        __backend_agg_dfs.append(df)\n\ndisplay = __backend_agg_display_new\n\ndef __backend_agg_user_code_fn():\n    import base64\n    exec(base64.standard_b64decode(\"IyBJbmNvbWUgTGV2ZWwgQ291bnRzCmluY29tZV9jb3VudHMgPSBzcGFyay5zcWwoIlNFTEVDVCBgSW5jb21lIExldmVsYCwgQ09VTlQoKikgQVMgY291bnQgRlJPTSBkYXRhX3RhYmxlIEdST1VQIEJZIGBJbmNvbWUgTGV2ZWxgIikKZGlzcGxheShpbmNvbWVfY291bnRzKQ==\").decode())\n\ntry:\n    # run user code\n    __backend_agg_user_code_fn()\n\n    #reset display function\n    display = __backend_agg_display_orig\n\n    if len(__backend_agg_dfs) > 0:\n        # create a temp view\n        if type(__backend_agg_dfs[0]).__module__ == \"databricks.koalas.frame\":\n            # koalas dataframe\n            __backend_agg_dfs[0].to_spark().createOrReplaceTempView(\"DatabricksView0421a28\")\n        elif type(__backend_agg_dfs[0]).__module__ == \"pandas.core.frame\" or isinstance(__backend_agg_dfs[0], list):\n            # pandas dataframe\n            spark.createDataFrame(__backend_agg_dfs[0]).createOrReplaceTempView(\"DatabricksView0421a28\")\n        else:\n            __backend_agg_dfs[0].createOrReplaceTempView(\"DatabricksView0421a28\")\n        #run backend agg\n        display(spark.sql(\"\"\"WITH q AS (select * from DatabricksView0421a28) SELECT `Income Level`,SUM(`count`) `column_16dd2d4461`,`Income Level` FROM q GROUP BY `Income Level`\"\"\"))\n    else:\n        displayHTML(\"dataframe no longer exists. If you're using dataframe.display(), use display(dataframe) instead.\")\n\n\nfinally:\n    spark.sql(\"drop view if exists DatabricksView0421a28\")\n    display = __backend_agg_display_orig\n    del __backend_agg_display_new\n    del __backend_agg_display_orig\n    del __backend_agg_dfs\n    del __backend_agg_user_code_fn\n\n",
       "commandTitle": "Visualization 1",
       "commandType": "auto",
       "commandVersion": 0,
       "commentThread": [],
       "commentsVisible": false,
       "contentSha256Hex": null,
       "customPlotOptions": {
        "redashChart": [
         {
          "key": "type",
          "value": "CHART"
         },
         {
          "key": "options",
          "value": {
           "alignYAxesAtZero": true,
           "coefficient": 1,
           "columnConfigurationMap": {
            "series": {
             "column": "Income Level",
             "id": "column_16dd2d4463"
            },
            "x": {
             "column": "Income Level",
             "id": "column_16dd2d4456"
            },
            "y": [
             {
              "column": "count",
              "id": "column_16dd2d4461",
              "transform": "SUM"
             }
            ]
           },
           "dateTimeFormat": "DD/MM/YYYY HH:mm",
           "direction": {
            "type": "counterclockwise"
           },
           "error_y": {
            "type": "data",
            "visible": true
           },
           "globalSeriesType": "column",
           "isAggregationOn": true,
           "legend": {
            "traceorder": "normal"
           },
           "missingValuesAsZero": true,
           "numberFormat": "0,0.[00000]",
           "percentFormat": "0[.]00%",
           "series": {
            "error_y": {
             "type": "data",
             "visible": true
            },
            "stacking": "stack"
           },
           "seriesOptions": {
            "0-20k": {
             "color": "#494949"
            },
            "20k-40k": {
             "color": "#494949"
            },
            "40k-60k": {
             "color": "#494949"
            },
            "60k-80k": {
             "color": "#494949"
            },
            "80k-100k": {
             "color": "#494949"
            },
            "column_16dd2d4458": {
             "type": "column",
             "yAxis": 0
            },
            "column_16dd2d4461": {
             "type": "column",
             "yAxis": 0
            }
           },
           "showDataLabels": false,
           "sizemode": "diameter",
           "sortX": true,
           "sortY": true,
           "swappedAxes": false,
           "textFormat": "",
           "useAggregationsUi": true,
           "valuesOptions": {},
           "version": 2,
           "xAxis": {
            "labels": {
             "enabled": true
            },
            "title": {
             "text": " "
            },
            "type": "-"
           },
           "yAxis": [
            {
             "title": {
              "text": " "
             },
             "type": "-"
            },
            {
             "opposite": true,
             "type": "-"
            }
           ]
          }
         }
        ]
       },
       "datasetPreviewNameToCmdIdMap": {},
       "diffDeletes": [],
       "diffInserts": [],
       "displayType": "redashChart",
       "error": null,
       "errorDetails": null,
       "errorSummary": null,
       "errorTraceType": null,
       "finishTime": 0,
       "globalVars": {},
       "guid": "",
       "height": "auto",
       "hideCommandCode": false,
       "hideCommandResult": false,
       "iPythonMetadata": null,
       "inputWidgets": {},
       "isLockedInExamMode": false,
       "latestUser": "a user",
       "latestUserId": null,
       "listResultMetadata": null,
       "metadata": {
        "byteLimit": 2048000,
        "rowLimit": 10000
       },
       "nuid": "0b7cee45-71fc-4744-b4ad-a255eb027947",
       "origId": 0,
       "parentHierarchy": [],
       "pivotAggregation": null,
       "pivotColumns": null,
       "position": 7.0,
       "resultDbfsErrorMessage": null,
       "resultDbfsStatus": "INLINED_IN_TREE",
       "results": null,
       "showCommandTitle": false,
       "startTime": 0,
       "state": "finished",
       "streamStates": {},
       "subcommandOptions": {
        "queryPlan": {
         "groups": [
          {
           "column": "Income Level",
           "type": "column"
          },
          {
           "column": "Income Level",
           "type": "column"
          }
         ],
         "selects": [
          {
           "column": "Income Level",
           "type": "column"
          },
          {
           "alias": "column_16dd2d4461",
           "args": [
            {
             "column": "count",
             "type": "column"
            }
           ],
           "function": "SUM",
           "type": "function"
          },
          {
           "column": "Income Level",
           "type": "column"
          }
         ]
        }
       },
       "submitTime": 0,
       "subtype": "tableResultSubCmd.visualization",
       "tableResultIndex": 0,
       "useConsistentColors": false,
       "version": "CommandV1",
       "width": "auto",
       "workflows": [],
       "xColumns": null,
       "yColumns": null
      }
     },
     "output_type": "display_data"
    }
   ],
   "source": [
    "# Income Level Counts\n",
    "income_counts = spark.sql(\"SELECT `Income Level`, COUNT(*) AS count FROM data_table GROUP BY `Income Level`\")\n",
    "display(income_counts)"
   ]
  },
  {
   "cell_type": "code",
   "execution_count": 0,
   "metadata": {
    "application/vnd.databricks.v1+cell": {
     "cellMetadata": {
      "byteLimit": 2048000,
      "rowLimit": 10000
     },
     "inputWidgets": {},
     "nuid": "35b7aa52-0261-4b5b-a62c-46ea57f75c3d",
     "showTitle": false,
     "title": ""
    }
   },
   "outputs": [
    {
     "output_type": "display_data",
     "data": {
      "text/html": [
       "<style scoped>\n",
       "  .table-result-container {\n",
       "    max-height: 300px;\n",
       "    overflow: auto;\n",
       "  }\n",
       "  table, th, td {\n",
       "    border: 1px solid black;\n",
       "    border-collapse: collapse;\n",
       "  }\n",
       "  th, td {\n",
       "    padding: 5px;\n",
       "  }\n",
       "  th {\n",
       "    text-align: left;\n",
       "  }\n",
       "</style><div class='table-result-container'><table class='table-result'><thead style='background-color: white'><tr><th>Age</th><th>count</th></tr></thead><tbody><tr><td>45-54</td><td>188</td></tr><tr><td>55-64</td><td>153</td></tr><tr><td>35-44</td><td>192</td></tr><tr><td>25-34</td><td>255</td></tr><tr><td>65+</td><td>46</td></tr><tr><td>18-24</td><td>166</td></tr></tbody></table></div>"
      ]
     },
     "metadata": {
      "application/vnd.databricks.v1+output": {
       "addedWidgets": {},
       "aggData": [],
       "aggError": "",
       "aggOverflow": false,
       "aggSchema": [],
       "aggSeriesLimitReached": false,
       "aggType": "",
       "arguments": {},
       "columnCustomDisplayInfos": {},
       "data": [
        [
         "45-54",
         188
        ],
        [
         "55-64",
         153
        ],
        [
         "35-44",
         192
        ],
        [
         "25-34",
         255
        ],
        [
         "65+",
         46
        ],
        [
         "18-24",
         166
        ]
       ],
       "datasetInfos": [],
       "dbfsResultPath": null,
       "isJsonSchema": true,
       "metadata": {},
       "overflow": false,
       "plotOptions": {
        "customPlotOptions": {},
        "displayType": "table",
        "pivotAggregation": null,
        "pivotColumns": null,
        "xColumns": null,
        "yColumns": null
       },
       "removedWidgets": [],
       "schema": [
        {
         "metadata": "{}",
         "name": "Age",
         "type": "\"string\""
        },
        {
         "metadata": "{}",
         "name": "count",
         "type": "\"long\""
        }
       ],
       "type": "table"
      }
     },
     "output_type": "display_data"
    },
    {
     "output_type": "display_data",
     "data": {
      "text/plain": [
       "Databricks visualization. Run in Databricks to view."
      ]
     },
     "metadata": {
      "application/vnd.databricks.v1.subcommand+json": {
       "baseErrorDetails": null,
       "bindings": {},
       "collapsed": false,
       "command": "%python\n__backend_agg_display_orig = display\n__backend_agg_dfs = []\ndef __backend_agg_display_new(df):\n    __backend_agg_df_modules = [\"pandas.core.frame\", \"databricks.koalas.frame\", \"pyspark.sql.dataframe\", \"pyspark.pandas.frame\", \"pyspark.sql.connect.dataframe\"]\n    if (type(df).__module__ in __backend_agg_df_modules and type(df).__name__ == 'DataFrame') or isinstance(df, list):\n        __backend_agg_dfs.append(df)\n\ndisplay = __backend_agg_display_new\n\ndef __backend_agg_user_code_fn():\n    import base64\n    exec(base64.standard_b64decode(\"YWdlX2NvdW50cyA9IHNwYXJrLnNxbCgiU0VMRUNUIEFnZSwgQ09VTlQoKikgQVMgY291bnQgRlJPTSBkYXRhX3RhYmxlIEdST1VQIEJZIEFnZSIpCmRpc3BsYXkoYWdlX2NvdW50cyk=\").decode())\n\ntry:\n    # run user code\n    __backend_agg_user_code_fn()\n\n    #reset display function\n    display = __backend_agg_display_orig\n\n    if len(__backend_agg_dfs) > 0:\n        # create a temp view\n        if type(__backend_agg_dfs[0]).__module__ == \"databricks.koalas.frame\":\n            # koalas dataframe\n            __backend_agg_dfs[0].to_spark().createOrReplaceTempView(\"DatabricksView344b91c\")\n        elif type(__backend_agg_dfs[0]).__module__ == \"pandas.core.frame\" or isinstance(__backend_agg_dfs[0], list):\n            # pandas dataframe\n            spark.createDataFrame(__backend_agg_dfs[0]).createOrReplaceTempView(\"DatabricksView344b91c\")\n        else:\n            __backend_agg_dfs[0].createOrReplaceTempView(\"DatabricksView344b91c\")\n        #run backend agg\n        display(spark.sql(\"\"\"WITH q AS (select * from DatabricksView344b91c) SELECT `Age`,SUM(`count`) `column_16dd2d4436`,`Age` FROM q GROUP BY `Age`\"\"\"))\n    else:\n        displayHTML(\"dataframe no longer exists. If you're using dataframe.display(), use display(dataframe) instead.\")\n\n\nfinally:\n    spark.sql(\"drop view if exists DatabricksView344b91c\")\n    display = __backend_agg_display_orig\n    del __backend_agg_display_new\n    del __backend_agg_display_orig\n    del __backend_agg_dfs\n    del __backend_agg_user_code_fn\n\n",
       "commandTitle": "Visualization 1",
       "commandType": "auto",
       "commandVersion": 0,
       "commentThread": [],
       "commentsVisible": false,
       "contentSha256Hex": null,
       "customPlotOptions": {
        "redashChart": [
         {
          "key": "type",
          "value": "CHART"
         },
         {
          "key": "options",
          "value": {
           "alignYAxesAtZero": true,
           "coefficient": 1,
           "columnConfigurationMap": {
            "series": {
             "column": "Age",
             "id": "column_16dd2d4447"
            },
            "x": {
             "column": "Age",
             "id": "column_16dd2d4435"
            },
            "y": [
             {
              "column": "count",
              "id": "column_16dd2d4436",
              "transform": "SUM"
             }
            ]
           },
           "dateTimeFormat": "DD/MM/YYYY HH:mm",
           "direction": {
            "type": "counterclockwise"
           },
           "error_y": {
            "type": "data",
            "visible": true
           },
           "globalSeriesType": "column",
           "isAggregationOn": true,
           "legend": {
            "traceorder": "normal"
           },
           "missingValuesAsZero": true,
           "numberFormat": "0,0.[00000]",
           "percentFormat": "0[.]00%",
           "series": {
            "error_y": {
             "type": "data",
             "visible": true
            },
            "stacking": "stack"
           },
           "seriesOptions": {
            "18-24": {
             "color": "#494949"
            },
            "35-44": {
             "color": "#494949"
            },
            "45-54": {
             "color": "#494949"
            },
            "55-64": {
             "color": "#494949"
            },
            "65+": {
             "color": "#494949"
            },
            "column_16dd2d4436": {
             "color": "#494949",
             "name": "count",
             "yAxis": 0
            }
           },
           "showDataLabels": false,
           "sizemode": "diameter",
           "sortX": true,
           "sortY": true,
           "swappedAxes": false,
           "textFormat": "",
           "useAggregationsUi": true,
           "valuesOptions": {},
           "version": 2,
           "xAxis": {
            "labels": {
             "enabled": true
            },
            "title": {
             "text": " "
            },
            "type": "-"
           },
           "yAxis": [
            {
             "title": {
              "text": " "
             },
             "type": "-"
            },
            {
             "opposite": true,
             "type": "-"
            }
           ]
          }
         }
        ]
       },
       "datasetPreviewNameToCmdIdMap": {},
       "diffDeletes": [],
       "diffInserts": [],
       "displayType": "redashChart",
       "error": null,
       "errorDetails": null,
       "errorSummary": null,
       "errorTraceType": null,
       "finishTime": 0,
       "globalVars": {},
       "guid": "",
       "height": "auto",
       "hideCommandCode": false,
       "hideCommandResult": false,
       "iPythonMetadata": null,
       "inputWidgets": {},
       "isLockedInExamMode": false,
       "latestUser": "a user",
       "latestUserId": null,
       "listResultMetadata": null,
       "metadata": {
        "byteLimit": 2048000,
        "rowLimit": 10000
       },
       "nuid": "c718731f-1661-4300-a271-937c3ef264ee",
       "origId": 0,
       "parentHierarchy": [],
       "pivotAggregation": null,
       "pivotColumns": null,
       "position": 8.0,
       "resultDbfsErrorMessage": null,
       "resultDbfsStatus": "INLINED_IN_TREE",
       "results": null,
       "showCommandTitle": false,
       "startTime": 0,
       "state": "finished",
       "streamStates": {},
       "subcommandOptions": {
        "queryPlan": {
         "groups": [
          {
           "column": "Age",
           "type": "column"
          },
          {
           "column": "Age",
           "type": "column"
          }
         ],
         "selects": [
          {
           "column": "Age",
           "type": "column"
          },
          {
           "alias": "column_16dd2d4436",
           "args": [
            {
             "column": "count",
             "type": "column"
            }
           ],
           "function": "SUM",
           "type": "function"
          },
          {
           "column": "Age",
           "type": "column"
          }
         ]
        }
       },
       "submitTime": 0,
       "subtype": "tableResultSubCmd.visualization",
       "tableResultIndex": 0,
       "useConsistentColors": false,
       "version": "CommandV1",
       "width": "auto",
       "workflows": [],
       "xColumns": null,
       "yColumns": null
      }
     },
     "output_type": "display_data"
    }
   ],
   "source": [
    "age_counts = spark.sql(\"SELECT Age, COUNT(*) AS count FROM data_table GROUP BY Age\")\n",
    "display(age_counts)"
   ]
  },
  {
   "cell_type": "code",
   "execution_count": 0,
   "metadata": {
    "application/vnd.databricks.v1+cell": {
     "cellMetadata": {
      "byteLimit": 2048000,
      "rowLimit": 10000
     },
     "inputWidgets": {},
     "nuid": "6e909ad0-c21a-4bc7-b86c-1f8f10d77f4c",
     "showTitle": false,
     "title": ""
    }
   },
   "outputs": [
    {
     "output_type": "display_data",
     "data": {
      "text/html": [
       "<style scoped>\n",
       "  .table-result-container {\n",
       "    max-height: 300px;\n",
       "    overflow: auto;\n",
       "  }\n",
       "  table, th, td {\n",
       "    border: 1px solid black;\n",
       "    border-collapse: collapse;\n",
       "  }\n",
       "  th, td {\n",
       "    padding: 5px;\n",
       "  }\n",
       "  th {\n",
       "    text-align: left;\n",
       "  }\n",
       "</style><div class='table-result-container'><table class='table-result'><thead style='background-color: white'><tr><th>Device Usage</th><th>count</th></tr></thead><tbody><tr><td>Desktop Only</td><td>262</td></tr><tr><td>Mobile + Desktop</td><td>250</td></tr><tr><td>Mobile Only</td><td>253</td></tr><tr><td>Tablet</td><td>235</td></tr></tbody></table></div>"
      ]
     },
     "metadata": {
      "application/vnd.databricks.v1+output": {
       "addedWidgets": {},
       "aggData": [],
       "aggError": "",
       "aggOverflow": false,
       "aggSchema": [],
       "aggSeriesLimitReached": false,
       "aggType": "",
       "arguments": {},
       "columnCustomDisplayInfos": {},
       "data": [
        [
         "Desktop Only",
         262
        ],
        [
         "Mobile + Desktop",
         250
        ],
        [
         "Mobile Only",
         253
        ],
        [
         "Tablet",
         235
        ]
       ],
       "datasetInfos": [],
       "dbfsResultPath": null,
       "isJsonSchema": true,
       "metadata": {},
       "overflow": false,
       "plotOptions": {
        "customPlotOptions": {},
        "displayType": "table",
        "pivotAggregation": null,
        "pivotColumns": null,
        "xColumns": null,
        "yColumns": null
       },
       "removedWidgets": [],
       "schema": [
        {
         "metadata": "{}",
         "name": "Device Usage",
         "type": "\"string\""
        },
        {
         "metadata": "{}",
         "name": "count",
         "type": "\"long\""
        }
       ],
       "type": "table"
      }
     },
     "output_type": "display_data"
    },
    {
     "output_type": "display_data",
     "data": {
      "text/plain": [
       "Databricks visualization. Run in Databricks to view."
      ]
     },
     "metadata": {
      "application/vnd.databricks.v1.subcommand+json": {
       "baseErrorDetails": null,
       "bindings": {},
       "collapsed": false,
       "command": "%python\n__backend_agg_display_orig = display\n__backend_agg_dfs = []\ndef __backend_agg_display_new(df):\n    __backend_agg_df_modules = [\"pandas.core.frame\", \"databricks.koalas.frame\", \"pyspark.sql.dataframe\", \"pyspark.pandas.frame\", \"pyspark.sql.connect.dataframe\"]\n    if (type(df).__module__ in __backend_agg_df_modules and type(df).__name__ == 'DataFrame') or isinstance(df, list):\n        __backend_agg_dfs.append(df)\n\ndisplay = __backend_agg_display_new\n\ndef __backend_agg_user_code_fn():\n    import base64\n    exec(base64.standard_b64decode(\"ZGV2aWNlX3VzYWdlX2Rpc3RyaWJ1dGlvbiA9IHNwYXJrLnNxbCgiIiIKICAgIFNFTEVDVCBgRGV2aWNlIFVzYWdlYCwgQ09VTlQoKikgQVMgY291bnQKICAgIEZST00gZGF0YV90YWJsZQogICAgR1JPVVAgQlkgYERldmljZSBVc2FnZWAKIiIiKQpkaXNwbGF5KGRldmljZV91c2FnZV9kaXN0cmlidXRpb24p\").decode())\n\ntry:\n    # run user code\n    __backend_agg_user_code_fn()\n\n    #reset display function\n    display = __backend_agg_display_orig\n\n    if len(__backend_agg_dfs) > 0:\n        # create a temp view\n        if type(__backend_agg_dfs[0]).__module__ == \"databricks.koalas.frame\":\n            # koalas dataframe\n            __backend_agg_dfs[0].to_spark().createOrReplaceTempView(\"DatabricksView7cb2cb2\")\n        elif type(__backend_agg_dfs[0]).__module__ == \"pandas.core.frame\" or isinstance(__backend_agg_dfs[0], list):\n            # pandas dataframe\n            spark.createDataFrame(__backend_agg_dfs[0]).createOrReplaceTempView(\"DatabricksView7cb2cb2\")\n        else:\n            __backend_agg_dfs[0].createOrReplaceTempView(\"DatabricksView7cb2cb2\")\n        #run backend agg\n        display(spark.sql(\"\"\"WITH q AS (select * from DatabricksView7cb2cb2) SELECT `Device Usage`,SUM(`count`) `column_16dd2d4465`,`Device Usage` FROM q GROUP BY `Device Usage`\"\"\"))\n    else:\n        displayHTML(\"dataframe no longer exists. If you're using dataframe.display(), use display(dataframe) instead.\")\n\n\nfinally:\n    spark.sql(\"drop view if exists DatabricksView7cb2cb2\")\n    display = __backend_agg_display_orig\n    del __backend_agg_display_new\n    del __backend_agg_display_orig\n    del __backend_agg_dfs\n    del __backend_agg_user_code_fn\n\n",
       "commandTitle": "Visualization 1",
       "commandType": "auto",
       "commandVersion": 0,
       "commentThread": [],
       "commentsVisible": false,
       "contentSha256Hex": null,
       "customPlotOptions": {
        "redashChart": [
         {
          "key": "type",
          "value": "CHART"
         },
         {
          "key": "options",
          "value": {
           "alignYAxesAtZero": true,
           "coefficient": 1,
           "columnConfigurationMap": {
            "series": {
             "column": "Device Usage",
             "id": "column_16dd2d4467"
            },
            "x": {
             "column": "Device Usage",
             "id": "column_16dd2d4464"
            },
            "y": [
             {
              "column": "count",
              "id": "column_16dd2d4465",
              "transform": "SUM"
             }
            ]
           },
           "dateTimeFormat": "DD/MM/YYYY HH:mm",
           "direction": {
            "type": "counterclockwise"
           },
           "error_y": {
            "type": "data",
            "visible": true
           },
           "globalSeriesType": "column",
           "isAggregationOn": true,
           "legend": {
            "traceorder": "normal"
           },
           "missingValuesAsZero": true,
           "numberFormat": "0,0.[00000]",
           "percentFormat": "0[.]00%",
           "series": {
            "error_y": {
             "type": "data",
             "visible": true
            },
            "stacking": "stack"
           },
           "seriesOptions": {
            "Desktop Only": {
             "color": "#E92828"
            },
            "Mobile + Desktop": {
             "color": "#494949"
            },
            "Mobile Only": {
             "color": "#494949"
            },
            "Tablet": {
             "color": "#494949"
            },
            "column_16dd2d4465": {
             "name": "count",
             "yAxis": 0
            }
           },
           "showDataLabels": false,
           "sizemode": "diameter",
           "sortX": true,
           "sortY": true,
           "swappedAxes": false,
           "textFormat": "",
           "useAggregationsUi": true,
           "valuesOptions": {},
           "version": 2,
           "xAxis": {
            "labels": {
             "enabled": true
            },
            "title": {
             "text": " "
            },
            "type": "-"
           },
           "yAxis": [
            {
             "title": {
              "text": " "
             },
             "type": "-"
            },
            {
             "opposite": true,
             "type": "-"
            }
           ]
          }
         }
        ]
       },
       "datasetPreviewNameToCmdIdMap": {},
       "diffDeletes": [],
       "diffInserts": [],
       "displayType": "redashChart",
       "error": null,
       "errorDetails": null,
       "errorSummary": null,
       "errorTraceType": null,
       "finishTime": 0,
       "globalVars": {},
       "guid": "",
       "height": "auto",
       "hideCommandCode": false,
       "hideCommandResult": false,
       "iPythonMetadata": null,
       "inputWidgets": {},
       "isLockedInExamMode": false,
       "latestUser": "a user",
       "latestUserId": null,
       "listResultMetadata": null,
       "metadata": {
        "byteLimit": 2048000,
        "rowLimit": 10000
       },
       "nuid": "dca46d96-33b5-4ff8-90ad-ddaa8378f211",
       "origId": 0,
       "parentHierarchy": [],
       "pivotAggregation": null,
       "pivotColumns": null,
       "position": 9.0,
       "resultDbfsErrorMessage": null,
       "resultDbfsStatus": "INLINED_IN_TREE",
       "results": null,
       "showCommandTitle": false,
       "startTime": 0,
       "state": "finished",
       "streamStates": {},
       "subcommandOptions": {
        "queryPlan": {
         "groups": [
          {
           "column": "Device Usage",
           "type": "column"
          },
          {
           "column": "Device Usage",
           "type": "column"
          }
         ],
         "selects": [
          {
           "column": "Device Usage",
           "type": "column"
          },
          {
           "alias": "column_16dd2d4465",
           "args": [
            {
             "column": "count",
             "type": "column"
            }
           ],
           "function": "SUM",
           "type": "function"
          },
          {
           "column": "Device Usage",
           "type": "column"
          }
         ]
        }
       },
       "submitTime": 0,
       "subtype": "tableResultSubCmd.visualization",
       "tableResultIndex": 0,
       "useConsistentColors": false,
       "version": "CommandV1",
       "width": "auto",
       "workflows": [],
       "xColumns": null,
       "yColumns": null
      }
     },
     "output_type": "display_data"
    }
   ],
   "source": [
    "device_usage_distribution = spark.sql(\"\"\"\n",
    "    SELECT `Device Usage`, COUNT(*) AS count\n",
    "    FROM data_table\n",
    "    GROUP BY `Device Usage`\n",
    "\"\"\")\n",
    "display(device_usage_distribution)"
   ]
  },
  {
   "cell_type": "code",
   "execution_count": 0,
   "metadata": {
    "application/vnd.databricks.v1+cell": {
     "cellMetadata": {
      "byteLimit": 2048000,
      "rowLimit": 10000
     },
     "inputWidgets": {},
     "nuid": "2ef06a05-8769-4f2d-9ed9-0829861fafc6",
     "showTitle": false,
     "title": ""
    }
   },
   "outputs": [
    {
     "output_type": "display_data",
     "data": {
      "text/html": [
       "<style scoped>\n",
       "  .table-result-container {\n",
       "    max-height: 300px;\n",
       "    overflow: auto;\n",
       "  }\n",
       "  table, th, td {\n",
       "    border: 1px solid black;\n",
       "    border-collapse: collapse;\n",
       "  }\n",
       "  th, td {\n",
       "    padding: 5px;\n",
       "  }\n",
       "  th {\n",
       "    text-align: left;\n",
       "  }\n",
       "</style><div class='table-result-container'><table class='table-result'><thead style='background-color: white'><tr><th>Time Spent Online (hrs/weekday)</th><th>count</th></tr></thead><tbody><tr><td>2.4</td><td>21</td></tr><tr><td>3.5</td><td>33</td></tr><tr><td>2.9</td><td>22</td></tr><tr><td>3.7</td><td>25</td></tr><tr><td>4.5</td><td>27</td></tr><tr><td>1.4</td><td>20</td></tr><tr><td>1.7</td><td>28</td></tr><tr><td>0.7</td><td>19</td></tr><tr><td>2.3</td><td>20</td></tr><tr><td>3.4</td><td>17</td></tr><tr><td>4.9</td><td>16</td></tr><tr><td>2.5</td><td>26</td></tr><tr><td>1.0</td><td>22</td></tr><tr><td>0.6</td><td>23</td></tr><tr><td>3.1</td><td>17</td></tr><tr><td>2.7</td><td>25</td></tr><tr><td>0.8</td><td>28</td></tr><tr><td>4.1</td><td>29</td></tr><tr><td>2.2</td><td>25</td></tr><tr><td>2.8</td><td>33</td></tr><tr><td>4.0</td><td>19</td></tr><tr><td>1.9</td><td>26</td></tr><tr><td>3.9</td><td>24</td></tr><tr><td>0.5</td><td>18</td></tr><tr><td>3.8</td><td>27</td></tr><tr><td>4.2</td><td>15</td></tr><tr><td>1.3</td><td>19</td></tr><tr><td>4.3</td><td>23</td></tr><tr><td>4.7</td><td>17</td></tr><tr><td>3.2</td><td>29</td></tr><tr><td>1.6</td><td>18</td></tr><tr><td>3.0</td><td>22</td></tr><tr><td>2.0</td><td>18</td></tr><tr><td>1.1</td><td>15</td></tr><tr><td>1.2</td><td>16</td></tr><tr><td>0.9</td><td>18</td></tr><tr><td>1.5</td><td>15</td></tr><tr><td>1.8</td><td>28</td></tr><tr><td>2.6</td><td>17</td></tr><tr><td>4.8</td><td>17</td></tr><tr><td>4.4</td><td>24</td></tr><tr><td>4.6</td><td>22</td></tr><tr><td>3.6</td><td>21</td></tr><tr><td>5.0</td><td>13</td></tr><tr><td>2.1</td><td>23</td></tr><tr><td>3.3</td><td>20</td></tr></tbody></table></div>"
      ]
     },
     "metadata": {
      "application/vnd.databricks.v1+output": {
       "addedWidgets": {},
       "aggData": [],
       "aggError": "",
       "aggOverflow": false,
       "aggSchema": [],
       "aggSeriesLimitReached": false,
       "aggType": "",
       "arguments": {},
       "columnCustomDisplayInfos": {},
       "data": [
        [
         2.4,
         21
        ],
        [
         3.5,
         33
        ],
        [
         2.9,
         22
        ],
        [
         3.7,
         25
        ],
        [
         4.5,
         27
        ],
        [
         1.4,
         20
        ],
        [
         1.7,
         28
        ],
        [
         0.7,
         19
        ],
        [
         2.3,
         20
        ],
        [
         3.4,
         17
        ],
        [
         4.9,
         16
        ],
        [
         2.5,
         26
        ],
        [
         1.0,
         22
        ],
        [
         0.6,
         23
        ],
        [
         3.1,
         17
        ],
        [
         2.7,
         25
        ],
        [
         0.8,
         28
        ],
        [
         4.1,
         29
        ],
        [
         2.2,
         25
        ],
        [
         2.8,
         33
        ],
        [
         4.0,
         19
        ],
        [
         1.9,
         26
        ],
        [
         3.9,
         24
        ],
        [
         0.5,
         18
        ],
        [
         3.8,
         27
        ],
        [
         4.2,
         15
        ],
        [
         1.3,
         19
        ],
        [
         4.3,
         23
        ],
        [
         4.7,
         17
        ],
        [
         3.2,
         29
        ],
        [
         1.6,
         18
        ],
        [
         3.0,
         22
        ],
        [
         2.0,
         18
        ],
        [
         1.1,
         15
        ],
        [
         1.2,
         16
        ],
        [
         0.9,
         18
        ],
        [
         1.5,
         15
        ],
        [
         1.8,
         28
        ],
        [
         2.6,
         17
        ],
        [
         4.8,
         17
        ],
        [
         4.4,
         24
        ],
        [
         4.6,
         22
        ],
        [
         3.6,
         21
        ],
        [
         5.0,
         13
        ],
        [
         2.1,
         23
        ],
        [
         3.3,
         20
        ]
       ],
       "datasetInfos": [],
       "dbfsResultPath": null,
       "isJsonSchema": true,
       "metadata": {},
       "overflow": false,
       "plotOptions": {
        "customPlotOptions": {},
        "displayType": "table",
        "pivotAggregation": null,
        "pivotColumns": null,
        "xColumns": null,
        "yColumns": null
       },
       "removedWidgets": [],
       "schema": [
        {
         "metadata": "{}",
         "name": "Time Spent Online (hrs/weekday)",
         "type": "\"double\""
        },
        {
         "metadata": "{}",
         "name": "count",
         "type": "\"long\""
        }
       ],
       "type": "table"
      }
     },
     "output_type": "display_data"
    },
    {
     "output_type": "display_data",
     "data": {
      "text/plain": [
       "Databricks visualization. Run in Databricks to view."
      ]
     },
     "metadata": {
      "application/vnd.databricks.v1.subcommand+json": {
       "baseErrorDetails": null,
       "bindings": {},
       "collapsed": false,
       "command": "%python\n__backend_agg_display_orig = display\n__backend_agg_dfs = []\ndef __backend_agg_display_new(df):\n    __backend_agg_df_modules = [\"pandas.core.frame\", \"databricks.koalas.frame\", \"pyspark.sql.dataframe\", \"pyspark.pandas.frame\", \"pyspark.sql.connect.dataframe\"]\n    if (type(df).__module__ in __backend_agg_df_modules and type(df).__name__ == 'DataFrame') or isinstance(df, list):\n        __backend_agg_dfs.append(df)\n\ndisplay = __backend_agg_display_new\n\ndef __backend_agg_user_code_fn():\n    import base64\n    exec(base64.standard_b64decode(\"IyBDb3JyZWN0ZWQgU1FMIHF1ZXJpZXMKd2Vla2RheV9xdWVyeSA9ICIiIgogICAgU0VMRUNUCiAgICAgICAgYFRpbWUgU3BlbnQgT25saW5lIChocnMvd2Vla2RheSlgIEFTIGBUaW1lIFNwZW50IE9ubGluZSAoaHJzL3dlZWtkYXkpYCwKICAgICAgICBDT1VOVCgqKSBBUyBjb3VudAogICAgRlJPTQogICAgICAgIGRhdGFfdGFibGUKICAgIEdST1VQIEJZIGBUaW1lIFNwZW50IE9ubGluZSAoaHJzL3dlZWtkYXkpYAoiIiIKCndlZWtlbmRfcXVlcnkgPSAiIiIKICAgIFNFTEVDVAogICAgICAgIGBUaW1lIFNwZW50IE9ubGluZSAoaHJzL3dlZWtlbmQpYCBBUyBgVGltZSBTcGVudCBPbmxpbmUgKGhycy93ZWVrZW5kKWAsCiAgICAgICAgQ09VTlQoKikgQVMgY291bnQKICAgIEZST00KICAgICAgICBkYXRhX3RhYmxlCiAgICBHUk9VUCBCWSBgVGltZSBTcGVudCBPbmxpbmUgKGhycy93ZWVrZW5kKWAKIiIiCgojIEV4ZWN1dGUgcXVlcmllcyB1c2luZyBTcGFyayBTUUwKd2Vla2RheV9yZXN1bHQgPSBzcGFyay5zcWwod2Vla2RheV9xdWVyeSkKd2Vla2VuZF9yZXN1bHQgPSBzcGFyay5zcWwod2Vla2VuZF9xdWVyeSkKCiMgRGlzcGxheSByZXN1bHRzIGFzIHRhYmxlcwpkaXNwbGF5KHdlZWtkYXlfcmVzdWx0KQpkaXNwbGF5KHdlZWtlbmRfcmVzdWx0KQ==\").decode())\n\ntry:\n    # run user code\n    __backend_agg_user_code_fn()\n\n    #reset display function\n    display = __backend_agg_display_orig\n\n    if len(__backend_agg_dfs) > 0:\n        # create a temp view\n        if type(__backend_agg_dfs[0]).__module__ == \"databricks.koalas.frame\":\n            # koalas dataframe\n            __backend_agg_dfs[0].to_spark().createOrReplaceTempView(\"DatabricksView7542b5f\")\n        elif type(__backend_agg_dfs[0]).__module__ == \"pandas.core.frame\" or isinstance(__backend_agg_dfs[0], list):\n            # pandas dataframe\n            spark.createDataFrame(__backend_agg_dfs[0]).createOrReplaceTempView(\"DatabricksView7542b5f\")\n        else:\n            __backend_agg_dfs[0].createOrReplaceTempView(\"DatabricksView7542b5f\")\n        #run backend agg\n        display(spark.sql(\"\"\"WITH q AS (select * from DatabricksView7542b5f) SELECT `Time Spent Online (hrs/weekday)`,SUM(`count`) `column_16dd2d4478` FROM q GROUP BY `Time Spent Online (hrs/weekday)`\"\"\"))\n    else:\n        displayHTML(\"dataframe no longer exists. If you're using dataframe.display(), use display(dataframe) instead.\")\n\n\nfinally:\n    spark.sql(\"drop view if exists DatabricksView7542b5f\")\n    display = __backend_agg_display_orig\n    del __backend_agg_display_new\n    del __backend_agg_display_orig\n    del __backend_agg_dfs\n    del __backend_agg_user_code_fn\n\n",
       "commandTitle": "Visualization 1",
       "commandType": "auto",
       "commandVersion": 0,
       "commentThread": [],
       "commentsVisible": false,
       "contentSha256Hex": null,
       "customPlotOptions": {
        "redashChart": [
         {
          "key": "type",
          "value": "CHART"
         },
         {
          "key": "options",
          "value": {
           "alignYAxesAtZero": true,
           "coefficient": 1,
           "columnConfigurationMap": {
            "x": {
             "column": "Time Spent Online (hrs/weekday)",
             "id": "column_16dd2d4477"
            },
            "y": [
             {
              "column": "count",
              "id": "column_16dd2d4478",
              "transform": "SUM"
             }
            ]
           },
           "dateTimeFormat": "DD/MM/YYYY HH:mm",
           "direction": {
            "type": "counterclockwise"
           },
           "error_y": {
            "type": "data",
            "visible": true
           },
           "globalSeriesType": "area",
           "isAggregationOn": true,
           "legend": {
            "traceorder": "normal"
           },
           "missingValuesAsZero": true,
           "numberFormat": "0,0.[00000]",
           "percentFormat": "0[.]00%",
           "series": {
            "error_y": {
             "type": "data",
             "visible": true
            },
            "stacking": null
           },
           "seriesOptions": {
            "column_16dd2d4478": {
             "color": "#604FE9",
             "name": "count",
             "type": "area",
             "yAxis": 0
            }
           },
           "showDataLabels": false,
           "sizemode": "diameter",
           "sortX": true,
           "sortY": true,
           "swappedAxes": false,
           "textFormat": "",
           "useAggregationsUi": true,
           "valuesOptions": {},
           "version": 2,
           "xAxis": {
            "labels": {
             "enabled": true
            },
            "type": "-"
           },
           "yAxis": [
            {
             "type": "-"
            },
            {
             "opposite": true,
             "type": "-"
            }
           ]
          }
         }
        ]
       },
       "datasetPreviewNameToCmdIdMap": {},
       "diffDeletes": [],
       "diffInserts": [],
       "displayType": "redashChart",
       "error": null,
       "errorDetails": null,
       "errorSummary": null,
       "errorTraceType": null,
       "finishTime": 0,
       "globalVars": {},
       "guid": "",
       "height": "auto",
       "hideCommandCode": false,
       "hideCommandResult": false,
       "iPythonMetadata": null,
       "inputWidgets": {},
       "isLockedInExamMode": false,
       "latestUser": "a user",
       "latestUserId": null,
       "listResultMetadata": null,
       "metadata": {
        "byteLimit": 2048000,
        "rowLimit": 10000
       },
       "nuid": "d01b3573-7299-4422-9eac-60dc5d66a6c9",
       "origId": 0,
       "parentHierarchy": [],
       "pivotAggregation": null,
       "pivotColumns": null,
       "position": 10.0,
       "resultDbfsErrorMessage": null,
       "resultDbfsStatus": "INLINED_IN_TREE",
       "results": null,
       "showCommandTitle": false,
       "startTime": 0,
       "state": "finished",
       "streamStates": {},
       "subcommandOptions": {
        "queryPlan": {
         "groups": [
          {
           "column": "Time Spent Online (hrs/weekday)",
           "type": "column"
          }
         ],
         "selects": [
          {
           "column": "Time Spent Online (hrs/weekday)",
           "type": "column"
          },
          {
           "alias": "column_16dd2d4478",
           "args": [
            {
             "column": "count",
             "type": "column"
            }
           ],
           "function": "SUM",
           "type": "function"
          }
         ]
        }
       },
       "submitTime": 0,
       "subtype": "tableResultSubCmd.visualization",
       "tableResultIndex": 0,
       "useConsistentColors": false,
       "version": "CommandV1",
       "width": "auto",
       "workflows": [],
       "xColumns": null,
       "yColumns": null
      }
     },
     "output_type": "display_data"
    },
    {
     "output_type": "display_data",
     "data": {
      "text/html": [
       "<style scoped>\n",
       "  .table-result-container {\n",
       "    max-height: 300px;\n",
       "    overflow: auto;\n",
       "  }\n",
       "  table, th, td {\n",
       "    border: 1px solid black;\n",
       "    border-collapse: collapse;\n",
       "  }\n",
       "  th, td {\n",
       "    padding: 5px;\n",
       "  }\n",
       "  th {\n",
       "    text-align: left;\n",
       "  }\n",
       "</style><div class='table-result-container'><table class='table-result'><thead style='background-color: white'><tr><th>Time Spent Online (hrs/weekend)</th><th>count</th></tr></thead><tbody><tr><td>2.4</td><td>10</td></tr><tr><td>8.0</td><td>4</td></tr><tr><td>5.4</td><td>14</td></tr><tr><td>7.0</td><td>17</td></tr><tr><td>3.5</td><td>8</td></tr><tr><td>6.1</td><td>21</td></tr><tr><td>7.7</td><td>20</td></tr><tr><td>6.6</td><td>13</td></tr><tr><td>2.9</td><td>16</td></tr><tr><td>3.7</td><td>11</td></tr><tr><td>4.5</td><td>13</td></tr><tr><td>5.7</td><td>16</td></tr><tr><td>1.4</td><td>14</td></tr><tr><td>1.7</td><td>19</td></tr><tr><td>6.7</td><td>16</td></tr><tr><td>7.4</td><td>12</td></tr><tr><td>2.3</td><td>12</td></tr><tr><td>6.5</td><td>16</td></tr><tr><td>3.4</td><td>17</td></tr><tr><td>4.9</td><td>21</td></tr><tr><td>2.5</td><td>8</td></tr><tr><td>1.0</td><td>3</td></tr><tr><td>3.1</td><td>18</td></tr><tr><td>2.7</td><td>14</td></tr><tr><td>4.1</td><td>20</td></tr><tr><td>2.2</td><td>12</td></tr><tr><td>2.8</td><td>16</td></tr><tr><td>7.5</td><td>17</td></tr><tr><td>4.0</td><td>11</td></tr><tr><td>1.9</td><td>20</td></tr><tr><td>3.9</td><td>17</td></tr><tr><td>6.2</td><td>16</td></tr><tr><td>3.8</td><td>16</td></tr><tr><td>5.1</td><td>12</td></tr><tr><td>4.2</td><td>11</td></tr><tr><td>1.3</td><td>15</td></tr><tr><td>7.3</td><td>13</td></tr><tr><td>4.3</td><td>10</td></tr><tr><td>7.9</td><td>19</td></tr><tr><td>4.7</td><td>12</td></tr><tr><td>5.3</td><td>15</td></tr><tr><td>3.2</td><td>14</td></tr><tr><td>7.2</td><td>19</td></tr><tr><td>1.6</td><td>14</td></tr><tr><td>7.6</td><td>10</td></tr><tr><td>3.0</td><td>14</td></tr><tr><td>2.0</td><td>14</td></tr><tr><td>1.1</td><td>17</td></tr><tr><td>1.2</td><td>11</td></tr><tr><td>6.9</td><td>22</td></tr><tr><td>1.8</td><td>16</td></tr><tr><td>1.5</td><td>9</td></tr><tr><td>6.8</td><td>16</td></tr><tr><td>7.8</td><td>11</td></tr><tr><td>6.3</td><td>12</td></tr><tr><td>2.6</td><td>15</td></tr><tr><td>4.4</td><td>18</td></tr><tr><td>4.8</td><td>8</td></tr><tr><td>5.9</td><td>16</td></tr><tr><td>5.2</td><td>10</td></tr><tr><td>4.6</td><td>12</td></tr><tr><td>6.4</td><td>16</td></tr><tr><td>6.0</td><td>14</td></tr><tr><td>3.6</td><td>10</td></tr><tr><td>5.0</td><td>15</td></tr><tr><td>2.1</td><td>8</td></tr><tr><td>5.8</td><td>17</td></tr><tr><td>5.5</td><td>12</td></tr><tr><td>3.3</td><td>15</td></tr><tr><td>7.1</td><td>14</td></tr><tr><td>5.6</td><td>16</td></tr></tbody></table></div>"
      ]
     },
     "metadata": {
      "application/vnd.databricks.v1+output": {
       "addedWidgets": {},
       "aggData": [],
       "aggError": "",
       "aggOverflow": false,
       "aggSchema": [],
       "aggSeriesLimitReached": false,
       "aggType": "",
       "arguments": {},
       "columnCustomDisplayInfos": {},
       "data": [
        [
         2.4,
         10
        ],
        [
         8.0,
         4
        ],
        [
         5.4,
         14
        ],
        [
         7.0,
         17
        ],
        [
         3.5,
         8
        ],
        [
         6.1,
         21
        ],
        [
         7.7,
         20
        ],
        [
         6.6,
         13
        ],
        [
         2.9,
         16
        ],
        [
         3.7,
         11
        ],
        [
         4.5,
         13
        ],
        [
         5.7,
         16
        ],
        [
         1.4,
         14
        ],
        [
         1.7,
         19
        ],
        [
         6.7,
         16
        ],
        [
         7.4,
         12
        ],
        [
         2.3,
         12
        ],
        [
         6.5,
         16
        ],
        [
         3.4,
         17
        ],
        [
         4.9,
         21
        ],
        [
         2.5,
         8
        ],
        [
         1.0,
         3
        ],
        [
         3.1,
         18
        ],
        [
         2.7,
         14
        ],
        [
         4.1,
         20
        ],
        [
         2.2,
         12
        ],
        [
         2.8,
         16
        ],
        [
         7.5,
         17
        ],
        [
         4.0,
         11
        ],
        [
         1.9,
         20
        ],
        [
         3.9,
         17
        ],
        [
         6.2,
         16
        ],
        [
         3.8,
         16
        ],
        [
         5.1,
         12
        ],
        [
         4.2,
         11
        ],
        [
         1.3,
         15
        ],
        [
         7.3,
         13
        ],
        [
         4.3,
         10
        ],
        [
         7.9,
         19
        ],
        [
         4.7,
         12
        ],
        [
         5.3,
         15
        ],
        [
         3.2,
         14
        ],
        [
         7.2,
         19
        ],
        [
         1.6,
         14
        ],
        [
         7.6,
         10
        ],
        [
         3.0,
         14
        ],
        [
         2.0,
         14
        ],
        [
         1.1,
         17
        ],
        [
         1.2,
         11
        ],
        [
         6.9,
         22
        ],
        [
         1.8,
         16
        ],
        [
         1.5,
         9
        ],
        [
         6.8,
         16
        ],
        [
         7.8,
         11
        ],
        [
         6.3,
         12
        ],
        [
         2.6,
         15
        ],
        [
         4.4,
         18
        ],
        [
         4.8,
         8
        ],
        [
         5.9,
         16
        ],
        [
         5.2,
         10
        ],
        [
         4.6,
         12
        ],
        [
         6.4,
         16
        ],
        [
         6.0,
         14
        ],
        [
         3.6,
         10
        ],
        [
         5.0,
         15
        ],
        [
         2.1,
         8
        ],
        [
         5.8,
         17
        ],
        [
         5.5,
         12
        ],
        [
         3.3,
         15
        ],
        [
         7.1,
         14
        ],
        [
         5.6,
         16
        ]
       ],
       "datasetInfos": [],
       "dbfsResultPath": null,
       "isJsonSchema": true,
       "metadata": {},
       "overflow": false,
       "plotOptions": {
        "customPlotOptions": {},
        "displayType": "table",
        "pivotAggregation": null,
        "pivotColumns": null,
        "xColumns": null,
        "yColumns": null
       },
       "removedWidgets": [],
       "schema": [
        {
         "metadata": "{}",
         "name": "Time Spent Online (hrs/weekend)",
         "type": "\"double\""
        },
        {
         "metadata": "{}",
         "name": "count",
         "type": "\"long\""
        }
       ],
       "type": "table"
      }
     },
     "output_type": "display_data"
    },
    {
     "output_type": "display_data",
     "data": {
      "text/plain": [
       "Databricks visualization. Run in Databricks to view."
      ]
     },
     "metadata": {
      "application/vnd.databricks.v1.subcommand+json": {
       "baseErrorDetails": null,
       "bindings": {},
       "collapsed": false,
       "command": "%python\n__backend_agg_display_orig = display\n__backend_agg_dfs = []\ndef __backend_agg_display_new(df):\n    __backend_agg_df_modules = [\"pandas.core.frame\", \"databricks.koalas.frame\", \"pyspark.sql.dataframe\", \"pyspark.pandas.frame\", \"pyspark.sql.connect.dataframe\"]\n    if (type(df).__module__ in __backend_agg_df_modules and type(df).__name__ == 'DataFrame') or isinstance(df, list):\n        __backend_agg_dfs.append(df)\n\ndisplay = __backend_agg_display_new\n\ndef __backend_agg_user_code_fn():\n    import base64\n    exec(base64.standard_b64decode(\"IyBDb3JyZWN0ZWQgU1FMIHF1ZXJpZXMKd2Vla2RheV9xdWVyeSA9ICIiIgogICAgU0VMRUNUCiAgICAgICAgYFRpbWUgU3BlbnQgT25saW5lIChocnMvd2Vla2RheSlgIEFTIGBUaW1lIFNwZW50IE9ubGluZSAoaHJzL3dlZWtkYXkpYCwKICAgICAgICBDT1VOVCgqKSBBUyBjb3VudAogICAgRlJPTQogICAgICAgIGRhdGFfdGFibGUKICAgIEdST1VQIEJZIGBUaW1lIFNwZW50IE9ubGluZSAoaHJzL3dlZWtkYXkpYAoiIiIKCndlZWtlbmRfcXVlcnkgPSAiIiIKICAgIFNFTEVDVAogICAgICAgIGBUaW1lIFNwZW50IE9ubGluZSAoaHJzL3dlZWtlbmQpYCBBUyBgVGltZSBTcGVudCBPbmxpbmUgKGhycy93ZWVrZW5kKWAsCiAgICAgICAgQ09VTlQoKikgQVMgY291bnQKICAgIEZST00KICAgICAgICBkYXRhX3RhYmxlCiAgICBHUk9VUCBCWSBgVGltZSBTcGVudCBPbmxpbmUgKGhycy93ZWVrZW5kKWAKIiIiCgojIEV4ZWN1dGUgcXVlcmllcyB1c2luZyBTcGFyayBTUUwKd2Vla2RheV9yZXN1bHQgPSBzcGFyay5zcWwod2Vla2RheV9xdWVyeSkKd2Vla2VuZF9yZXN1bHQgPSBzcGFyay5zcWwod2Vla2VuZF9xdWVyeSkKCiMgRGlzcGxheSByZXN1bHRzIGFzIHRhYmxlcwpkaXNwbGF5KHdlZWtkYXlfcmVzdWx0KQpkaXNwbGF5KHdlZWtlbmRfcmVzdWx0KQ==\").decode())\n\ntry:\n    # run user code\n    __backend_agg_user_code_fn()\n\n    #reset display function\n    display = __backend_agg_display_orig\n\n    if len(__backend_agg_dfs) > 1:\n        # create a temp view\n        if type(__backend_agg_dfs[1]).__module__ == \"databricks.koalas.frame\":\n            # koalas dataframe\n            __backend_agg_dfs[1].to_spark().createOrReplaceTempView(\"DatabricksView844e9d9\")\n        elif type(__backend_agg_dfs[1]).__module__ == \"pandas.core.frame\" or isinstance(__backend_agg_dfs[1], list):\n            # pandas dataframe\n            spark.createDataFrame(__backend_agg_dfs[1]).createOrReplaceTempView(\"DatabricksView844e9d9\")\n        else:\n            __backend_agg_dfs[1].createOrReplaceTempView(\"DatabricksView844e9d9\")\n        #run backend agg\n        display(spark.sql(\"\"\"WITH q AS (select * from DatabricksView844e9d9) SELECT `Time Spent Online (hrs/weekend)`,SUM(`count`) `column_16dd2d4484` FROM q GROUP BY `Time Spent Online (hrs/weekend)`\"\"\"))\n    else:\n        displayHTML(\"dataframe no longer exists. If you're using dataframe.display(), use display(dataframe) instead.\")\n\n\nfinally:\n    spark.sql(\"drop view if exists DatabricksView844e9d9\")\n    display = __backend_agg_display_orig\n    del __backend_agg_display_new\n    del __backend_agg_display_orig\n    del __backend_agg_dfs\n    del __backend_agg_user_code_fn\n\n",
       "commandTitle": "Visualization 1",
       "commandType": "auto",
       "commandVersion": 0,
       "commentThread": [],
       "commentsVisible": false,
       "contentSha256Hex": null,
       "customPlotOptions": {
        "redashChart": [
         {
          "key": "type",
          "value": "CHART"
         },
         {
          "key": "options",
          "value": {
           "alignYAxesAtZero": true,
           "coefficient": 1,
           "columnConfigurationMap": {
            "x": {
             "column": "Time Spent Online (hrs/weekend)",
             "id": "column_16dd2d4483"
            },
            "y": [
             {
              "column": "count",
              "id": "column_16dd2d4484",
              "transform": "SUM"
             }
            ]
           },
           "dateTimeFormat": "DD/MM/YYYY HH:mm",
           "direction": {
            "type": "counterclockwise"
           },
           "error_y": {
            "type": "data",
            "visible": true
           },
           "globalSeriesType": "area",
           "isAggregationOn": true,
           "legend": {
            "traceorder": "normal"
           },
           "missingValuesAsZero": true,
           "numberFormat": "0,0.[00000]",
           "percentFormat": "0[.]00%",
           "series": {
            "error_y": {
             "type": "data",
             "visible": true
            },
            "stacking": null
           },
           "seriesOptions": {
            "column_16dd2d4484": {
             "color": "#B554FF",
             "name": "count",
             "type": "area",
             "yAxis": 0
            }
           },
           "showDataLabels": false,
           "sizemode": "diameter",
           "sortX": true,
           "sortY": true,
           "swappedAxes": false,
           "textFormat": "",
           "useAggregationsUi": true,
           "valuesOptions": {},
           "version": 2,
           "xAxis": {
            "labels": {
             "enabled": true
            },
            "type": "-"
           },
           "yAxis": [
            {
             "type": "-"
            },
            {
             "opposite": true,
             "type": "-"
            }
           ]
          }
         }
        ]
       },
       "datasetPreviewNameToCmdIdMap": {},
       "diffDeletes": [],
       "diffInserts": [],
       "displayType": "redashChart",
       "error": null,
       "errorDetails": null,
       "errorSummary": null,
       "errorTraceType": null,
       "finishTime": 0,
       "globalVars": {},
       "guid": "",
       "height": "auto",
       "hideCommandCode": false,
       "hideCommandResult": false,
       "iPythonMetadata": null,
       "inputWidgets": {},
       "isLockedInExamMode": false,
       "latestUser": "a user",
       "latestUserId": null,
       "listResultMetadata": null,
       "metadata": {
        "byteLimit": 2048000,
        "rowLimit": 10000
       },
       "nuid": "d787f682-66fd-478d-9c2e-7fd036fad091",
       "origId": 0,
       "parentHierarchy": [],
       "pivotAggregation": null,
       "pivotColumns": null,
       "position": 10.0,
       "resultDbfsErrorMessage": null,
       "resultDbfsStatus": "INLINED_IN_TREE",
       "results": null,
       "showCommandTitle": false,
       "startTime": 0,
       "state": "finished",
       "streamStates": {},
       "subcommandOptions": {
        "queryPlan": {
         "groups": [
          {
           "column": "Time Spent Online (hrs/weekend)",
           "type": "column"
          }
         ],
         "selects": [
          {
           "column": "Time Spent Online (hrs/weekend)",
           "type": "column"
          },
          {
           "alias": "column_16dd2d4484",
           "args": [
            {
             "column": "count",
             "type": "column"
            }
           ],
           "function": "SUM",
           "type": "function"
          }
         ]
        }
       },
       "submitTime": 0,
       "subtype": "tableResultSubCmd.visualization",
       "tableResultIndex": 1,
       "useConsistentColors": false,
       "version": "CommandV1",
       "width": "auto",
       "workflows": [],
       "xColumns": null,
       "yColumns": null
      }
     },
     "output_type": "display_data"
    }
   ],
   "source": [
    "# Corrected SQL queries\n",
    "weekday_query = \"\"\"\n",
    "    SELECT\n",
    "        `Time Spent Online (hrs/weekday)` AS `Time Spent Online (hrs/weekday)`,\n",
    "        COUNT(*) AS count\n",
    "    FROM\n",
    "        data_table\n",
    "    GROUP BY `Time Spent Online (hrs/weekday)`\n",
    "\"\"\"\n",
    "\n",
    "weekend_query = \"\"\"\n",
    "    SELECT\n",
    "        `Time Spent Online (hrs/weekend)` AS `Time Spent Online (hrs/weekend)`,\n",
    "        COUNT(*) AS count\n",
    "    FROM\n",
    "        data_table\n",
    "    GROUP BY `Time Spent Online (hrs/weekend)`\n",
    "\"\"\"\n",
    "\n",
    "# Execute queries using Spark SQL\n",
    "weekday_result = spark.sql(weekday_query)\n",
    "weekend_result = spark.sql(weekend_query)\n",
    "\n",
    "# Display results as tables\n",
    "display(weekday_result)\n",
    "display(weekend_result)"
   ]
  },
  {
   "cell_type": "code",
   "execution_count": 0,
   "metadata": {
    "application/vnd.databricks.v1+cell": {
     "cellMetadata": {
      "byteLimit": 2048000,
      "rowLimit": 10000
     },
     "inputWidgets": {},
     "nuid": "94ae5e84-2289-4a32-8f6d-00954bd4def4",
     "showTitle": false,
     "title": ""
    }
   },
   "outputs": [
    {
     "output_type": "display_data",
     "data": {
      "text/html": [
       "<style scoped>\n",
       "  .table-result-container {\n",
       "    max-height: 300px;\n",
       "    overflow: auto;\n",
       "  }\n",
       "  table, th, td {\n",
       "    border: 1px solid black;\n",
       "    border-collapse: collapse;\n",
       "  }\n",
       "  th, td {\n",
       "    padding: 5px;\n",
       "  }\n",
       "  th {\n",
       "    text-align: left;\n",
       "  }\n",
       "</style><div class='table-result-container'><table class='table-result'><thead style='background-color: white'><tr><th>Average Likes-Reactions</th></tr></thead><tbody><tr><td>4997.084</td></tr></tbody></table></div>"
      ]
     },
     "metadata": {
      "application/vnd.databricks.v1+output": {
       "addedWidgets": {},
       "aggData": [],
       "aggError": "",
       "aggOverflow": false,
       "aggSchema": [],
       "aggSeriesLimitReached": false,
       "aggType": "",
       "arguments": {},
       "columnCustomDisplayInfos": {},
       "data": [
        [
         4997.084
        ]
       ],
       "datasetInfos": [],
       "dbfsResultPath": null,
       "isJsonSchema": true,
       "metadata": {},
       "overflow": false,
       "plotOptions": {
        "customPlotOptions": {},
        "displayType": "table",
        "pivotAggregation": null,
        "pivotColumns": null,
        "xColumns": null,
        "yColumns": null
       },
       "removedWidgets": [],
       "schema": [
        {
         "metadata": "{}",
         "name": "Average Likes-Reactions",
         "type": "\"double\""
        }
       ],
       "type": "table"
      }
     },
     "output_type": "display_data"
    },
    {
     "output_type": "display_data",
     "data": {
      "text/plain": [
       "Databricks visualization. Run in Databricks to view."
      ]
     },
     "metadata": {
      "application/vnd.databricks.v1.subcommand+json": {
       "baseErrorDetails": null,
       "bindings": {},
       "collapsed": false,
       "command": "user_engagement_query = \"\"\"\n    SELECT\n        AVG(`Likes and Reactions`) AS `Average Likes-Reactions`\n    FROM\n        data_table\n\"\"\"\n\nuser_engagement_result = spark.sql(user_engagement_query)\n\ndisplay(user_engagement_result)",
       "commandTitle": "Visualization 1",
       "commandType": "auto",
       "commandVersion": 0,
       "commentThread": [],
       "commentsVisible": false,
       "contentSha256Hex": null,
       "customPlotOptions": {
        "redashChart": [
         {
          "key": "type",
          "value": "COUNTER"
         },
         {
          "key": "options",
          "value": {
           "counterColName": "Average Likes-Reactions",
           "counterLabel": "Average Likes / Reactions",
           "rowNumber": 1,
           "stringDecChar": ".",
           "stringDecimal": 0,
           "stringThouSep": ",",
           "targetRowNumber": 1,
           "tooltipFormat": "0,0.000"
          }
         }
        ]
       },
       "datasetPreviewNameToCmdIdMap": {},
       "diffDeletes": [],
       "diffInserts": [],
       "displayType": "redashChart",
       "error": null,
       "errorDetails": null,
       "errorSummary": null,
       "errorTraceType": null,
       "finishTime": 0,
       "globalVars": {},
       "guid": "",
       "height": "auto",
       "hideCommandCode": false,
       "hideCommandResult": false,
       "iPythonMetadata": null,
       "inputWidgets": {},
       "isLockedInExamMode": false,
       "latestUser": "a user",
       "latestUserId": null,
       "listResultMetadata": null,
       "metadata": {
        "byteLimit": 2048000,
        "rowLimit": 10000
       },
       "nuid": "29024fdc-3258-4dc5-80a4-bb50b0a20ce7",
       "origId": 0,
       "parentHierarchy": [],
       "pivotAggregation": null,
       "pivotColumns": null,
       "position": 11.0,
       "resultDbfsErrorMessage": null,
       "resultDbfsStatus": "INLINED_IN_TREE",
       "results": null,
       "showCommandTitle": false,
       "startTime": 0,
       "state": "finished",
       "streamStates": {},
       "subcommandOptions": {},
       "submitTime": 0,
       "subtype": "tableResultSubCmd.visualization",
       "tableResultIndex": 0,
       "useConsistentColors": false,
       "version": "CommandV1",
       "width": "auto",
       "workflows": [],
       "xColumns": null,
       "yColumns": null
      }
     },
     "output_type": "display_data"
    }
   ],
   "source": [
    "user_engagement_query = \"\"\"\n",
    "    SELECT\n",
    "        AVG(`Likes and Reactions`) AS `Average Likes-Reactions`\n",
    "    FROM\n",
    "        data_table\n",
    "\"\"\"\n",
    "\n",
    "user_engagement_result = spark.sql(user_engagement_query)\n",
    "\n",
    "display(user_engagement_result)"
   ]
  },
  {
   "cell_type": "code",
   "execution_count": 0,
   "metadata": {
    "application/vnd.databricks.v1+cell": {
     "cellMetadata": {
      "byteLimit": 2048000,
      "rowLimit": 10000
     },
     "inputWidgets": {},
     "nuid": "11a064a4-fd0d-4cfb-86b8-17ed1f663baa",
     "showTitle": false,
     "title": ""
    }
   },
   "outputs": [
    {
     "output_type": "display_data",
     "data": {
      "text/html": [
       "<style scoped>\n",
       "  .table-result-container {\n",
       "    max-height: 300px;\n",
       "    overflow: auto;\n",
       "  }\n",
       "  table, th, td {\n",
       "    border: 1px solid black;\n",
       "    border-collapse: collapse;\n",
       "  }\n",
       "  th, td {\n",
       "    padding: 5px;\n",
       "  }\n",
       "  th {\n",
       "    text-align: left;\n",
       "  }\n",
       "</style><div class='table-result-container'><table class='table-result'><thead style='background-color: white'><tr><th>Click-Through Rates (CTR)</th><th>conversion_rates</th><th>ad_interaction_time</th><th>count</th></tr></thead><tbody><tr><td>0.182</td><td>0.004</td><td>167</td><td>1</td></tr><tr><td>0.198</td><td>0.017</td><td>72</td><td>1</td></tr><tr><td>0.21</td><td>0.045</td><td>138</td><td>1</td></tr><tr><td>0.115</td><td>0.06</td><td>151</td><td>1</td></tr><tr><td>0.127</td><td>0.07</td><td>152</td><td>1</td></tr><tr><td>0.18</td><td>0.018</td><td>133</td><td>1</td></tr><tr><td>0.229</td><td>0.014</td><td>88</td><td>1</td></tr><tr><td>0.195</td><td>0.1</td><td>168</td><td>1</td></tr><tr><td>0.177</td><td>0.04</td><td>122</td><td>1</td></tr><tr><td>0.216</td><td>0.073</td><td>51</td><td>1</td></tr><tr><td>0.132</td><td>0.086</td><td>153</td><td>1</td></tr><tr><td>0.142</td><td>0.003</td><td>55</td><td>1</td></tr><tr><td>0.003</td><td>0.052</td><td>173</td><td>1</td></tr><tr><td>0.04</td><td>0.049</td><td>129</td><td>1</td></tr><tr><td>0.065</td><td>0.027</td><td>33</td><td>1</td></tr><tr><td>0.197</td><td>0.006</td><td>18</td><td>1</td></tr><tr><td>0.213</td><td>0.075</td><td>19</td><td>1</td></tr><tr><td>0.087</td><td>0.03</td><td>7</td><td>1</td></tr><tr><td>0.071</td><td>0.028</td><td>70</td><td>1</td></tr><tr><td>0.097</td><td>0.002</td><td>66</td><td>1</td></tr><tr><td>0.03</td><td>0.005</td><td>61</td><td>1</td></tr><tr><td>0.244</td><td>0.058</td><td>140</td><td>1</td></tr><tr><td>0.034</td><td>0.004</td><td>15</td><td>1</td></tr><tr><td>0.003</td><td>0.04</td><td>90</td><td>1</td></tr><tr><td>0.239</td><td>0.058</td><td>71</td><td>1</td></tr><tr><td>0.048</td><td>0.042</td><td>152</td><td>1</td></tr><tr><td>0.229</td><td>0.055</td><td>46</td><td>1</td></tr><tr><td>0.107</td><td>0.001</td><td>117</td><td>1</td></tr><tr><td>0.088</td><td>0.048</td><td>105</td><td>1</td></tr><tr><td>0.154</td><td>0.08</td><td>151</td><td>1</td></tr><tr><td>0.248</td><td>0.017</td><td>38</td><td>1</td></tr><tr><td>0.145</td><td>0.007</td><td>75</td><td>1</td></tr><tr><td>0.139</td><td>0.073</td><td>117</td><td>1</td></tr><tr><td>0.08</td><td>0.093</td><td>158</td><td>1</td></tr><tr><td>0.067</td><td>0.099</td><td>109</td><td>1</td></tr><tr><td>0.187</td><td>0.072</td><td>101</td><td>1</td></tr><tr><td>0.22</td><td>0.023</td><td>50</td><td>1</td></tr><tr><td>0.158</td><td>0.097</td><td>81</td><td>1</td></tr><tr><td>0.068</td><td>0.03</td><td>140</td><td>1</td></tr><tr><td>0.184</td><td>0.07</td><td>34</td><td>1</td></tr><tr><td>0.114</td><td>0.082</td><td>31</td><td>1</td></tr><tr><td>0.181</td><td>0.016</td><td>61</td><td>1</td></tr><tr><td>0.176</td><td>0.077</td><td>155</td><td>1</td></tr><tr><td>0.128</td><td>0.043</td><td>100</td><td>1</td></tr><tr><td>0.064</td><td>0.081</td><td>100</td><td>1</td></tr><tr><td>0.118</td><td>0.025</td><td>159</td><td>1</td></tr><tr><td>0.145</td><td>0.054</td><td>154</td><td>1</td></tr><tr><td>0.202</td><td>0.067</td><td>15</td><td>1</td></tr><tr><td>0.239</td><td>0.005</td><td>62</td><td>1</td></tr><tr><td>0.175</td><td>0.064</td><td>74</td><td>1</td></tr><tr><td>0.045</td><td>0.03</td><td>95</td><td>1</td></tr><tr><td>0.213</td><td>0.08</td><td>152</td><td>1</td></tr><tr><td>0.229</td><td>0.027</td><td>14</td><td>1</td></tr><tr><td>0.033</td><td>0.098</td><td>20</td><td>1</td></tr><tr><td>0.165</td><td>0.049</td><td>131</td><td>1</td></tr><tr><td>0.235</td><td>0.019</td><td>30</td><td>2</td></tr><tr><td>0.063</td><td>0.012</td><td>27</td><td>1</td></tr><tr><td>0.014</td><td>0.045</td><td>49</td><td>1</td></tr><tr><td>0.165</td><td>0.013</td><td>80</td><td>1</td></tr><tr><td>0.073</td><td>0.088</td><td>153</td><td>1</td></tr><tr><td>0.067</td><td>0.01</td><td>19</td><td>1</td></tr><tr><td>0.014</td><td>0.08</td><td>176</td><td>1</td></tr><tr><td>0.247</td><td>0.066</td><td>49</td><td>1</td></tr><tr><td>0.024</td><td>0.082</td><td>57</td><td>1</td></tr><tr><td>0.019</td><td>0.046</td><td>174</td><td>1</td></tr><tr><td>0.225</td><td>0.007</td><td>165</td><td>1</td></tr><tr><td>0.009</td><td>0.016</td><td>115</td><td>1</td></tr><tr><td>0.249</td><td>0.082</td><td>113</td><td>1</td></tr><tr><td>0.149</td><td>0.098</td><td>53</td><td>1</td></tr><tr><td>0.146</td><td>0.065</td><td>140</td><td>1</td></tr><tr><td>0.209</td><td>0.064</td><td>6</td><td>1</td></tr><tr><td>0.042</td><td>0.06</td><td>34</td><td>1</td></tr><tr><td>0.211</td><td>0.062</td><td>83</td><td>1</td></tr><tr><td>0.169</td><td>0.0</td><td>44</td><td>1</td></tr><tr><td>0.232</td><td>0.089</td><td>139</td><td>1</td></tr><tr><td>0.223</td><td>0.086</td><td>167</td><td>1</td></tr><tr><td>0.079</td><td>0.021</td><td>160</td><td>1</td></tr><tr><td>0.154</td><td>0.07</td><td>91</td><td>1</td></tr><tr><td>0.159</td><td>0.048</td><td>61</td><td>1</td></tr><tr><td>0.08</td><td>0.07</td><td>38</td><td>1</td></tr><tr><td>0.107</td><td>0.086</td><td>19</td><td>1</td></tr><tr><td>0.045</td><td>0.077</td><td>73</td><td>1</td></tr><tr><td>0.015</td><td>0.038</td><td>53</td><td>1</td></tr><tr><td>0.093</td><td>0.044</td><td>13</td><td>1</td></tr><tr><td>0.209</td><td>0.013</td><td>125</td><td>1</td></tr><tr><td>0.084</td><td>0.047</td><td>154</td><td>1</td></tr><tr><td>0.194</td><td>0.041</td><td>161</td><td>1</td></tr><tr><td>0.106</td><td>0.03</td><td>89</td><td>1</td></tr><tr><td>0.129</td><td>0.019</td><td>166</td><td>1</td></tr><tr><td>0.243</td><td>0.015</td><td>39</td><td>1</td></tr><tr><td>0.205</td><td>0.065</td><td>49</td><td>1</td></tr><tr><td>0.117</td><td>0.095</td><td>122</td><td>1</td></tr><tr><td>0.191</td><td>0.009</td><td>140</td><td>1</td></tr><tr><td>0.022</td><td>0.025</td><td>144</td><td>1</td></tr><tr><td>0.202</td><td>0.035</td><td>40</td><td>1</td></tr><tr><td>0.045</td><td>0.086</td><td>159</td><td>1</td></tr><tr><td>0.085</td><td>0.057</td><td>55</td><td>1</td></tr><tr><td>0.055</td><td>0.033</td><td>42</td><td>1</td></tr><tr><td>0.18</td><td>0.001</td><td>142</td><td>1</td></tr><tr><td>0.046</td><td>0.0</td><td>131</td><td>1</td></tr><tr><td>0.208</td><td>0.041</td><td>98</td><td>1</td></tr><tr><td>0.01</td><td>0.074</td><td>11</td><td>1</td></tr><tr><td>0.052</td><td>0.046</td><td>7</td><td>1</td></tr><tr><td>0.038</td><td>0.067</td><td>10</td><td>1</td></tr><tr><td>0.231</td><td>0.024</td><td>148</td><td>1</td></tr><tr><td>0.023</td><td>0.026</td><td>18</td><td>1</td></tr><tr><td>0.008</td><td>0.09</td><td>97</td><td>1</td></tr><tr><td>0.197</td><td>0.057</td><td>74</td><td>1</td></tr><tr><td>0.197</td><td>0.01</td><td>17</td><td>1</td></tr><tr><td>0.005</td><td>0.043</td><td>33</td><td>1</td></tr><tr><td>0.128</td><td>0.034</td><td>90</td><td>1</td></tr><tr><td>0.102</td><td>0.053</td><td>43</td><td>1</td></tr><tr><td>0.038</td><td>0.005</td><td>95</td><td>1</td></tr><tr><td>0.002</td><td>0.041</td><td>14</td><td>1</td></tr><tr><td>0.004</td><td>0.054</td><td>139</td><td>1</td></tr><tr><td>0.021</td><td>0.068</td><td>77</td><td>1</td></tr><tr><td>0.128</td><td>0.032</td><td>35</td><td>1</td></tr><tr><td>0.235</td><td>0.065</td><td>40</td><td>1</td></tr><tr><td>0.192</td><td>0.074</td><td>156</td><td>1</td></tr><tr><td>0.031</td><td>0.041</td><td>26</td><td>1</td></tr><tr><td>0.164</td><td>0.074</td><td>124</td><td>1</td></tr><tr><td>0.237</td><td>0.029</td><td>164</td><td>1</td></tr><tr><td>0.023</td><td>0.095</td><td>13</td><td>1</td></tr><tr><td>0.027</td><td>0.009</td><td>43</td><td>1</td></tr><tr><td>0.11</td><td>0.077</td><td>22</td><td>1</td></tr><tr><td>0.01</td><td>0.011</td><td>131</td><td>1</td></tr><tr><td>0.134</td><td>0.04</td><td>48</td><td>1</td></tr><tr><td>0.133</td><td>0.028</td><td>139</td><td>1</td></tr><tr><td>0.053</td><td>0.083</td><td>87</td><td>1</td></tr><tr><td>0.093</td><td>0.018</td><td>81</td><td>1</td></tr><tr><td>0.145</td><td>0.076</td><td>98</td><td>1</td></tr><tr><td>0.159</td><td>0.087</td><td>54</td><td>1</td></tr><tr><td>0.21</td><td>0.047</td><td>67</td><td>1</td></tr><tr><td>0.148</td><td>0.069</td><td>153</td><td>1</td></tr><tr><td>0.231</td><td>0.089</td><td>178</td><td>1</td></tr><tr><td>0.104</td><td>0.069</td><td>120</td><td>1</td></tr><tr><td>0.106</td><td>0.061</td><td>12</td><td>1</td></tr><tr><td>0.161</td><td>0.071</td><td>34</td><td>1</td></tr><tr><td>0.181</td><td>0.098</td><td>107</td><td>1</td></tr><tr><td>0.092</td><td>0.076</td><td>129</td><td>1</td></tr><tr><td>0.127</td><td>0.089</td><td>72</td><td>1</td></tr><tr><td>0.003</td><td>0.031</td><td>116</td><td>1</td></tr><tr><td>0.076</td><td>0.006</td><td>160</td><td>1</td></tr><tr><td>0.021</td><td>0.086</td><td>7</td><td>1</td></tr><tr><td>0.211</td><td>0.068</td><td>60</td><td>1</td></tr><tr><td>0.112</td><td>0.093</td><td>83</td><td>1</td></tr><tr><td>0.104</td><td>0.067</td><td>118</td><td>1</td></tr><tr><td>0.13</td><td>0.096</td><td>14</td><td>1</td></tr><tr><td>0.098</td><td>0.024</td><td>109</td><td>1</td></tr><tr><td>0.173</td><td>0.074</td><td>141</td><td>1</td></tr><tr><td>0.111</td><td>0.012</td><td>159</td><td>1</td></tr><tr><td>0.004</td><td>0.035</td><td>6</td><td>1</td></tr><tr><td>0.198</td><td>0.083</td><td>20</td><td>1</td></tr><tr><td>0.248</td><td>0.015</td><td>77</td><td>1</td></tr><tr><td>0.22</td><td>0.0</td><td>153</td><td>1</td></tr><tr><td>0.218</td><td>0.034</td><td>77</td><td>1</td></tr><tr><td>0.128</td><td>0.036</td><td>141</td><td>1</td></tr><tr><td>0.0</td><td>0.086</td><td>46</td><td>1</td></tr><tr><td>0.121</td><td>0.076</td><td>164</td><td>1</td></tr><tr><td>0.187</td><td>0.048</td><td>44</td><td>1</td></tr><tr><td>0.16</td><td>0.049</td><td>10</td><td>1</td></tr><tr><td>0.039</td><td>0.008</td><td>91</td><td>1</td></tr><tr><td>0.066</td><td>0.021</td><td>82</td><td>1</td></tr><tr><td>0.116</td><td>0.079</td><td>155</td><td>1</td></tr><tr><td>0.074</td><td>0.057</td><td>70</td><td>1</td></tr><tr><td>0.183</td><td>0.095</td><td>170</td><td>1</td></tr><tr><td>0.225</td><td>0.058</td><td>18</td><td>1</td></tr><tr><td>0.156</td><td>0.025</td><td>87</td><td>1</td></tr><tr><td>0.159</td><td>0.014</td><td>133</td><td>1</td></tr><tr><td>0.045</td><td>0.072</td><td>115</td><td>1</td></tr><tr><td>0.069</td><td>0.086</td><td>30</td><td>1</td></tr><tr><td>0.02</td><td>0.028</td><td>137</td><td>1</td></tr><tr><td>0.041</td><td>0.043</td><td>44</td><td>1</td></tr><tr><td>0.04</td><td>0.031</td><td>5</td><td>1</td></tr><tr><td>0.067</td><td>0.003</td><td>166</td><td>1</td></tr><tr><td>0.161</td><td>0.017</td><td>59</td><td>1</td></tr><tr><td>0.086</td><td>0.03</td><td>87</td><td>1</td></tr><tr><td>0.137</td><td>0.054</td><td>104</td><td>1</td></tr><tr><td>0.003</td><td>0.04</td><td>154</td><td>1</td></tr><tr><td>0.22</td><td>0.033</td><td>113</td><td>1</td></tr><tr><td>0.041</td><td>0.029</td><td>81</td><td>1</td></tr><tr><td>0.131</td><td>0.003</td><td>150</td><td>1</td></tr><tr><td>0.092</td><td>0.046</td><td>68</td><td>1</td></tr><tr><td>0.145</td><td>0.099</td><td>171</td><td>1</td></tr><tr><td>0.016</td><td>0.008</td><td>113</td><td>1</td></tr><tr><td>0.165</td><td>0.048</td><td>89</td><td>1</td></tr><tr><td>0.073</td><td>0.021</td><td>41</td><td>1</td></tr><tr><td>0.034</td><td>0.07</td><td>162</td><td>1</td></tr><tr><td>0.228</td><td>0.027</td><td>28</td><td>1</td></tr><tr><td>0.15</td><td>0.026</td><td>56</td><td>1</td></tr><tr><td>0.192</td><td>0.088</td><td>16</td><td>1</td></tr><tr><td>0.119</td><td>0.011</td><td>57</td><td>1</td></tr><tr><td>0.233</td><td>0.074</td><td>56</td><td>1</td></tr><tr><td>0.066</td><td>0.046</td><td>106</td><td>1</td></tr><tr><td>0.125</td><td>0.025</td><td>106</td><td>1</td></tr><tr><td>0.241</td><td>0.01</td><td>57</td><td>1</td></tr><tr><td>0.162</td><td>0.075</td><td>165</td><td>1</td></tr><tr><td>0.061</td><td>0.098</td><td>153</td><td>1</td></tr><tr><td>0.056</td><td>0.065</td><td>161</td><td>1</td></tr><tr><td>0.219</td><td>0.079</td><td>46</td><td>1</td></tr><tr><td>0.056</td><td>0.072</td><td>52</td><td>1</td></tr><tr><td>0.168</td><td>0.027</td><td>105</td><td>1</td></tr><tr><td>0.177</td><td>0.1</td><td>22</td><td>1</td></tr><tr><td>0.146</td><td>0.038</td><td>19</td><td>1</td></tr><tr><td>0.242</td><td>0.03</td><td>115</td><td>1</td></tr><tr><td>0.037</td><td>0.062</td><td>121</td><td>1</td></tr><tr><td>0.078</td><td>0.026</td><td>56</td><td>1</td></tr><tr><td>0.043</td><td>0.037</td><td>12</td><td>1</td></tr><tr><td>0.179</td><td>0.093</td><td>14</td><td>1</td></tr><tr><td>0.094</td><td>0.061</td><td>55</td><td>1</td></tr><tr><td>0.037</td><td>0.014</td><td>110</td><td>1</td></tr><tr><td>0.054</td><td>0.022</td><td>140</td><td>1</td></tr><tr><td>0.151</td><td>0.096</td><td>142</td><td>1</td></tr><tr><td>0.23</td><td>0.093</td><td>141</td><td>1</td></tr><tr><td>0.116</td><td>0.039</td><td>161</td><td>1</td></tr><tr><td>0.133</td><td>0.032</td><td>87</td><td>1</td></tr><tr><td>0.204</td><td>0.03</td><td>149</td><td>1</td></tr><tr><td>0.235</td><td>0.031</td><td>147</td><td>1</td></tr><tr><td>0.191</td><td>0.0</td><td>117</td><td>1</td></tr><tr><td>0.006</td><td>0.096</td><td>64</td><td>1</td></tr><tr><td>0.175</td><td>0.05</td><td>21</td><td>1</td></tr><tr><td>0.188</td><td>0.092</td><td>48</td><td>1</td></tr><tr><td>0.193</td><td>0.067</td><td>25</td><td>1</td></tr><tr><td>0.073</td><td>0.014</td><td>43</td><td>1</td></tr><tr><td>0.236</td><td>0.073</td><td>81</td><td>1</td></tr><tr><td>0.208</td><td>0.019</td><td>69</td><td>1</td></tr><tr><td>0.219</td><td>0.06</td><td>6</td><td>1</td></tr><tr><td>0.179</td><td>0.062</td><td>109</td><td>1</td></tr><tr><td>0.084</td><td>0.021</td><td>44</td><td>1</td></tr><tr><td>0.136</td><td>0.097</td><td>62</td><td>1</td></tr><tr><td>0.197</td><td>0.039</td><td>80</td><td>1</td></tr><tr><td>0.199</td><td>0.075</td><td>66</td><td>1</td></tr><tr><td>0.009</td><td>0.031</td><td>130</td><td>1</td></tr><tr><td>0.055</td><td>0.052</td><td>142</td><td>1</td></tr><tr><td>0.109</td><td>0.051</td><td>94</td><td>1</td></tr><tr><td>0.069</td><td>0.099</td><td>175</td><td>1</td></tr><tr><td>0.233</td><td>0.052</td><td>30</td><td>1</td></tr><tr><td>0.065</td><td>0.078</td><td>171</td><td>1</td></tr><tr><td>0.02</td><td>0.032</td><td>129</td><td>1</td></tr><tr><td>0.023</td><td>0.062</td><td>79</td><td>1</td></tr><tr><td>0.027</td><td>0.049</td><td>109</td><td>1</td></tr><tr><td>0.091</td><td>0.09</td><td>67</td><td>1</td></tr><tr><td>0.064</td><td>0.042</td><td>118</td><td>1</td></tr><tr><td>0.037</td><td>0.09</td><td>27</td><td>1</td></tr><tr><td>0.099</td><td>0.049</td><td>24</td><td>1</td></tr><tr><td>0.228</td><td>0.091</td><td>25</td><td>1</td></tr><tr><td>0.14</td><td>0.049</td><td>74</td><td>1</td></tr><tr><td>0.232</td><td>0.07</td><td>85</td><td>1</td></tr><tr><td>0.134</td><td>0.099</td><td>10</td><td>1</td></tr><tr><td>0.206</td><td>0.087</td><td>20</td><td>1</td></tr><tr><td>0.203</td><td>0.012</td><td>146</td><td>1</td></tr><tr><td>0.046</td><td>0.018</td><td>123</td><td>1</td></tr><tr><td>0.139</td><td>0.046</td><td>118</td><td>1</td></tr><tr><td>0.018</td><td>0.025</td><td>50</td><td>1</td></tr><tr><td>0.071</td><td>0.013</td><td>41</td><td>1</td></tr><tr><td>0.241</td><td>0.016</td><td>177</td><td>1</td></tr><tr><td>0.145</td><td>0.011</td><td>30</td><td>1</td></tr><tr><td>0.15</td><td>0.049</td><td>155</td><td>1</td></tr><tr><td>0.176</td><td>0.056</td><td>117</td><td>1</td></tr><tr><td>0.098</td><td>0.041</td><td>160</td><td>1</td></tr><tr><td>0.043</td><td>0.074</td><td>50</td><td>1</td></tr><tr><td>0.027</td><td>0.061</td><td>80</td><td>1</td></tr><tr><td>0.038</td><td>0.068</td><td>11</td><td>1</td></tr><tr><td>0.199</td><td>0.003</td><td>141</td><td>1</td></tr><tr><td>0.223</td><td>0.058</td><td>28</td><td>1</td></tr><tr><td>0.015</td><td>0.025</td><td>26</td><td>1</td></tr><tr><td>0.161</td><td>0.038</td><td>135</td><td>1</td></tr><tr><td>0.014</td><td>0.065</td><td>120</td><td>1</td></tr><tr><td>0.027</td><td>0.004</td><td>142</td><td>1</td></tr><tr><td>0.05</td><td>0.002</td><td>25</td><td>1</td></tr><tr><td>0.017</td><td>0.05</td><td>87</td><td>1</td></tr><tr><td>0.177</td><td>0.05</td><td>14</td><td>1</td></tr><tr><td>0.07</td><td>0.001</td><td>38</td><td>1</td></tr><tr><td>0.0</td><td>0.093</td><td>117</td><td>1</td></tr><tr><td>0.008</td><td>0.036</td><td>73</td><td>1</td></tr><tr><td>0.191</td><td>0.064</td><td>146</td><td>1</td></tr><tr><td>0.166</td><td>0.067</td><td>162</td><td>1</td></tr><tr><td>0.195</td><td>0.041</td><td>168</td><td>1</td></tr><tr><td>0.117</td><td>0.089</td><td>117</td><td>1</td></tr><tr><td>0.214</td><td>0.062</td><td>37</td><td>1</td></tr><tr><td>0.205</td><td>0.049</td><td>35</td><td>1</td></tr><tr><td>0.108</td><td>0.081</td><td>16</td><td>1</td></tr><tr><td>0.02</td><td>0.051</td><td>7</td><td>1</td></tr><tr><td>0.092</td><td>0.058</td><td>90</td><td>1</td></tr><tr><td>0.06</td><td>0.002</td><td>25</td><td>1</td></tr><tr><td>0.193</td><td>0.03</td><td>163</td><td>1</td></tr><tr><td>0.237</td><td>0.008</td><td>160</td><td>1</td></tr><tr><td>0.13</td><td>0.021</td><td>33</td><td>1</td></tr><tr><td>0.13</td><td>0.027</td><td>99</td><td>1</td></tr><tr><td>0.019</td><td>0.042</td><td>63</td><td>1</td></tr><tr><td>0.245</td><td>0.045</td><td>53</td><td>1</td></tr><tr><td>0.056</td><td>0.03</td><td>86</td><td>1</td></tr><tr><td>0.062</td><td>0.094</td><td>43</td><td>1</td></tr><tr><td>0.091</td><td>0.011</td><td>73</td><td>1</td></tr><tr><td>0.214</td><td>0.09</td><td>30</td><td>1</td></tr><tr><td>0.166</td><td>0.047</td><td>134</td><td>1</td></tr><tr><td>0.045</td><td>0.045</td><td>176</td><td>1</td></tr><tr><td>0.13</td><td>0.067</td><td>176</td><td>1</td></tr><tr><td>0.1</td><td>0.032</td><td>80</td><td>1</td></tr><tr><td>0.144</td><td>0.073</td><td>105</td><td>1</td></tr><tr><td>0.241</td><td>0.057</td><td>33</td><td>1</td></tr><tr><td>0.207</td><td>0.021</td><td>151</td><td>1</td></tr><tr><td>0.246</td><td>0.075</td><td>120</td><td>1</td></tr><tr><td>0.21</td><td>0.061</td><td>56</td><td>1</td></tr><tr><td>0.133</td><td>0.039</td><td>36</td><td>1</td></tr><tr><td>0.084</td><td>0.017</td><td>169</td><td>1</td></tr><tr><td>0.011</td><td>0.012</td><td>18</td><td>1</td></tr><tr><td>0.059</td><td>0.064</td><td>39</td><td>1</td></tr><tr><td>0.064</td><td>0.027</td><td>151</td><td>1</td></tr><tr><td>0.022</td><td>0.086</td><td>86</td><td>1</td></tr><tr><td>0.144</td><td>0.028</td><td>133</td><td>1</td></tr><tr><td>0.16</td><td>0.005</td><td>10</td><td>1</td></tr><tr><td>0.234</td><td>0.025</td><td>43</td><td>1</td></tr><tr><td>0.028</td><td>0.07</td><td>176</td><td>1</td></tr><tr><td>0.131</td><td>0.063</td><td>169</td><td>1</td></tr><tr><td>0.233</td><td>0.026</td><td>122</td><td>1</td></tr><tr><td>0.2</td><td>0.054</td><td>157</td><td>1</td></tr><tr><td>0.108</td><td>0.068</td><td>57</td><td>1</td></tr><tr><td>0.008</td><td>0.087</td><td>114</td><td>1</td></tr><tr><td>0.047</td><td>0.075</td><td>116</td><td>1</td></tr><tr><td>0.044</td><td>0.1</td><td>10</td><td>1</td></tr><tr><td>0.238</td><td>0.007</td><td>95</td><td>1</td></tr><tr><td>0.057</td><td>0.034</td><td>172</td><td>1</td></tr><tr><td>0.078</td><td>0.015</td><td>126</td><td>1</td></tr><tr><td>0.138</td><td>0.073</td><td>85</td><td>1</td></tr><tr><td>0.113</td><td>0.05</td><td>109</td><td>1</td></tr><tr><td>0.067</td><td>0.042</td><td>130</td><td>1</td></tr><tr><td>0.203</td><td>0.014</td><td>114</td><td>1</td></tr><tr><td>0.039</td><td>0.046</td><td>139</td><td>1</td></tr><tr><td>0.076</td><td>0.047</td><td>64</td><td>1</td></tr><tr><td>0.189</td><td>0.059</td><td>143</td><td>1</td></tr><tr><td>0.074</td><td>0.003</td><td>31</td><td>1</td></tr><tr><td>0.087</td><td>0.002</td><td>171</td><td>1</td></tr><tr><td>0.108</td><td>0.003</td><td>61</td><td>1</td></tr><tr><td>0.146</td><td>0.084</td><td>178</td><td>1</td></tr><tr><td>0.156</td><td>0.035</td><td>19</td><td>1</td></tr><tr><td>0.163</td><td>0.005</td><td>126</td><td>1</td></tr><tr><td>0.122</td><td>0.031</td><td>41</td><td>1</td></tr><tr><td>0.198</td><td>0.095</td><td>128</td><td>1</td></tr><tr><td>0.206</td><td>0.024</td><td>170</td><td>1</td></tr><tr><td>0.063</td><td>0.001</td><td>168</td><td>1</td></tr><tr><td>0.113</td><td>0.063</td><td>24</td><td>1</td></tr><tr><td>0.0</td><td>0.093</td><td>24</td><td>1</td></tr><tr><td>0.115</td><td>0.008</td><td>159</td><td>1</td></tr><tr><td>0.024</td><td>0.084</td><td>119</td><td>1</td></tr><tr><td>0.141</td><td>0.061</td><td>147</td><td>1</td></tr><tr><td>0.033</td><td>0.033</td><td>71</td><td>1</td></tr><tr><td>0.246</td><td>0.052</td><td>136</td><td>1</td></tr><tr><td>0.019</td><td>0.05</td><td>63</td><td>1</td></tr><tr><td>0.193</td><td>0.042</td><td>83</td><td>1</td></tr><tr><td>0.062</td><td>0.042</td><td>177</td><td>1</td></tr><tr><td>0.249</td><td>0.049</td><td>93</td><td>1</td></tr><tr><td>0.189</td><td>0.029</td><td>14</td><td>1</td></tr><tr><td>0.171</td><td>0.06</td><td>71</td><td>1</td></tr><tr><td>0.139</td><td>0.019</td><td>54</td><td>1</td></tr><tr><td>0.045</td><td>0.097</td><td>54</td><td>1</td></tr><tr><td>0.004</td><td>0.027</td><td>117</td><td>1</td></tr><tr><td>0.017</td><td>0.082</td><td>26</td><td>1</td></tr><tr><td>0.08</td><td>0.022</td><td>34</td><td>1</td></tr><tr><td>0.005</td><td>0.068</td><td>173</td><td>1</td></tr><tr><td>0.247</td><td>0.018</td><td>129</td><td>1</td></tr><tr><td>0.161</td><td>0.005</td><td>133</td><td>1</td></tr><tr><td>0.117</td><td>0.088</td><td>35</td><td>1</td></tr><tr><td>0.114</td><td>0.052</td><td>50</td><td>1</td></tr><tr><td>0.006</td><td>0.088</td><td>62</td><td>1</td></tr><tr><td>0.208</td><td>0.009</td><td>46</td><td>1</td></tr><tr><td>0.127</td><td>0.053</td><td>176</td><td>1</td></tr><tr><td>0.192</td><td>0.081</td><td>129</td><td>1</td></tr><tr><td>0.158</td><td>0.093</td><td>134</td><td>1</td></tr><tr><td>0.237</td><td>0.006</td><td>64</td><td>1</td></tr><tr><td>0.099</td><td>0.099</td><td>87</td><td>1</td></tr><tr><td>0.066</td><td>0.046</td><td>176</td><td>1</td></tr><tr><td>0.165</td><td>0.067</td><td>91</td><td>1</td></tr><tr><td>0.178</td><td>0.08</td><td>16</td><td>1</td></tr><tr><td>0.11</td><td>0.054</td><td>159</td><td>1</td></tr><tr><td>0.085</td><td>0.042</td><td>114</td><td>1</td></tr><tr><td>0.018</td><td>0.059</td><td>22</td><td>1</td></tr><tr><td>0.243</td><td>0.059</td><td>67</td><td>1</td></tr><tr><td>0.201</td><td>0.076</td><td>146</td><td>1</td></tr><tr><td>0.013</td><td>0.08</td><td>34</td><td>1</td></tr><tr><td>0.097</td><td>0.088</td><td>154</td><td>1</td></tr><tr><td>0.031</td><td>0.025</td><td>147</td><td>1</td></tr><tr><td>0.133</td><td>0.033</td><td>132</td><td>1</td></tr><tr><td>0.002</td><td>0.054</td><td>136</td><td>1</td></tr><tr><td>0.076</td><td>0.07</td><td>103</td><td>1</td></tr><tr><td>0.21</td><td>0.099</td><td>9</td><td>1</td></tr><tr><td>0.193</td><td>0.038</td><td>58</td><td>1</td></tr><tr><td>0.057</td><td>0.04</td><td>120</td><td>1</td></tr><tr><td>0.229</td><td>0.033</td><td>50</td><td>1</td></tr><tr><td>0.191</td><td>0.043</td><td>133</td><td>1</td></tr><tr><td>0.165</td><td>0.032</td><td>99</td><td>1</td></tr><tr><td>0.15</td><td>0.091</td><td>33</td><td>1</td></tr><tr><td>0.246</td><td>0.042</td><td>138</td><td>1</td></tr><tr><td>0.176</td><td>0.032</td><td>5</td><td>1</td></tr><tr><td>0.22</td><td>0.064</td><td>162</td><td>1</td></tr><tr><td>0.04</td><td>0.072</td><td>91</td><td>1</td></tr><tr><td>0.004</td><td>0.027</td><td>172</td><td>1</td></tr><tr><td>0.078</td><td>0.025</td><td>9</td><td>1</td></tr><tr><td>0.039</td><td>0.065</td><td>28</td><td>1</td></tr><tr><td>0.165</td><td>0.063</td><td>8</td><td>1</td></tr><tr><td>0.161</td><td>0.02</td><td>91</td><td>1</td></tr><tr><td>0.228</td><td>0.065</td><td>83</td><td>1</td></tr><tr><td>0.094</td><td>0.048</td><td>117</td><td>1</td></tr><tr><td>0.001</td><td>0.09</td><td>169</td><td>1</td></tr><tr><td>0.118</td><td>0.011</td><td>43</td><td>1</td></tr><tr><td>0.17</td><td>0.055</td><td>31</td><td>1</td></tr><tr><td>0.155</td><td>0.059</td><td>85</td><td>1</td></tr><tr><td>0.199</td><td>0.035</td><td>12</td><td>1</td></tr><tr><td>0.027</td><td>0.081</td><td>101</td><td>1</td></tr><tr><td>0.109</td><td>0.088</td><td>117</td><td>1</td></tr><tr><td>0.079</td><td>0.044</td><td>136</td><td>1</td></tr><tr><td>0.001</td><td>0.084</td><td>20</td><td>1</td></tr><tr><td>0.161</td><td>0.091</td><td>140</td><td>1</td></tr><tr><td>0.104</td><td>0.062</td><td>35</td><td>1</td></tr><tr><td>0.235</td><td>0.033</td><td>40</td><td>1</td></tr><tr><td>0.159</td><td>0.048</td><td>49</td><td>1</td></tr><tr><td>0.172</td><td>0.081</td><td>55</td><td>1</td></tr><tr><td>0.034</td><td>0.035</td><td>88</td><td>1</td></tr><tr><td>0.15</td><td>0.086</td><td>124</td><td>1</td></tr><tr><td>0.127</td><td>0.005</td><td>133</td><td>1</td></tr><tr><td>0.13</td><td>0.009</td><td>75</td><td>1</td></tr><tr><td>0.093</td><td>0.018</td><td>54</td><td>1</td></tr><tr><td>0.097</td><td>0.097</td><td>149</td><td>1</td></tr><tr><td>0.106</td><td>0.05</td><td>137</td><td>1</td></tr><tr><td>0.23</td><td>0.06</td><td>121</td><td>1</td></tr><tr><td>0.03</td><td>0.042</td><td>46</td><td>1</td></tr><tr><td>0.17</td><td>0.089</td><td>121</td><td>1</td></tr><tr><td>0.039</td><td>0.056</td><td>90</td><td>1</td></tr><tr><td>0.133</td><td>0.029</td><td>19</td><td>1</td></tr><tr><td>0.149</td><td>0.092</td><td>55</td><td>1</td></tr><tr><td>0.045</td><td>0.023</td><td>49</td><td>1</td></tr><tr><td>0.198</td><td>0.071</td><td>12</td><td>1</td></tr><tr><td>0.131</td><td>0.061</td><td>96</td><td>1</td></tr><tr><td>0.083</td><td>0.041</td><td>127</td><td>1</td></tr><tr><td>0.065</td><td>0.07</td><td>170</td><td>1</td></tr><tr><td>0.073</td><td>0.007</td><td>62</td><td>1</td></tr><tr><td>0.01</td><td>0.071</td><td>51</td><td>1</td></tr><tr><td>0.197</td><td>0.04</td><td>111</td><td>1</td></tr><tr><td>0.175</td><td>0.022</td><td>99</td><td>1</td></tr><tr><td>0.03</td><td>0.038</td><td>23</td><td>1</td></tr><tr><td>0.134</td><td>0.084</td><td>69</td><td>1</td></tr><tr><td>0.204</td><td>0.013</td><td>159</td><td>1</td></tr><tr><td>0.026</td><td>0.035</td><td>168</td><td>1</td></tr><tr><td>0.199</td><td>0.063</td><td>139</td><td>1</td></tr><tr><td>0.099</td><td>0.065</td><td>172</td><td>1</td></tr><tr><td>0.226</td><td>0.055</td><td>33</td><td>1</td></tr><tr><td>0.099</td><td>0.049</td><td>53</td><td>1</td></tr><tr><td>0.137</td><td>0.006</td><td>117</td><td>1</td></tr><tr><td>0.229</td><td>0.057</td><td>71</td><td>1</td></tr><tr><td>0.114</td><td>0.004</td><td>177</td><td>1</td></tr><tr><td>0.02</td><td>0.091</td><td>99</td><td>1</td></tr><tr><td>0.176</td><td>0.091</td><td>83</td><td>1</td></tr><tr><td>0.168</td><td>0.089</td><td>130</td><td>1</td></tr><tr><td>0.16</td><td>0.055</td><td>173</td><td>1</td></tr><tr><td>0.209</td><td>0.005</td><td>161</td><td>1</td></tr><tr><td>0.021</td><td>0.01</td><td>154</td><td>1</td></tr><tr><td>0.118</td><td>0.054</td><td>127</td><td>1</td></tr><tr><td>0.142</td><td>0.092</td><td>162</td><td>1</td></tr><tr><td>0.028</td><td>0.06</td><td>12</td><td>1</td></tr><tr><td>0.181</td><td>0.062</td><td>65</td><td>1</td></tr><tr><td>0.101</td><td>0.026</td><td>69</td><td>1</td></tr><tr><td>0.083</td><td>0.071</td><td>12</td><td>1</td></tr><tr><td>0.032</td><td>0.042</td><td>171</td><td>1</td></tr><tr><td>0.21</td><td>0.001</td><td>44</td><td>1</td></tr><tr><td>0.055</td><td>0.013</td><td>107</td><td>1</td></tr><tr><td>0.118</td><td>0.089</td><td>117</td><td>1</td></tr><tr><td>0.214</td><td>0.082</td><td>124</td><td>1</td></tr><tr><td>0.18</td><td>0.081</td><td>100</td><td>1</td></tr><tr><td>0.078</td><td>0.065</td><td>119</td><td>1</td></tr><tr><td>0.129</td><td>0.075</td><td>38</td><td>1</td></tr><tr><td>0.245</td><td>0.066</td><td>154</td><td>1</td></tr><tr><td>0.129</td><td>0.037</td><td>83</td><td>1</td></tr><tr><td>0.016</td><td>0.018</td><td>63</td><td>1</td></tr><tr><td>0.241</td><td>0.083</td><td>147</td><td>1</td></tr><tr><td>0.172</td><td>0.002</td><td>13</td><td>1</td></tr><tr><td>0.011</td><td>0.032</td><td>65</td><td>1</td></tr><tr><td>0.129</td><td>0.026</td><td>17</td><td>1</td></tr><tr><td>0.032</td><td>0.081</td><td>85</td><td>1</td></tr><tr><td>0.14</td><td>0.062</td><td>33</td><td>1</td></tr><tr><td>0.18</td><td>0.052</td><td>112</td><td>1</td></tr><tr><td>0.141</td><td>0.067</td><td>18</td><td>1</td></tr><tr><td>0.116</td><td>0.086</td><td>144</td><td>1</td></tr><tr><td>0.165</td><td>0.066</td><td>112</td><td>1</td></tr><tr><td>0.156</td><td>0.068</td><td>90</td><td>1</td></tr><tr><td>0.059</td><td>0.041</td><td>128</td><td>1</td></tr><tr><td>0.238</td><td>0.015</td><td>95</td><td>1</td></tr><tr><td>0.086</td><td>0.04</td><td>137</td><td>1</td></tr><tr><td>0.057</td><td>0.028</td><td>131</td><td>1</td></tr><tr><td>0.123</td><td>0.059</td><td>43</td><td>1</td></tr><tr><td>0.233</td><td>0.065</td><td>147</td><td>1</td></tr><tr><td>0.207</td><td>0.042</td><td>161</td><td>1</td></tr><tr><td>0.074</td><td>0.091</td><td>16</td><td>1</td></tr><tr><td>0.232</td><td>0.073</td><td>155</td><td>1</td></tr><tr><td>0.038</td><td>0.031</td><td>88</td><td>1</td></tr><tr><td>0.107</td><td>0.071</td><td>135</td><td>1</td></tr><tr><td>0.245</td><td>0.043</td><td>118</td><td>1</td></tr><tr><td>0.182</td><td>0.082</td><td>163</td><td>1</td></tr><tr><td>0.184</td><td>0.096</td><td>160</td><td>1</td></tr><tr><td>0.005</td><td>0.094</td><td>100</td><td>1</td></tr><tr><td>0.104</td><td>0.062</td><td>57</td><td>1</td></tr><tr><td>0.018</td><td>0.029</td><td>65</td><td>1</td></tr><tr><td>0.206</td><td>0.014</td><td>109</td><td>1</td></tr><tr><td>0.043</td><td>0.071</td><td>146</td><td>1</td></tr><tr><td>0.098</td><td>0.066</td><td>163</td><td>1</td></tr><tr><td>0.058</td><td>0.006</td><td>113</td><td>1</td></tr><tr><td>0.155</td><td>0.015</td><td>14</td><td>1</td></tr><tr><td>0.153</td><td>0.095</td><td>80</td><td>1</td></tr><tr><td>0.11</td><td>0.002</td><td>61</td><td>1</td></tr><tr><td>0.078</td><td>0.001</td><td>82</td><td>1</td></tr><tr><td>0.089</td><td>0.089</td><td>148</td><td>1</td></tr><tr><td>0.208</td><td>0.071</td><td>13</td><td>1</td></tr><tr><td>0.143</td><td>0.03</td><td>57</td><td>1</td></tr><tr><td>0.21</td><td>0.026</td><td>29</td><td>1</td></tr><tr><td>0.133</td><td>0.027</td><td>88</td><td>1</td></tr><tr><td>0.234</td><td>0.047</td><td>115</td><td>1</td></tr><tr><td>0.032</td><td>0.021</td><td>94</td><td>1</td></tr><tr><td>0.247</td><td>0.046</td><td>32</td><td>1</td></tr><tr><td>0.092</td><td>0.008</td><td>163</td><td>1</td></tr><tr><td>0.142</td><td>0.035</td><td>106</td><td>1</td></tr><tr><td>0.07</td><td>0.05</td><td>14</td><td>1</td></tr><tr><td>0.053</td><td>0.037</td><td>135</td><td>1</td></tr><tr><td>0.089</td><td>0.079</td><td>59</td><td>1</td></tr><tr><td>0.092</td><td>0.015</td><td>86</td><td>1</td></tr><tr><td>0.118</td><td>0.046</td><td>42</td><td>1</td></tr><tr><td>0.081</td><td>0.001</td><td>170</td><td>1</td></tr><tr><td>0.093</td><td>0.096</td><td>22</td><td>1</td></tr><tr><td>0.142</td><td>0.039</td><td>31</td><td>1</td></tr><tr><td>0.055</td><td>0.081</td><td>59</td><td>1</td></tr><tr><td>0.206</td><td>0.077</td><td>162</td><td>1</td></tr><tr><td>0.177</td><td>0.078</td><td>23</td><td>1</td></tr><tr><td>0.01</td><td>0.064</td><td>86</td><td>1</td></tr><tr><td>0.211</td><td>0.039</td><td>147</td><td>1</td></tr><tr><td>0.154</td><td>0.056</td><td>14</td><td>1</td></tr><tr><td>0.201</td><td>0.006</td><td>9</td><td>1</td></tr><tr><td>0.06</td><td>0.013</td><td>78</td><td>1</td></tr><tr><td>0.077</td><td>0.013</td><td>27</td><td>1</td></tr><tr><td>0.051</td><td>0.073</td><td>156</td><td>1</td></tr><tr><td>0.044</td><td>0.009</td><td>35</td><td>1</td></tr><tr><td>0.174</td><td>0.029</td><td>66</td><td>1</td></tr><tr><td>0.069</td><td>0.071</td><td>91</td><td>1</td></tr><tr><td>0.146</td><td>0.019</td><td>125</td><td>1</td></tr><tr><td>0.072</td><td>0.085</td><td>29</td><td>1</td></tr><tr><td>0.035</td><td>0.099</td><td>120</td><td>1</td></tr><tr><td>0.151</td><td>0.087</td><td>153</td><td>1</td></tr><tr><td>0.066</td><td>0.066</td><td>12</td><td>1</td></tr><tr><td>0.168</td><td>0.075</td><td>159</td><td>1</td></tr><tr><td>0.102</td><td>0.08</td><td>127</td><td>1</td></tr><tr><td>0.209</td><td>0.097</td><td>166</td><td>1</td></tr><tr><td>0.077</td><td>0.088</td><td>151</td><td>1</td></tr><tr><td>0.193</td><td>0.048</td><td>148</td><td>1</td></tr><tr><td>0.182</td><td>0.064</td><td>89</td><td>1</td></tr><tr><td>0.15</td><td>0.071</td><td>64</td><td>1</td></tr><tr><td>0.229</td><td>0.003</td><td>163</td><td>1</td></tr><tr><td>0.134</td><td>0.02</td><td>7</td><td>1</td></tr><tr><td>0.052</td><td>0.075</td><td>169</td><td>1</td></tr><tr><td>0.168</td><td>0.0</td><td>21</td><td>1</td></tr><tr><td>0.004</td><td>0.001</td><td>159</td><td>1</td></tr><tr><td>0.162</td><td>0.007</td><td>40</td><td>1</td></tr><tr><td>0.179</td><td>0.059</td><td>5</td><td>1</td></tr><tr><td>0.025</td><td>0.038</td><td>52</td><td>1</td></tr><tr><td>0.191</td><td>0.033</td><td>158</td><td>1</td></tr><tr><td>0.013</td><td>0.095</td><td>68</td><td>1</td></tr><tr><td>0.154</td><td>0.079</td><td>8</td><td>1</td></tr><tr><td>0.208</td><td>0.008</td><td>8</td><td>1</td></tr><tr><td>0.003</td><td>0.097</td><td>120</td><td>1</td></tr><tr><td>0.085</td><td>0.029</td><td>49</td><td>1</td></tr><tr><td>0.146</td><td>0.051</td><td>58</td><td>1</td></tr><tr><td>0.123</td><td>0.06</td><td>42</td><td>1</td></tr><tr><td>0.114</td><td>0.022</td><td>126</td><td>1</td></tr><tr><td>0.1</td><td>0.018</td><td>117</td><td>1</td></tr><tr><td>0.151</td><td>0.094</td><td>94</td><td>1</td></tr><tr><td>0.242</td><td>0.099</td><td>142</td><td>1</td></tr><tr><td>0.105</td><td>0.048</td><td>77</td><td>1</td></tr><tr><td>0.185</td><td>0.061</td><td>90</td><td>1</td></tr><tr><td>0.035</td><td>0.073</td><td>146</td><td>1</td></tr><tr><td>0.181</td><td>0.092</td><td>132</td><td>1</td></tr><tr><td>0.228</td><td>0.068</td><td>36</td><td>1</td></tr><tr><td>0.052</td><td>0.013</td><td>68</td><td>1</td></tr><tr><td>0.233</td><td>0.034</td><td>19</td><td>1</td></tr><tr><td>0.112</td><td>0.061</td><td>51</td><td>1</td></tr><tr><td>0.184</td><td>0.016</td><td>34</td><td>1</td></tr><tr><td>0.149</td><td>0.018</td><td>47</td><td>1</td></tr><tr><td>0.041</td><td>0.091</td><td>68</td><td>1</td></tr><tr><td>0.144</td><td>0.052</td><td>49</td><td>1</td></tr><tr><td>0.148</td><td>0.03</td><td>94</td><td>1</td></tr><tr><td>0.09</td><td>0.04</td><td>20</td><td>1</td></tr><tr><td>0.054</td><td>0.026</td><td>133</td><td>1</td></tr><tr><td>0.135</td><td>0.015</td><td>58</td><td>1</td></tr><tr><td>0.019</td><td>0.097</td><td>115</td><td>1</td></tr><tr><td>0.156</td><td>0.075</td><td>152</td><td>1</td></tr><tr><td>0.19</td><td>0.076</td><td>96</td><td>1</td></tr><tr><td>0.197</td><td>0.095</td><td>115</td><td>1</td></tr><tr><td>0.039</td><td>0.085</td><td>16</td><td>1</td></tr><tr><td>0.168</td><td>0.083</td><td>28</td><td>1</td></tr><tr><td>0.244</td><td>0.066</td><td>41</td><td>1</td></tr><tr><td>0.011</td><td>0.058</td><td>69</td><td>1</td></tr><tr><td>0.123</td><td>0.005</td><td>21</td><td>1</td></tr><tr><td>0.063</td><td>0.098</td><td>121</td><td>1</td></tr><tr><td>0.22</td><td>0.083</td><td>11</td><td>1</td></tr><tr><td>0.179</td><td>0.094</td><td>39</td><td>1</td></tr><tr><td>0.172</td><td>0.022</td><td>14</td><td>1</td></tr><tr><td>0.194</td><td>0.023</td><td>168</td><td>1</td></tr><tr><td>0.133</td><td>0.059</td><td>150</td><td>1</td></tr><tr><td>0.035</td><td>0.016</td><td>69</td><td>1</td></tr><tr><td>0.064</td><td>0.094</td><td>54</td><td>1</td></tr><tr><td>0.12</td><td>0.089</td><td>99</td><td>1</td></tr><tr><td>0.114</td><td>0.055</td><td>35</td><td>1</td></tr><tr><td>0.024</td><td>0.067</td><td>10</td><td>1</td></tr><tr><td>0.107</td><td>0.066</td><td>167</td><td>1</td></tr><tr><td>0.062</td><td>0.017</td><td>176</td><td>1</td></tr><tr><td>0.206</td><td>0.046</td><td>22</td><td>1</td></tr><tr><td>0.128</td><td>0.062</td><td>164</td><td>1</td></tr><tr><td>0.161</td><td>0.058</td><td>157</td><td>1</td></tr><tr><td>0.245</td><td>0.053</td><td>83</td><td>1</td></tr><tr><td>0.161</td><td>0.056</td><td>121</td><td>1</td></tr><tr><td>0.113</td><td>0.049</td><td>70</td><td>1</td></tr><tr><td>0.215</td><td>0.067</td><td>45</td><td>1</td></tr><tr><td>0.128</td><td>0.071</td><td>60</td><td>1</td></tr><tr><td>0.158</td><td>0.007</td><td>73</td><td>1</td></tr><tr><td>0.057</td><td>0.01</td><td>80</td><td>1</td></tr><tr><td>0.13</td><td>0.001</td><td>178</td><td>1</td></tr><tr><td>0.197</td><td>0.071</td><td>26</td><td>1</td></tr><tr><td>0.053</td><td>0.027</td><td>82</td><td>1</td></tr><tr><td>0.12</td><td>0.024</td><td>175</td><td>1</td></tr><tr><td>0.014</td><td>0.004</td><td>121</td><td>1</td></tr><tr><td>0.246</td><td>0.021</td><td>134</td><td>1</td></tr><tr><td>0.156</td><td>0.002</td><td>100</td><td>1</td></tr><tr><td>0.219</td><td>0.085</td><td>60</td><td>1</td></tr><tr><td>0.015</td><td>0.007</td><td>141</td><td>1</td></tr><tr><td>0.076</td><td>0.058</td><td>102</td><td>1</td></tr><tr><td>0.184</td><td>0.017</td><td>107</td><td>1</td></tr><tr><td>0.172</td><td>0.011</td><td>23</td><td>1</td></tr><tr><td>0.112</td><td>0.013</td><td>55</td><td>1</td></tr><tr><td>0.089</td><td>0.1</td><td>153</td><td>1</td></tr><tr><td>0.063</td><td>0.086</td><td>82</td><td>1</td></tr><tr><td>0.199</td><td>0.068</td><td>82</td><td>1</td></tr><tr><td>0.061</td><td>0.032</td><td>165</td><td>1</td></tr><tr><td>0.061</td><td>0.002</td><td>128</td><td>1</td></tr><tr><td>0.031</td><td>0.02</td><td>125</td><td>1</td></tr><tr><td>0.122</td><td>0.012</td><td>72</td><td>1</td></tr><tr><td>0.165</td><td>0.034</td><td>45</td><td>1</td></tr><tr><td>0.123</td><td>0.043</td><td>91</td><td>1</td></tr><tr><td>0.129</td><td>0.067</td><td>76</td><td>1</td></tr><tr><td>0.248</td><td>0.064</td><td>101</td><td>1</td></tr><tr><td>0.09</td><td>0.007</td><td>50</td><td>1</td></tr><tr><td>0.085</td><td>0.037</td><td>155</td><td>1</td></tr><tr><td>0.222</td><td>0.06</td><td>108</td><td>1</td></tr><tr><td>0.029</td><td>0.074</td><td>82</td><td>1</td></tr><tr><td>0.216</td><td>0.041</td><td>161</td><td>1</td></tr><tr><td>0.065</td><td>0.074</td><td>142</td><td>1</td></tr><tr><td>0.218</td><td>0.003</td><td>111</td><td>1</td></tr><tr><td>0.155</td><td>0.042</td><td>113</td><td>1</td></tr><tr><td>0.103</td><td>0.072</td><td>153</td><td>1</td></tr><tr><td>0.19</td><td>0.078</td><td>112</td><td>1</td></tr><tr><td>0.013</td><td>0.038</td><td>63</td><td>1</td></tr><tr><td>0.154</td><td>0.035</td><td>39</td><td>1</td></tr><tr><td>0.091</td><td>0.083</td><td>158</td><td>1</td></tr><tr><td>0.006</td><td>0.016</td><td>67</td><td>1</td></tr><tr><td>0.124</td><td>0.003</td><td>37</td><td>1</td></tr><tr><td>0.12</td><td>0.009</td><td>79</td><td>1</td></tr><tr><td>0.25</td><td>0.035</td><td>146</td><td>1</td></tr><tr><td>0.178</td><td>0.045</td><td>72</td><td>1</td></tr><tr><td>0.069</td><td>0.085</td><td>91</td><td>1</td></tr><tr><td>0.052</td><td>0.088</td><td>55</td><td>1</td></tr><tr><td>0.073</td><td>0.025</td><td>131</td><td>1</td></tr><tr><td>0.002</td><td>0.098</td><td>35</td><td>1</td></tr><tr><td>0.172</td><td>0.073</td><td>99</td><td>1</td></tr><tr><td>0.24</td><td>0.081</td><td>135</td><td>1</td></tr><tr><td>0.068</td><td>0.083</td><td>138</td><td>1</td></tr><tr><td>0.206</td><td>0.052</td><td>166</td><td>1</td></tr><tr><td>0.144</td><td>0.031</td><td>51</td><td>1</td></tr><tr><td>0.193</td><td>0.053</td><td>75</td><td>1</td></tr><tr><td>0.012</td><td>0.045</td><td>25</td><td>1</td></tr><tr><td>0.204</td><td>0.075</td><td>88</td><td>1</td></tr><tr><td>0.007</td><td>0.005</td><td>116</td><td>1</td></tr><tr><td>0.192</td><td>0.039</td><td>74</td><td>1</td></tr><tr><td>0.108</td><td>0.032</td><td>99</td><td>1</td></tr><tr><td>0.183</td><td>0.042</td><td>177</td><td>1</td></tr><tr><td>0.095</td><td>0.065</td><td>78</td><td>1</td></tr><tr><td>0.113</td><td>0.042</td><td>38</td><td>1</td></tr><tr><td>0.115</td><td>0.033</td><td>138</td><td>1</td></tr><tr><td>0.074</td><td>0.03</td><td>78</td><td>1</td></tr><tr><td>0.151</td><td>0.096</td><td>150</td><td>1</td></tr><tr><td>0.145</td><td>0.015</td><td>97</td><td>1</td></tr><tr><td>0.042</td><td>0.068</td><td>149</td><td>1</td></tr><tr><td>0.157</td><td>0.078</td><td>160</td><td>1</td></tr><tr><td>0.047</td><td>0.006</td><td>10</td><td>1</td></tr><tr><td>0.054</td><td>0.032</td><td>58</td><td>1</td></tr><tr><td>0.178</td><td>0.082</td><td>176</td><td>1</td></tr><tr><td>0.072</td><td>0.085</td><td>36</td><td>1</td></tr><tr><td>0.062</td><td>0.003</td><td>157</td><td>1</td></tr><tr><td>0.226</td><td>0.031</td><td>151</td><td>1</td></tr><tr><td>0.011</td><td>0.071</td><td>7</td><td>1</td></tr><tr><td>0.067</td><td>0.022</td><td>59</td><td>1</td></tr><tr><td>0.05</td><td>0.018</td><td>36</td><td>1</td></tr><tr><td>0.05</td><td>0.024</td><td>93</td><td>1</td></tr><tr><td>0.005</td><td>0.08</td><td>48</td><td>1</td></tr><tr><td>0.062</td><td>0.02</td><td>8</td><td>1</td></tr><tr><td>0.107</td><td>0.083</td><td>98</td><td>1</td></tr><tr><td>0.056</td><td>0.059</td><td>83</td><td>1</td></tr><tr><td>0.126</td><td>0.037</td><td>128</td><td>1</td></tr><tr><td>0.162</td><td>0.067</td><td>156</td><td>1</td></tr><tr><td>0.01</td><td>0.063</td><td>176</td><td>1</td></tr><tr><td>0.165</td><td>0.052</td><td>124</td><td>1</td></tr><tr><td>0.245</td><td>0.03</td><td>135</td><td>1</td></tr><tr><td>0.158</td><td>0.095</td><td>108</td><td>1</td></tr><tr><td>0.017</td><td>0.034</td><td>150</td><td>1</td></tr><tr><td>0.228</td><td>0.007</td><td>120</td><td>1</td></tr><tr><td>0.035</td><td>0.066</td><td>178</td><td>1</td></tr><tr><td>0.162</td><td>0.023</td><td>47</td><td>1</td></tr><tr><td>0.138</td><td>0.096</td><td>38</td><td>1</td></tr><tr><td>0.249</td><td>0.004</td><td>108</td><td>1</td></tr><tr><td>0.073</td><td>0.097</td><td>91</td><td>1</td></tr><tr><td>0.078</td><td>0.054</td><td>161</td><td>1</td></tr><tr><td>0.139</td><td>0.052</td><td>38</td><td>1</td></tr><tr><td>0.211</td><td>0.06</td><td>54</td><td>1</td></tr><tr><td>0.025</td><td>0.001</td><td>157</td><td>1</td></tr><tr><td>0.012</td><td>0.002</td><td>160</td><td>1</td></tr><tr><td>0.035</td><td>0.017</td><td>83</td><td>1</td></tr><tr><td>0.206</td><td>0.078</td><td>179</td><td>1</td></tr><tr><td>0.084</td><td>0.089</td><td>28</td><td>1</td></tr><tr><td>0.119</td><td>0.1</td><td>141</td><td>1</td></tr><tr><td>0.01</td><td>0.048</td><td>62</td><td>1</td></tr><tr><td>0.069</td><td>0.088</td><td>174</td><td>1</td></tr><tr><td>0.008</td><td>0.023</td><td>100</td><td>1</td></tr><tr><td>0.207</td><td>0.074</td><td>174</td><td>1</td></tr><tr><td>0.2</td><td>0.069</td><td>43</td><td>1</td></tr><tr><td>0.122</td><td>0.067</td><td>89</td><td>1</td></tr><tr><td>0.144</td><td>0.008</td><td>148</td><td>1</td></tr><tr><td>0.066</td><td>0.054</td><td>147</td><td>1</td></tr><tr><td>0.224</td><td>0.019</td><td>139</td><td>1</td></tr><tr><td>0.226</td><td>0.049</td><td>34</td><td>1</td></tr><tr><td>0.002</td><td>0.044</td><td>55</td><td>1</td></tr><tr><td>0.21</td><td>0.051</td><td>106</td><td>1</td></tr><tr><td>0.157</td><td>0.037</td><td>114</td><td>1</td></tr><tr><td>0.114</td><td>0.044</td><td>68</td><td>1</td></tr><tr><td>0.209</td><td>0.048</td><td>44</td><td>1</td></tr><tr><td>0.18</td><td>0.015</td><td>145</td><td>1</td></tr><tr><td>0.059</td><td>0.051</td><td>85</td><td>1</td></tr><tr><td>0.128</td><td>0.1</td><td>179</td><td>1</td></tr><tr><td>0.167</td><td>0.082</td><td>131</td><td>1</td></tr><tr><td>0.096</td><td>0.083</td><td>47</td><td>1</td></tr><tr><td>0.089</td><td>0.033</td><td>35</td><td>1</td></tr><tr><td>0.151</td><td>0.072</td><td>105</td><td>1</td></tr><tr><td>0.2</td><td>0.041</td><td>41</td><td>1</td></tr><tr><td>0.034</td><td>0.095</td><td>57</td><td>1</td></tr><tr><td>0.063</td><td>0.018</td><td>76</td><td>1</td></tr><tr><td>0.028</td><td>0.094</td><td>135</td><td>1</td></tr><tr><td>0.03</td><td>0.097</td><td>9</td><td>1</td></tr><tr><td>0.221</td><td>0.097</td><td>32</td><td>1</td></tr><tr><td>0.141</td><td>0.04</td><td>92</td><td>1</td></tr><tr><td>0.189</td><td>0.095</td><td>116</td><td>1</td></tr><tr><td>0.243</td><td>0.053</td><td>56</td><td>1</td></tr><tr><td>0.076</td><td>0.06</td><td>18</td><td>1</td></tr><tr><td>0.199</td><td>0.006</td><td>178</td><td>1</td></tr><tr><td>0.019</td><td>0.035</td><td>177</td><td>1</td></tr><tr><td>0.206</td><td>0.05</td><td>19</td><td>1</td></tr><tr><td>0.054</td><td>0.092</td><td>99</td><td>1</td></tr><tr><td>0.196</td><td>0.055</td><td>10</td><td>1</td></tr><tr><td>0.198</td><td>0.0</td><td>85</td><td>1</td></tr><tr><td>0.025</td><td>0.038</td><td>57</td><td>1</td></tr><tr><td>0.147</td><td>0.057</td><td>99</td><td>1</td></tr><tr><td>0.1</td><td>0.013</td><td>26</td><td>1</td></tr><tr><td>0.183</td><td>0.025</td><td>171</td><td>1</td></tr><tr><td>0.211</td><td>0.0</td><td>167</td><td>1</td></tr><tr><td>0.062</td><td>0.043</td><td>121</td><td>1</td></tr><tr><td>0.147</td><td>0.049</td><td>108</td><td>1</td></tr><tr><td>0.198</td><td>0.081</td><td>86</td><td>1</td></tr><tr><td>0.099</td><td>0.029</td><td>86</td><td>1</td></tr><tr><td>0.226</td><td>0.054</td><td>59</td><td>1</td></tr><tr><td>0.098</td><td>0.021</td><td>17</td><td>1</td></tr><tr><td>0.188</td><td>0.008</td><td>108</td><td>1</td></tr><tr><td>0.062</td><td>0.007</td><td>158</td><td>1</td></tr><tr><td>0.227</td><td>0.064</td><td>153</td><td>1</td></tr><tr><td>0.118</td><td>0.098</td><td>29</td><td>1</td></tr><tr><td>0.012</td><td>0.069</td><td>109</td><td>1</td></tr><tr><td>0.101</td><td>0.094</td><td>43</td><td>1</td></tr><tr><td>0.186</td><td>0.002</td><td>164</td><td>1</td></tr><tr><td>0.198</td><td>0.068</td><td>146</td><td>1</td></tr><tr><td>0.048</td><td>0.041</td><td>64</td><td>1</td></tr><tr><td>0.126</td><td>0.024</td><td>152</td><td>1</td></tr><tr><td>0.217</td><td>0.01</td><td>174</td><td>1</td></tr><tr><td>0.2</td><td>0.084</td><td>122</td><td>1</td></tr><tr><td>0.233</td><td>0.016</td><td>89</td><td>1</td></tr><tr><td>0.024</td><td>0.047</td><td>42</td><td>1</td></tr><tr><td>0.103</td><td>0.026</td><td>113</td><td>1</td></tr><tr><td>0.085</td><td>0.032</td><td>75</td><td>1</td></tr><tr><td>0.069</td><td>0.067</td><td>144</td><td>1</td></tr><tr><td>0.159</td><td>0.029</td><td>35</td><td>1</td></tr><tr><td>0.165</td><td>0.046</td><td>7</td><td>1</td></tr><tr><td>0.071</td><td>0.01</td><td>116</td><td>1</td></tr><tr><td>0.136</td><td>0.006</td><td>163</td><td>1</td></tr><tr><td>0.172</td><td>0.068</td><td>8</td><td>1</td></tr><tr><td>0.04</td><td>0.025</td><td>20</td><td>1</td></tr><tr><td>0.069</td><td>0.072</td><td>95</td><td>1</td></tr><tr><td>0.186</td><td>0.08</td><td>168</td><td>1</td></tr><tr><td>0.216</td><td>0.055</td><td>82</td><td>1</td></tr><tr><td>0.112</td><td>0.002</td><td>21</td><td>1</td></tr><tr><td>0.197</td><td>0.057</td><td>129</td><td>1</td></tr><tr><td>0.1</td><td>0.071</td><td>120</td><td>1</td></tr><tr><td>0.106</td><td>0.075</td><td>121</td><td>1</td></tr><tr><td>0.054</td><td>0.021</td><td>79</td><td>1</td></tr><tr><td>0.103</td><td>0.079</td><td>61</td><td>1</td></tr><tr><td>0.233</td><td>0.083</td><td>84</td><td>1</td></tr><tr><td>0.128</td><td>0.032</td><td>103</td><td>1</td></tr><tr><td>0.23</td><td>0.093</td><td>90</td><td>1</td></tr><tr><td>0.194</td><td>0.013</td><td>34</td><td>1</td></tr><tr><td>0.039</td><td>0.029</td><td>173</td><td>1</td></tr><tr><td>0.199</td><td>0.053</td><td>78</td><td>1</td></tr><tr><td>0.116</td><td>0.06</td><td>53</td><td>1</td></tr><tr><td>0.09</td><td>0.092</td><td>72</td><td>1</td></tr><tr><td>0.206</td><td>0.048</td><td>102</td><td>1</td></tr><tr><td>0.045</td><td>0.093</td><td>156</td><td>1</td></tr><tr><td>0.017</td><td>0.033</td><td>162</td><td>1</td></tr><tr><td>0.197</td><td>0.017</td><td>57</td><td>1</td></tr><tr><td>0.21</td><td>0.08</td><td>175</td><td>1</td></tr><tr><td>0.14</td><td>0.093</td><td>169</td><td>1</td></tr><tr><td>0.148</td><td>0.078</td><td>71</td><td>1</td></tr><tr><td>0.069</td><td>0.06</td><td>51</td><td>1</td></tr><tr><td>0.101</td><td>0.038</td><td>113</td><td>1</td></tr><tr><td>0.241</td><td>0.041</td><td>140</td><td>1</td></tr><tr><td>0.076</td><td>0.072</td><td>23</td><td>1</td></tr><tr><td>0.117</td><td>0.002</td><td>90</td><td>1</td></tr><tr><td>0.189</td><td>0.024</td><td>122</td><td>1</td></tr><tr><td>0.211</td><td>0.081</td><td>14</td><td>1</td></tr><tr><td>0.201</td><td>0.045</td><td>83</td><td>1</td></tr><tr><td>0.076</td><td>0.03</td><td>117</td><td>1</td></tr><tr><td>0.013</td><td>0.036</td><td>122</td><td>1</td></tr><tr><td>0.152</td><td>0.016</td><td>5</td><td>1</td></tr><tr><td>0.125</td><td>0.072</td><td>40</td><td>1</td></tr><tr><td>0.232</td><td>0.026</td><td>126</td><td>1</td></tr><tr><td>0.25</td><td>0.099</td><td>164</td><td>1</td></tr><tr><td>0.128</td><td>0.078</td><td>176</td><td>1</td></tr><tr><td>0.221</td><td>0.051</td><td>76</td><td>1</td></tr><tr><td>0.143</td><td>0.049</td><td>107</td><td>1</td></tr><tr><td>0.161</td><td>0.092</td><td>152</td><td>1</td></tr><tr><td>0.02</td><td>0.018</td><td>105</td><td>1</td></tr><tr><td>0.079</td><td>0.098</td><td>93</td><td>1</td></tr><tr><td>0.03</td><td>0.077</td><td>115</td><td>1</td></tr><tr><td>0.206</td><td>0.044</td><td>20</td><td>1</td></tr><tr><td>0.01</td><td>0.027</td><td>83</td><td>1</td></tr><tr><td>0.201</td><td>0.028</td><td>36</td><td>1</td></tr><tr><td>0.139</td><td>0.085</td><td>132</td><td>1</td></tr><tr><td>0.203</td><td>0.004</td><td>169</td><td>1</td></tr><tr><td>0.141</td><td>0.063</td><td>17</td><td>1</td></tr><tr><td>0.148</td><td>0.046</td><td>94</td><td>1</td></tr><tr><td>0.126</td><td>0.053</td><td>79</td><td>1</td></tr><tr><td>0.201</td><td>0.03</td><td>156</td><td>1</td></tr><tr><td>0.15</td><td>0.043</td><td>111</td><td>1</td></tr><tr><td>0.209</td><td>0.085</td><td>156</td><td>1</td></tr><tr><td>0.166</td><td>0.031</td><td>118</td><td>1</td></tr><tr><td>0.154</td><td>0.048</td><td>36</td><td>1</td></tr><tr><td>0.014</td><td>0.068</td><td>56</td><td>1</td></tr><tr><td>0.167</td><td>0.049</td><td>32</td><td>1</td></tr><tr><td>0.208</td><td>0.047</td><td>171</td><td>1</td></tr><tr><td>0.081</td><td>0.06</td><td>56</td><td>1</td></tr><tr><td>0.041</td><td>0.085</td><td>123</td><td>1</td></tr><tr><td>0.111</td><td>0.095</td><td>107</td><td>1</td></tr><tr><td>0.098</td><td>0.032</td><td>78</td><td>1</td></tr><tr><td>0.104</td><td>0.036</td><td>100</td><td>1</td></tr><tr><td>0.208</td><td>0.093</td><td>92</td><td>1</td></tr><tr><td>0.227</td><td>0.035</td><td>105</td><td>1</td></tr><tr><td>0.175</td><td>0.056</td><td>155</td><td>1</td></tr><tr><td>0.04</td><td>0.037</td><td>138</td><td>1</td></tr><tr><td>0.17</td><td>0.044</td><td>160</td><td>1</td></tr><tr><td>0.03</td><td>0.084</td><td>101</td><td>1</td></tr><tr><td>0.105</td><td>0.089</td><td>67</td><td>1</td></tr><tr><td>0.169</td><td>0.061</td><td>126</td><td>1</td></tr><tr><td>0.234</td><td>0.067</td><td>160</td><td>1</td></tr><tr><td>0.045</td><td>0.071</td><td>159</td><td>1</td></tr><tr><td>0.14</td><td>0.02</td><td>75</td><td>1</td></tr><tr><td>0.047</td><td>0.074</td><td>119</td><td>1</td></tr><tr><td>0.106</td><td>0.022</td><td>19</td><td>1</td></tr><tr><td>0.217</td><td>0.067</td><td>62</td><td>1</td></tr><tr><td>0.024</td><td>0.022</td><td>83</td><td>1</td></tr><tr><td>0.089</td><td>0.026</td><td>13</td><td>1</td></tr><tr><td>0.021</td><td>0.026</td><td>167</td><td>1</td></tr><tr><td>0.24</td><td>0.002</td><td>81</td><td>1</td></tr><tr><td>0.247</td><td>0.042</td><td>33</td><td>1</td></tr><tr><td>0.154</td><td>0.081</td><td>48</td><td>1</td></tr><tr><td>0.089</td><td>0.087</td><td>50</td><td>1</td></tr><tr><td>0.064</td><td>0.085</td><td>25</td><td>1</td></tr><tr><td>0.248</td><td>0.069</td><td>140</td><td>1</td></tr><tr><td>0.08</td><td>0.036</td><td>90</td><td>1</td></tr><tr><td>0.004</td><td>0.054</td><td>20</td><td>1</td></tr><tr><td>0.232</td><td>0.049</td><td>78</td><td>1</td></tr><tr><td>0.133</td><td>0.055</td><td>176</td><td>1</td></tr><tr><td>0.089</td><td>0.034</td><td>113</td><td>1</td></tr><tr><td>0.101</td><td>0.096</td><td>14</td><td>1</td></tr><tr><td>0.199</td><td>0.097</td><td>168</td><td>1</td></tr><tr><td>0.143</td><td>0.058</td><td>95</td><td>1</td></tr><tr><td>0.244</td><td>0.006</td><td>164</td><td>1</td></tr><tr><td>0.132</td><td>0.063</td><td>152</td><td>1</td></tr><tr><td>0.112</td><td>0.002</td><td>82</td><td>1</td></tr><tr><td>0.151</td><td>0.034</td><td>6</td><td>1</td></tr><tr><td>0.105</td><td>0.014</td><td>171</td><td>1</td></tr><tr><td>0.088</td><td>0.019</td><td>29</td><td>1</td></tr><tr><td>0.17</td><td>0.095</td><td>73</td><td>1</td></tr><tr><td>0.032</td><td>0.002</td><td>176</td><td>1</td></tr><tr><td>0.099</td><td>0.033</td><td>166</td><td>1</td></tr><tr><td>0.168</td><td>0.026</td><td>111</td><td>1</td></tr><tr><td>0.156</td><td>0.091</td><td>9</td><td>1</td></tr><tr><td>0.06</td><td>0.051</td><td>34</td><td>1</td></tr><tr><td>0.065</td><td>0.028</td><td>166</td><td>1</td></tr><tr><td>0.074</td><td>0.047</td><td>153</td><td>1</td></tr><tr><td>0.238</td><td>0.077</td><td>107</td><td>1</td></tr><tr><td>0.111</td><td>0.056</td><td>7</td><td>1</td></tr><tr><td>0.038</td><td>0.002</td><td>37</td><td>1</td></tr><tr><td>0.178</td><td>0.02</td><td>178</td><td>1</td></tr><tr><td>0.14</td><td>0.012</td><td>122</td><td>1</td></tr><tr><td>0.093</td><td>0.061</td><td>65</td><td>1</td></tr><tr><td>0.218</td><td>0.098</td><td>172</td><td>1</td></tr><tr><td>0.061</td><td>0.034</td><td>59</td><td>1</td></tr><tr><td>0.176</td><td>0.054</td><td>99</td><td>1</td></tr><tr><td>0.127</td><td>0.002</td><td>152</td><td>1</td></tr><tr><td>0.035</td><td>0.044</td><td>79</td><td>1</td></tr><tr><td>0.005</td><td>0.092</td><td>33</td><td>1</td></tr><tr><td>0.18</td><td>0.013</td><td>172</td><td>1</td></tr><tr><td>0.084</td><td>0.014</td><td>152</td><td>1</td></tr><tr><td>0.123</td><td>0.063</td><td>153</td><td>1</td></tr><tr><td>0.019</td><td>0.05</td><td>136</td><td>1</td></tr><tr><td>0.147</td><td>0.007</td><td>136</td><td>1</td></tr><tr><td>0.218</td><td>0.073</td><td>173</td><td>1</td></tr><tr><td>0.107</td><td>0.068</td><td>13</td><td>1</td></tr><tr><td>0.117</td><td>0.096</td><td>90</td><td>1</td></tr><tr><td>0.157</td><td>0.067</td><td>86</td><td>1</td></tr><tr><td>0.195</td><td>0.072</td><td>16</td><td>1</td></tr><tr><td>0.084</td><td>0.051</td><td>103</td><td>1</td></tr><tr><td>0.1</td><td>0.041</td><td>171</td><td>1</td></tr><tr><td>0.087</td><td>0.045</td><td>17</td><td>1</td></tr><tr><td>0.242</td><td>0.066</td><td>73</td><td>1</td></tr><tr><td>0.135</td><td>0.04</td><td>62</td><td>1</td></tr><tr><td>0.064</td><td>0.017</td><td>34</td><td>1</td></tr><tr><td>0.172</td><td>0.091</td><td>119</td><td>1</td></tr><tr><td>0.249</td><td>0.051</td><td>69</td><td>1</td></tr><tr><td>0.125</td><td>0.047</td><td>47</td><td>1</td></tr><tr><td>0.171</td><td>0.073</td><td>19</td><td>1</td></tr><tr><td>0.018</td><td>0.058</td><td>161</td><td>1</td></tr><tr><td>0.249</td><td>0.08</td><td>9</td><td>1</td></tr><tr><td>0.111</td><td>0.035</td><td>97</td><td>1</td></tr><tr><td>0.145</td><td>0.05</td><td>24</td><td>1</td></tr><tr><td>0.068</td><td>0.077</td><td>41</td><td>1</td></tr><tr><td>0.007</td><td>0.074</td><td>24</td><td>1</td></tr><tr><td>0.088</td><td>0.027</td><td>158</td><td>1</td></tr><tr><td>0.017</td><td>0.016</td><td>111</td><td>1</td></tr><tr><td>0.141</td><td>0.025</td><td>19</td><td>1</td></tr><tr><td>0.016</td><td>0.085</td><td>148</td><td>1</td></tr><tr><td>0.14</td><td>0.085</td><td>93</td><td>1</td></tr><tr><td>0.096</td><td>0.093</td><td>108</td><td>1</td></tr><tr><td>0.103</td><td>0.023</td><td>155</td><td>1</td></tr><tr><td>0.124</td><td>0.025</td><td>36</td><td>1</td></tr><tr><td>0.141</td><td>0.056</td><td>22</td><td>1</td></tr><tr><td>0.07</td><td>0.064</td><td>42</td><td>1</td></tr><tr><td>0.08</td><td>0.043</td><td>160</td><td>1</td></tr><tr><td>0.008</td><td>0.029</td><td>108</td><td>1</td></tr><tr><td>0.174</td><td>0.039</td><td>20</td><td>1</td></tr><tr><td>0.119</td><td>0.095</td><td>136</td><td>1</td></tr><tr><td>0.182</td><td>0.048</td><td>53</td><td>1</td></tr><tr><td>0.178</td><td>0.1</td><td>99</td><td>1</td></tr><tr><td>0.105</td><td>0.083</td><td>101</td><td>1</td></tr><tr><td>0.202</td><td>0.028</td><td>97</td><td>1</td></tr><tr><td>0.238</td><td>0.018</td><td>149</td><td>1</td></tr><tr><td>0.009</td><td>0.065</td><td>165</td><td>1</td></tr><tr><td>0.238</td><td>0.042</td><td>5</td><td>1</td></tr><tr><td>0.119</td><td>0.083</td><td>109</td><td>1</td></tr><tr><td>0.179</td><td>0.043</td><td>123</td><td>1</td></tr><tr><td>0.09</td><td>0.051</td><td>83</td><td>1</td></tr><tr><td>0.196</td><td>0.048</td><td>10</td><td>1</td></tr><tr><td>0.045</td><td>0.025</td><td>111</td><td>1</td></tr><tr><td>0.052</td><td>0.019</td><td>45</td><td>1</td></tr><tr><td>0.123</td><td>0.033</td><td>101</td><td>1</td></tr><tr><td>0.239</td><td>0.032</td><td>160</td><td>1</td></tr><tr><td>0.162</td><td>0.072</td><td>40</td><td>1</td></tr><tr><td>0.103</td><td>0.044</td><td>153</td><td>1</td></tr><tr><td>0.184</td><td>0.01</td><td>103</td><td>1</td></tr><tr><td>0.164</td><td>0.026</td><td>71</td><td>1</td></tr><tr><td>0.178</td><td>0.091</td><td>21</td><td>1</td></tr><tr><td>0.227</td><td>0.056</td><td>134</td><td>1</td></tr><tr><td>0.172</td><td>0.041</td><td>33</td><td>1</td></tr><tr><td>0.219</td><td>0.095</td><td>56</td><td>1</td></tr><tr><td>0.216</td><td>0.096</td><td>78</td><td>1</td></tr><tr><td>0.226</td><td>0.039</td><td>126</td><td>1</td></tr><tr><td>0.144</td><td>0.046</td><td>106</td><td>1</td></tr><tr><td>0.125</td><td>0.009</td><td>36</td><td>1</td></tr><tr><td>0.082</td><td>0.002</td><td>135</td><td>1</td></tr><tr><td>0.144</td><td>0.034</td><td>19</td><td>1</td></tr><tr><td>0.18</td><td>0.006</td><td>79</td><td>1</td></tr><tr><td>0.042</td><td>0.054</td><td>25</td><td>1</td></tr><tr><td>0.158</td><td>0.089</td><td>59</td><td>1</td></tr><tr><td>0.039</td><td>0.004</td><td>147</td><td>1</td></tr><tr><td>0.192</td><td>0.047</td><td>168</td><td>1</td></tr><tr><td>0.091</td><td>0.038</td><td>141</td><td>1</td></tr><tr><td>0.047</td><td>0.021</td><td>19</td><td>1</td></tr><tr><td>0.101</td><td>0.075</td><td>19</td><td>1</td></tr><tr><td>0.033</td><td>0.087</td><td>156</td><td>1</td></tr><tr><td>0.094</td><td>0.075</td><td>104</td><td>1</td></tr><tr><td>0.197</td><td>0.095</td><td>123</td><td>1</td></tr><tr><td>0.233</td><td>0.073</td><td>84</td><td>1</td></tr><tr><td>0.162</td><td>0.092</td><td>106</td><td>1</td></tr></tbody></table></div>"
      ]
     },
     "metadata": {
      "application/vnd.databricks.v1+output": {
       "addedWidgets": {},
       "aggData": [],
       "aggError": "",
       "aggOverflow": false,
       "aggSchema": [],
       "aggSeriesLimitReached": false,
       "aggType": "",
       "arguments": {},
       "columnCustomDisplayInfos": {},
       "data": [
        [
         0.182,
         0.004,
         167,
         1
        ],
        [
         0.198,
         0.017,
         72,
         1
        ],
        [
         0.21,
         0.045,
         138,
         1
        ],
        [
         0.115,
         0.06,
         151,
         1
        ],
        [
         0.127,
         0.07,
         152,
         1
        ],
        [
         0.18,
         0.018,
         133,
         1
        ],
        [
         0.229,
         0.014,
         88,
         1
        ],
        [
         0.195,
         0.1,
         168,
         1
        ],
        [
         0.177,
         0.04,
         122,
         1
        ],
        [
         0.216,
         0.073,
         51,
         1
        ],
        [
         0.132,
         0.086,
         153,
         1
        ],
        [
         0.142,
         0.003,
         55,
         1
        ],
        [
         0.003,
         0.052,
         173,
         1
        ],
        [
         0.04,
         0.049,
         129,
         1
        ],
        [
         0.065,
         0.027,
         33,
         1
        ],
        [
         0.197,
         0.006,
         18,
         1
        ],
        [
         0.213,
         0.075,
         19,
         1
        ],
        [
         0.087,
         0.03,
         7,
         1
        ],
        [
         0.071,
         0.028,
         70,
         1
        ],
        [
         0.097,
         0.002,
         66,
         1
        ],
        [
         0.03,
         0.005,
         61,
         1
        ],
        [
         0.244,
         0.058,
         140,
         1
        ],
        [
         0.034,
         0.004,
         15,
         1
        ],
        [
         0.003,
         0.04,
         90,
         1
        ],
        [
         0.239,
         0.058,
         71,
         1
        ],
        [
         0.048,
         0.042,
         152,
         1
        ],
        [
         0.229,
         0.055,
         46,
         1
        ],
        [
         0.107,
         0.001,
         117,
         1
        ],
        [
         0.088,
         0.048,
         105,
         1
        ],
        [
         0.154,
         0.08,
         151,
         1
        ],
        [
         0.248,
         0.017,
         38,
         1
        ],
        [
         0.145,
         0.007,
         75,
         1
        ],
        [
         0.139,
         0.073,
         117,
         1
        ],
        [
         0.08,
         0.093,
         158,
         1
        ],
        [
         0.067,
         0.099,
         109,
         1
        ],
        [
         0.187,
         0.072,
         101,
         1
        ],
        [
         0.22,
         0.023,
         50,
         1
        ],
        [
         0.158,
         0.097,
         81,
         1
        ],
        [
         0.068,
         0.03,
         140,
         1
        ],
        [
         0.184,
         0.07,
         34,
         1
        ],
        [
         0.114,
         0.082,
         31,
         1
        ],
        [
         0.181,
         0.016,
         61,
         1
        ],
        [
         0.176,
         0.077,
         155,
         1
        ],
        [
         0.128,
         0.043,
         100,
         1
        ],
        [
         0.064,
         0.081,
         100,
         1
        ],
        [
         0.118,
         0.025,
         159,
         1
        ],
        [
         0.145,
         0.054,
         154,
         1
        ],
        [
         0.202,
         0.067,
         15,
         1
        ],
        [
         0.239,
         0.005,
         62,
         1
        ],
        [
         0.175,
         0.064,
         74,
         1
        ],
        [
         0.045,
         0.03,
         95,
         1
        ],
        [
         0.213,
         0.08,
         152,
         1
        ],
        [
         0.229,
         0.027,
         14,
         1
        ],
        [
         0.033,
         0.098,
         20,
         1
        ],
        [
         0.165,
         0.049,
         131,
         1
        ],
        [
         0.235,
         0.019,
         30,
         2
        ],
        [
         0.063,
         0.012,
         27,
         1
        ],
        [
         0.014,
         0.045,
         49,
         1
        ],
        [
         0.165,
         0.013,
         80,
         1
        ],
        [
         0.073,
         0.088,
         153,
         1
        ],
        [
         0.067,
         0.01,
         19,
         1
        ],
        [
         0.014,
         0.08,
         176,
         1
        ],
        [
         0.247,
         0.066,
         49,
         1
        ],
        [
         0.024,
         0.082,
         57,
         1
        ],
        [
         0.019,
         0.046,
         174,
         1
        ],
        [
         0.225,
         0.007,
         165,
         1
        ],
        [
         0.009,
         0.016,
         115,
         1
        ],
        [
         0.249,
         0.082,
         113,
         1
        ],
        [
         0.149,
         0.098,
         53,
         1
        ],
        [
         0.146,
         0.065,
         140,
         1
        ],
        [
         0.209,
         0.064,
         6,
         1
        ],
        [
         0.042,
         0.06,
         34,
         1
        ],
        [
         0.211,
         0.062,
         83,
         1
        ],
        [
         0.169,
         0.0,
         44,
         1
        ],
        [
         0.232,
         0.089,
         139,
         1
        ],
        [
         0.223,
         0.086,
         167,
         1
        ],
        [
         0.079,
         0.021,
         160,
         1
        ],
        [
         0.154,
         0.07,
         91,
         1
        ],
        [
         0.159,
         0.048,
         61,
         1
        ],
        [
         0.08,
         0.07,
         38,
         1
        ],
        [
         0.107,
         0.086,
         19,
         1
        ],
        [
         0.045,
         0.077,
         73,
         1
        ],
        [
         0.015,
         0.038,
         53,
         1
        ],
        [
         0.093,
         0.044,
         13,
         1
        ],
        [
         0.209,
         0.013,
         125,
         1
        ],
        [
         0.084,
         0.047,
         154,
         1
        ],
        [
         0.194,
         0.041,
         161,
         1
        ],
        [
         0.106,
         0.03,
         89,
         1
        ],
        [
         0.129,
         0.019,
         166,
         1
        ],
        [
         0.243,
         0.015,
         39,
         1
        ],
        [
         0.205,
         0.065,
         49,
         1
        ],
        [
         0.117,
         0.095,
         122,
         1
        ],
        [
         0.191,
         0.009,
         140,
         1
        ],
        [
         0.022,
         0.025,
         144,
         1
        ],
        [
         0.202,
         0.035,
         40,
         1
        ],
        [
         0.045,
         0.086,
         159,
         1
        ],
        [
         0.085,
         0.057,
         55,
         1
        ],
        [
         0.055,
         0.033,
         42,
         1
        ],
        [
         0.18,
         0.001,
         142,
         1
        ],
        [
         0.046,
         0.0,
         131,
         1
        ],
        [
         0.208,
         0.041,
         98,
         1
        ],
        [
         0.01,
         0.074,
         11,
         1
        ],
        [
         0.052,
         0.046,
         7,
         1
        ],
        [
         0.038,
         0.067,
         10,
         1
        ],
        [
         0.231,
         0.024,
         148,
         1
        ],
        [
         0.023,
         0.026,
         18,
         1
        ],
        [
         0.008,
         0.09,
         97,
         1
        ],
        [
         0.197,
         0.057,
         74,
         1
        ],
        [
         0.197,
         0.01,
         17,
         1
        ],
        [
         0.005,
         0.043,
         33,
         1
        ],
        [
         0.128,
         0.034,
         90,
         1
        ],
        [
         0.102,
         0.053,
         43,
         1
        ],
        [
         0.038,
         0.005,
         95,
         1
        ],
        [
         0.002,
         0.041,
         14,
         1
        ],
        [
         0.004,
         0.054,
         139,
         1
        ],
        [
         0.021,
         0.068,
         77,
         1
        ],
        [
         0.128,
         0.032,
         35,
         1
        ],
        [
         0.235,
         0.065,
         40,
         1
        ],
        [
         0.192,
         0.074,
         156,
         1
        ],
        [
         0.031,
         0.041,
         26,
         1
        ],
        [
         0.164,
         0.074,
         124,
         1
        ],
        [
         0.237,
         0.029,
         164,
         1
        ],
        [
         0.023,
         0.095,
         13,
         1
        ],
        [
         0.027,
         0.009,
         43,
         1
        ],
        [
         0.11,
         0.077,
         22,
         1
        ],
        [
         0.01,
         0.011,
         131,
         1
        ],
        [
         0.134,
         0.04,
         48,
         1
        ],
        [
         0.133,
         0.028,
         139,
         1
        ],
        [
         0.053,
         0.083,
         87,
         1
        ],
        [
         0.093,
         0.018,
         81,
         1
        ],
        [
         0.145,
         0.076,
         98,
         1
        ],
        [
         0.159,
         0.087,
         54,
         1
        ],
        [
         0.21,
         0.047,
         67,
         1
        ],
        [
         0.148,
         0.069,
         153,
         1
        ],
        [
         0.231,
         0.089,
         178,
         1
        ],
        [
         0.104,
         0.069,
         120,
         1
        ],
        [
         0.106,
         0.061,
         12,
         1
        ],
        [
         0.161,
         0.071,
         34,
         1
        ],
        [
         0.181,
         0.098,
         107,
         1
        ],
        [
         0.092,
         0.076,
         129,
         1
        ],
        [
         0.127,
         0.089,
         72,
         1
        ],
        [
         0.003,
         0.031,
         116,
         1
        ],
        [
         0.076,
         0.006,
         160,
         1
        ],
        [
         0.021,
         0.086,
         7,
         1
        ],
        [
         0.211,
         0.068,
         60,
         1
        ],
        [
         0.112,
         0.093,
         83,
         1
        ],
        [
         0.104,
         0.067,
         118,
         1
        ],
        [
         0.13,
         0.096,
         14,
         1
        ],
        [
         0.098,
         0.024,
         109,
         1
        ],
        [
         0.173,
         0.074,
         141,
         1
        ],
        [
         0.111,
         0.012,
         159,
         1
        ],
        [
         0.004,
         0.035,
         6,
         1
        ],
        [
         0.198,
         0.083,
         20,
         1
        ],
        [
         0.248,
         0.015,
         77,
         1
        ],
        [
         0.22,
         0.0,
         153,
         1
        ],
        [
         0.218,
         0.034,
         77,
         1
        ],
        [
         0.128,
         0.036,
         141,
         1
        ],
        [
         0.0,
         0.086,
         46,
         1
        ],
        [
         0.121,
         0.076,
         164,
         1
        ],
        [
         0.187,
         0.048,
         44,
         1
        ],
        [
         0.16,
         0.049,
         10,
         1
        ],
        [
         0.039,
         0.008,
         91,
         1
        ],
        [
         0.066,
         0.021,
         82,
         1
        ],
        [
         0.116,
         0.079,
         155,
         1
        ],
        [
         0.074,
         0.057,
         70,
         1
        ],
        [
         0.183,
         0.095,
         170,
         1
        ],
        [
         0.225,
         0.058,
         18,
         1
        ],
        [
         0.156,
         0.025,
         87,
         1
        ],
        [
         0.159,
         0.014,
         133,
         1
        ],
        [
         0.045,
         0.072,
         115,
         1
        ],
        [
         0.069,
         0.086,
         30,
         1
        ],
        [
         0.02,
         0.028,
         137,
         1
        ],
        [
         0.041,
         0.043,
         44,
         1
        ],
        [
         0.04,
         0.031,
         5,
         1
        ],
        [
         0.067,
         0.003,
         166,
         1
        ],
        [
         0.161,
         0.017,
         59,
         1
        ],
        [
         0.086,
         0.03,
         87,
         1
        ],
        [
         0.137,
         0.054,
         104,
         1
        ],
        [
         0.003,
         0.04,
         154,
         1
        ],
        [
         0.22,
         0.033,
         113,
         1
        ],
        [
         0.041,
         0.029,
         81,
         1
        ],
        [
         0.131,
         0.003,
         150,
         1
        ],
        [
         0.092,
         0.046,
         68,
         1
        ],
        [
         0.145,
         0.099,
         171,
         1
        ],
        [
         0.016,
         0.008,
         113,
         1
        ],
        [
         0.165,
         0.048,
         89,
         1
        ],
        [
         0.073,
         0.021,
         41,
         1
        ],
        [
         0.034,
         0.07,
         162,
         1
        ],
        [
         0.228,
         0.027,
         28,
         1
        ],
        [
         0.15,
         0.026,
         56,
         1
        ],
        [
         0.192,
         0.088,
         16,
         1
        ],
        [
         0.119,
         0.011,
         57,
         1
        ],
        [
         0.233,
         0.074,
         56,
         1
        ],
        [
         0.066,
         0.046,
         106,
         1
        ],
        [
         0.125,
         0.025,
         106,
         1
        ],
        [
         0.241,
         0.01,
         57,
         1
        ],
        [
         0.162,
         0.075,
         165,
         1
        ],
        [
         0.061,
         0.098,
         153,
         1
        ],
        [
         0.056,
         0.065,
         161,
         1
        ],
        [
         0.219,
         0.079,
         46,
         1
        ],
        [
         0.056,
         0.072,
         52,
         1
        ],
        [
         0.168,
         0.027,
         105,
         1
        ],
        [
         0.177,
         0.1,
         22,
         1
        ],
        [
         0.146,
         0.038,
         19,
         1
        ],
        [
         0.242,
         0.03,
         115,
         1
        ],
        [
         0.037,
         0.062,
         121,
         1
        ],
        [
         0.078,
         0.026,
         56,
         1
        ],
        [
         0.043,
         0.037,
         12,
         1
        ],
        [
         0.179,
         0.093,
         14,
         1
        ],
        [
         0.094,
         0.061,
         55,
         1
        ],
        [
         0.037,
         0.014,
         110,
         1
        ],
        [
         0.054,
         0.022,
         140,
         1
        ],
        [
         0.151,
         0.096,
         142,
         1
        ],
        [
         0.23,
         0.093,
         141,
         1
        ],
        [
         0.116,
         0.039,
         161,
         1
        ],
        [
         0.133,
         0.032,
         87,
         1
        ],
        [
         0.204,
         0.03,
         149,
         1
        ],
        [
         0.235,
         0.031,
         147,
         1
        ],
        [
         0.191,
         0.0,
         117,
         1
        ],
        [
         0.006,
         0.096,
         64,
         1
        ],
        [
         0.175,
         0.05,
         21,
         1
        ],
        [
         0.188,
         0.092,
         48,
         1
        ],
        [
         0.193,
         0.067,
         25,
         1
        ],
        [
         0.073,
         0.014,
         43,
         1
        ],
        [
         0.236,
         0.073,
         81,
         1
        ],
        [
         0.208,
         0.019,
         69,
         1
        ],
        [
         0.219,
         0.06,
         6,
         1
        ],
        [
         0.179,
         0.062,
         109,
         1
        ],
        [
         0.084,
         0.021,
         44,
         1
        ],
        [
         0.136,
         0.097,
         62,
         1
        ],
        [
         0.197,
         0.039,
         80,
         1
        ],
        [
         0.199,
         0.075,
         66,
         1
        ],
        [
         0.009,
         0.031,
         130,
         1
        ],
        [
         0.055,
         0.052,
         142,
         1
        ],
        [
         0.109,
         0.051,
         94,
         1
        ],
        [
         0.069,
         0.099,
         175,
         1
        ],
        [
         0.233,
         0.052,
         30,
         1
        ],
        [
         0.065,
         0.078,
         171,
         1
        ],
        [
         0.02,
         0.032,
         129,
         1
        ],
        [
         0.023,
         0.062,
         79,
         1
        ],
        [
         0.027,
         0.049,
         109,
         1
        ],
        [
         0.091,
         0.09,
         67,
         1
        ],
        [
         0.064,
         0.042,
         118,
         1
        ],
        [
         0.037,
         0.09,
         27,
         1
        ],
        [
         0.099,
         0.049,
         24,
         1
        ],
        [
         0.228,
         0.091,
         25,
         1
        ],
        [
         0.14,
         0.049,
         74,
         1
        ],
        [
         0.232,
         0.07,
         85,
         1
        ],
        [
         0.134,
         0.099,
         10,
         1
        ],
        [
         0.206,
         0.087,
         20,
         1
        ],
        [
         0.203,
         0.012,
         146,
         1
        ],
        [
         0.046,
         0.018,
         123,
         1
        ],
        [
         0.139,
         0.046,
         118,
         1
        ],
        [
         0.018,
         0.025,
         50,
         1
        ],
        [
         0.071,
         0.013,
         41,
         1
        ],
        [
         0.241,
         0.016,
         177,
         1
        ],
        [
         0.145,
         0.011,
         30,
         1
        ],
        [
         0.15,
         0.049,
         155,
         1
        ],
        [
         0.176,
         0.056,
         117,
         1
        ],
        [
         0.098,
         0.041,
         160,
         1
        ],
        [
         0.043,
         0.074,
         50,
         1
        ],
        [
         0.027,
         0.061,
         80,
         1
        ],
        [
         0.038,
         0.068,
         11,
         1
        ],
        [
         0.199,
         0.003,
         141,
         1
        ],
        [
         0.223,
         0.058,
         28,
         1
        ],
        [
         0.015,
         0.025,
         26,
         1
        ],
        [
         0.161,
         0.038,
         135,
         1
        ],
        [
         0.014,
         0.065,
         120,
         1
        ],
        [
         0.027,
         0.004,
         142,
         1
        ],
        [
         0.05,
         0.002,
         25,
         1
        ],
        [
         0.017,
         0.05,
         87,
         1
        ],
        [
         0.177,
         0.05,
         14,
         1
        ],
        [
         0.07,
         0.001,
         38,
         1
        ],
        [
         0.0,
         0.093,
         117,
         1
        ],
        [
         0.008,
         0.036,
         73,
         1
        ],
        [
         0.191,
         0.064,
         146,
         1
        ],
        [
         0.166,
         0.067,
         162,
         1
        ],
        [
         0.195,
         0.041,
         168,
         1
        ],
        [
         0.117,
         0.089,
         117,
         1
        ],
        [
         0.214,
         0.062,
         37,
         1
        ],
        [
         0.205,
         0.049,
         35,
         1
        ],
        [
         0.108,
         0.081,
         16,
         1
        ],
        [
         0.02,
         0.051,
         7,
         1
        ],
        [
         0.092,
         0.058,
         90,
         1
        ],
        [
         0.06,
         0.002,
         25,
         1
        ],
        [
         0.193,
         0.03,
         163,
         1
        ],
        [
         0.237,
         0.008,
         160,
         1
        ],
        [
         0.13,
         0.021,
         33,
         1
        ],
        [
         0.13,
         0.027,
         99,
         1
        ],
        [
         0.019,
         0.042,
         63,
         1
        ],
        [
         0.245,
         0.045,
         53,
         1
        ],
        [
         0.056,
         0.03,
         86,
         1
        ],
        [
         0.062,
         0.094,
         43,
         1
        ],
        [
         0.091,
         0.011,
         73,
         1
        ],
        [
         0.214,
         0.09,
         30,
         1
        ],
        [
         0.166,
         0.047,
         134,
         1
        ],
        [
         0.045,
         0.045,
         176,
         1
        ],
        [
         0.13,
         0.067,
         176,
         1
        ],
        [
         0.1,
         0.032,
         80,
         1
        ],
        [
         0.144,
         0.073,
         105,
         1
        ],
        [
         0.241,
         0.057,
         33,
         1
        ],
        [
         0.207,
         0.021,
         151,
         1
        ],
        [
         0.246,
         0.075,
         120,
         1
        ],
        [
         0.21,
         0.061,
         56,
         1
        ],
        [
         0.133,
         0.039,
         36,
         1
        ],
        [
         0.084,
         0.017,
         169,
         1
        ],
        [
         0.011,
         0.012,
         18,
         1
        ],
        [
         0.059,
         0.064,
         39,
         1
        ],
        [
         0.064,
         0.027,
         151,
         1
        ],
        [
         0.022,
         0.086,
         86,
         1
        ],
        [
         0.144,
         0.028,
         133,
         1
        ],
        [
         0.16,
         0.005,
         10,
         1
        ],
        [
         0.234,
         0.025,
         43,
         1
        ],
        [
         0.028,
         0.07,
         176,
         1
        ],
        [
         0.131,
         0.063,
         169,
         1
        ],
        [
         0.233,
         0.026,
         122,
         1
        ],
        [
         0.2,
         0.054,
         157,
         1
        ],
        [
         0.108,
         0.068,
         57,
         1
        ],
        [
         0.008,
         0.087,
         114,
         1
        ],
        [
         0.047,
         0.075,
         116,
         1
        ],
        [
         0.044,
         0.1,
         10,
         1
        ],
        [
         0.238,
         0.007,
         95,
         1
        ],
        [
         0.057,
         0.034,
         172,
         1
        ],
        [
         0.078,
         0.015,
         126,
         1
        ],
        [
         0.138,
         0.073,
         85,
         1
        ],
        [
         0.113,
         0.05,
         109,
         1
        ],
        [
         0.067,
         0.042,
         130,
         1
        ],
        [
         0.203,
         0.014,
         114,
         1
        ],
        [
         0.039,
         0.046,
         139,
         1
        ],
        [
         0.076,
         0.047,
         64,
         1
        ],
        [
         0.189,
         0.059,
         143,
         1
        ],
        [
         0.074,
         0.003,
         31,
         1
        ],
        [
         0.087,
         0.002,
         171,
         1
        ],
        [
         0.108,
         0.003,
         61,
         1
        ],
        [
         0.146,
         0.084,
         178,
         1
        ],
        [
         0.156,
         0.035,
         19,
         1
        ],
        [
         0.163,
         0.005,
         126,
         1
        ],
        [
         0.122,
         0.031,
         41,
         1
        ],
        [
         0.198,
         0.095,
         128,
         1
        ],
        [
         0.206,
         0.024,
         170,
         1
        ],
        [
         0.063,
         0.001,
         168,
         1
        ],
        [
         0.113,
         0.063,
         24,
         1
        ],
        [
         0.0,
         0.093,
         24,
         1
        ],
        [
         0.115,
         0.008,
         159,
         1
        ],
        [
         0.024,
         0.084,
         119,
         1
        ],
        [
         0.141,
         0.061,
         147,
         1
        ],
        [
         0.033,
         0.033,
         71,
         1
        ],
        [
         0.246,
         0.052,
         136,
         1
        ],
        [
         0.019,
         0.05,
         63,
         1
        ],
        [
         0.193,
         0.042,
         83,
         1
        ],
        [
         0.062,
         0.042,
         177,
         1
        ],
        [
         0.249,
         0.049,
         93,
         1
        ],
        [
         0.189,
         0.029,
         14,
         1
        ],
        [
         0.171,
         0.06,
         71,
         1
        ],
        [
         0.139,
         0.019,
         54,
         1
        ],
        [
         0.045,
         0.097,
         54,
         1
        ],
        [
         0.004,
         0.027,
         117,
         1
        ],
        [
         0.017,
         0.082,
         26,
         1
        ],
        [
         0.08,
         0.022,
         34,
         1
        ],
        [
         0.005,
         0.068,
         173,
         1
        ],
        [
         0.247,
         0.018,
         129,
         1
        ],
        [
         0.161,
         0.005,
         133,
         1
        ],
        [
         0.117,
         0.088,
         35,
         1
        ],
        [
         0.114,
         0.052,
         50,
         1
        ],
        [
         0.006,
         0.088,
         62,
         1
        ],
        [
         0.208,
         0.009,
         46,
         1
        ],
        [
         0.127,
         0.053,
         176,
         1
        ],
        [
         0.192,
         0.081,
         129,
         1
        ],
        [
         0.158,
         0.093,
         134,
         1
        ],
        [
         0.237,
         0.006,
         64,
         1
        ],
        [
         0.099,
         0.099,
         87,
         1
        ],
        [
         0.066,
         0.046,
         176,
         1
        ],
        [
         0.165,
         0.067,
         91,
         1
        ],
        [
         0.178,
         0.08,
         16,
         1
        ],
        [
         0.11,
         0.054,
         159,
         1
        ],
        [
         0.085,
         0.042,
         114,
         1
        ],
        [
         0.018,
         0.059,
         22,
         1
        ],
        [
         0.243,
         0.059,
         67,
         1
        ],
        [
         0.201,
         0.076,
         146,
         1
        ],
        [
         0.013,
         0.08,
         34,
         1
        ],
        [
         0.097,
         0.088,
         154,
         1
        ],
        [
         0.031,
         0.025,
         147,
         1
        ],
        [
         0.133,
         0.033,
         132,
         1
        ],
        [
         0.002,
         0.054,
         136,
         1
        ],
        [
         0.076,
         0.07,
         103,
         1
        ],
        [
         0.21,
         0.099,
         9,
         1
        ],
        [
         0.193,
         0.038,
         58,
         1
        ],
        [
         0.057,
         0.04,
         120,
         1
        ],
        [
         0.229,
         0.033,
         50,
         1
        ],
        [
         0.191,
         0.043,
         133,
         1
        ],
        [
         0.165,
         0.032,
         99,
         1
        ],
        [
         0.15,
         0.091,
         33,
         1
        ],
        [
         0.246,
         0.042,
         138,
         1
        ],
        [
         0.176,
         0.032,
         5,
         1
        ],
        [
         0.22,
         0.064,
         162,
         1
        ],
        [
         0.04,
         0.072,
         91,
         1
        ],
        [
         0.004,
         0.027,
         172,
         1
        ],
        [
         0.078,
         0.025,
         9,
         1
        ],
        [
         0.039,
         0.065,
         28,
         1
        ],
        [
         0.165,
         0.063,
         8,
         1
        ],
        [
         0.161,
         0.02,
         91,
         1
        ],
        [
         0.228,
         0.065,
         83,
         1
        ],
        [
         0.094,
         0.048,
         117,
         1
        ],
        [
         0.001,
         0.09,
         169,
         1
        ],
        [
         0.118,
         0.011,
         43,
         1
        ],
        [
         0.17,
         0.055,
         31,
         1
        ],
        [
         0.155,
         0.059,
         85,
         1
        ],
        [
         0.199,
         0.035,
         12,
         1
        ],
        [
         0.027,
         0.081,
         101,
         1
        ],
        [
         0.109,
         0.088,
         117,
         1
        ],
        [
         0.079,
         0.044,
         136,
         1
        ],
        [
         0.001,
         0.084,
         20,
         1
        ],
        [
         0.161,
         0.091,
         140,
         1
        ],
        [
         0.104,
         0.062,
         35,
         1
        ],
        [
         0.235,
         0.033,
         40,
         1
        ],
        [
         0.159,
         0.048,
         49,
         1
        ],
        [
         0.172,
         0.081,
         55,
         1
        ],
        [
         0.034,
         0.035,
         88,
         1
        ],
        [
         0.15,
         0.086,
         124,
         1
        ],
        [
         0.127,
         0.005,
         133,
         1
        ],
        [
         0.13,
         0.009,
         75,
         1
        ],
        [
         0.093,
         0.018,
         54,
         1
        ],
        [
         0.097,
         0.097,
         149,
         1
        ],
        [
         0.106,
         0.05,
         137,
         1
        ],
        [
         0.23,
         0.06,
         121,
         1
        ],
        [
         0.03,
         0.042,
         46,
         1
        ],
        [
         0.17,
         0.089,
         121,
         1
        ],
        [
         0.039,
         0.056,
         90,
         1
        ],
        [
         0.133,
         0.029,
         19,
         1
        ],
        [
         0.149,
         0.092,
         55,
         1
        ],
        [
         0.045,
         0.023,
         49,
         1
        ],
        [
         0.198,
         0.071,
         12,
         1
        ],
        [
         0.131,
         0.061,
         96,
         1
        ],
        [
         0.083,
         0.041,
         127,
         1
        ],
        [
         0.065,
         0.07,
         170,
         1
        ],
        [
         0.073,
         0.007,
         62,
         1
        ],
        [
         0.01,
         0.071,
         51,
         1
        ],
        [
         0.197,
         0.04,
         111,
         1
        ],
        [
         0.175,
         0.022,
         99,
         1
        ],
        [
         0.03,
         0.038,
         23,
         1
        ],
        [
         0.134,
         0.084,
         69,
         1
        ],
        [
         0.204,
         0.013,
         159,
         1
        ],
        [
         0.026,
         0.035,
         168,
         1
        ],
        [
         0.199,
         0.063,
         139,
         1
        ],
        [
         0.099,
         0.065,
         172,
         1
        ],
        [
         0.226,
         0.055,
         33,
         1
        ],
        [
         0.099,
         0.049,
         53,
         1
        ],
        [
         0.137,
         0.006,
         117,
         1
        ],
        [
         0.229,
         0.057,
         71,
         1
        ],
        [
         0.114,
         0.004,
         177,
         1
        ],
        [
         0.02,
         0.091,
         99,
         1
        ],
        [
         0.176,
         0.091,
         83,
         1
        ],
        [
         0.168,
         0.089,
         130,
         1
        ],
        [
         0.16,
         0.055,
         173,
         1
        ],
        [
         0.209,
         0.005,
         161,
         1
        ],
        [
         0.021,
         0.01,
         154,
         1
        ],
        [
         0.118,
         0.054,
         127,
         1
        ],
        [
         0.142,
         0.092,
         162,
         1
        ],
        [
         0.028,
         0.06,
         12,
         1
        ],
        [
         0.181,
         0.062,
         65,
         1
        ],
        [
         0.101,
         0.026,
         69,
         1
        ],
        [
         0.083,
         0.071,
         12,
         1
        ],
        [
         0.032,
         0.042,
         171,
         1
        ],
        [
         0.21,
         0.001,
         44,
         1
        ],
        [
         0.055,
         0.013,
         107,
         1
        ],
        [
         0.118,
         0.089,
         117,
         1
        ],
        [
         0.214,
         0.082,
         124,
         1
        ],
        [
         0.18,
         0.081,
         100,
         1
        ],
        [
         0.078,
         0.065,
         119,
         1
        ],
        [
         0.129,
         0.075,
         38,
         1
        ],
        [
         0.245,
         0.066,
         154,
         1
        ],
        [
         0.129,
         0.037,
         83,
         1
        ],
        [
         0.016,
         0.018,
         63,
         1
        ],
        [
         0.241,
         0.083,
         147,
         1
        ],
        [
         0.172,
         0.002,
         13,
         1
        ],
        [
         0.011,
         0.032,
         65,
         1
        ],
        [
         0.129,
         0.026,
         17,
         1
        ],
        [
         0.032,
         0.081,
         85,
         1
        ],
        [
         0.14,
         0.062,
         33,
         1
        ],
        [
         0.18,
         0.052,
         112,
         1
        ],
        [
         0.141,
         0.067,
         18,
         1
        ],
        [
         0.116,
         0.086,
         144,
         1
        ],
        [
         0.165,
         0.066,
         112,
         1
        ],
        [
         0.156,
         0.068,
         90,
         1
        ],
        [
         0.059,
         0.041,
         128,
         1
        ],
        [
         0.238,
         0.015,
         95,
         1
        ],
        [
         0.086,
         0.04,
         137,
         1
        ],
        [
         0.057,
         0.028,
         131,
         1
        ],
        [
         0.123,
         0.059,
         43,
         1
        ],
        [
         0.233,
         0.065,
         147,
         1
        ],
        [
         0.207,
         0.042,
         161,
         1
        ],
        [
         0.074,
         0.091,
         16,
         1
        ],
        [
         0.232,
         0.073,
         155,
         1
        ],
        [
         0.038,
         0.031,
         88,
         1
        ],
        [
         0.107,
         0.071,
         135,
         1
        ],
        [
         0.245,
         0.043,
         118,
         1
        ],
        [
         0.182,
         0.082,
         163,
         1
        ],
        [
         0.184,
         0.096,
         160,
         1
        ],
        [
         0.005,
         0.094,
         100,
         1
        ],
        [
         0.104,
         0.062,
         57,
         1
        ],
        [
         0.018,
         0.029,
         65,
         1
        ],
        [
         0.206,
         0.014,
         109,
         1
        ],
        [
         0.043,
         0.071,
         146,
         1
        ],
        [
         0.098,
         0.066,
         163,
         1
        ],
        [
         0.058,
         0.006,
         113,
         1
        ],
        [
         0.155,
         0.015,
         14,
         1
        ],
        [
         0.153,
         0.095,
         80,
         1
        ],
        [
         0.11,
         0.002,
         61,
         1
        ],
        [
         0.078,
         0.001,
         82,
         1
        ],
        [
         0.089,
         0.089,
         148,
         1
        ],
        [
         0.208,
         0.071,
         13,
         1
        ],
        [
         0.143,
         0.03,
         57,
         1
        ],
        [
         0.21,
         0.026,
         29,
         1
        ],
        [
         0.133,
         0.027,
         88,
         1
        ],
        [
         0.234,
         0.047,
         115,
         1
        ],
        [
         0.032,
         0.021,
         94,
         1
        ],
        [
         0.247,
         0.046,
         32,
         1
        ],
        [
         0.092,
         0.008,
         163,
         1
        ],
        [
         0.142,
         0.035,
         106,
         1
        ],
        [
         0.07,
         0.05,
         14,
         1
        ],
        [
         0.053,
         0.037,
         135,
         1
        ],
        [
         0.089,
         0.079,
         59,
         1
        ],
        [
         0.092,
         0.015,
         86,
         1
        ],
        [
         0.118,
         0.046,
         42,
         1
        ],
        [
         0.081,
         0.001,
         170,
         1
        ],
        [
         0.093,
         0.096,
         22,
         1
        ],
        [
         0.142,
         0.039,
         31,
         1
        ],
        [
         0.055,
         0.081,
         59,
         1
        ],
        [
         0.206,
         0.077,
         162,
         1
        ],
        [
         0.177,
         0.078,
         23,
         1
        ],
        [
         0.01,
         0.064,
         86,
         1
        ],
        [
         0.211,
         0.039,
         147,
         1
        ],
        [
         0.154,
         0.056,
         14,
         1
        ],
        [
         0.201,
         0.006,
         9,
         1
        ],
        [
         0.06,
         0.013,
         78,
         1
        ],
        [
         0.077,
         0.013,
         27,
         1
        ],
        [
         0.051,
         0.073,
         156,
         1
        ],
        [
         0.044,
         0.009,
         35,
         1
        ],
        [
         0.174,
         0.029,
         66,
         1
        ],
        [
         0.069,
         0.071,
         91,
         1
        ],
        [
         0.146,
         0.019,
         125,
         1
        ],
        [
         0.072,
         0.085,
         29,
         1
        ],
        [
         0.035,
         0.099,
         120,
         1
        ],
        [
         0.151,
         0.087,
         153,
         1
        ],
        [
         0.066,
         0.066,
         12,
         1
        ],
        [
         0.168,
         0.075,
         159,
         1
        ],
        [
         0.102,
         0.08,
         127,
         1
        ],
        [
         0.209,
         0.097,
         166,
         1
        ],
        [
         0.077,
         0.088,
         151,
         1
        ],
        [
         0.193,
         0.048,
         148,
         1
        ],
        [
         0.182,
         0.064,
         89,
         1
        ],
        [
         0.15,
         0.071,
         64,
         1
        ],
        [
         0.229,
         0.003,
         163,
         1
        ],
        [
         0.134,
         0.02,
         7,
         1
        ],
        [
         0.052,
         0.075,
         169,
         1
        ],
        [
         0.168,
         0.0,
         21,
         1
        ],
        [
         0.004,
         0.001,
         159,
         1
        ],
        [
         0.162,
         0.007,
         40,
         1
        ],
        [
         0.179,
         0.059,
         5,
         1
        ],
        [
         0.025,
         0.038,
         52,
         1
        ],
        [
         0.191,
         0.033,
         158,
         1
        ],
        [
         0.013,
         0.095,
         68,
         1
        ],
        [
         0.154,
         0.079,
         8,
         1
        ],
        [
         0.208,
         0.008,
         8,
         1
        ],
        [
         0.003,
         0.097,
         120,
         1
        ],
        [
         0.085,
         0.029,
         49,
         1
        ],
        [
         0.146,
         0.051,
         58,
         1
        ],
        [
         0.123,
         0.06,
         42,
         1
        ],
        [
         0.114,
         0.022,
         126,
         1
        ],
        [
         0.1,
         0.018,
         117,
         1
        ],
        [
         0.151,
         0.094,
         94,
         1
        ],
        [
         0.242,
         0.099,
         142,
         1
        ],
        [
         0.105,
         0.048,
         77,
         1
        ],
        [
         0.185,
         0.061,
         90,
         1
        ],
        [
         0.035,
         0.073,
         146,
         1
        ],
        [
         0.181,
         0.092,
         132,
         1
        ],
        [
         0.228,
         0.068,
         36,
         1
        ],
        [
         0.052,
         0.013,
         68,
         1
        ],
        [
         0.233,
         0.034,
         19,
         1
        ],
        [
         0.112,
         0.061,
         51,
         1
        ],
        [
         0.184,
         0.016,
         34,
         1
        ],
        [
         0.149,
         0.018,
         47,
         1
        ],
        [
         0.041,
         0.091,
         68,
         1
        ],
        [
         0.144,
         0.052,
         49,
         1
        ],
        [
         0.148,
         0.03,
         94,
         1
        ],
        [
         0.09,
         0.04,
         20,
         1
        ],
        [
         0.054,
         0.026,
         133,
         1
        ],
        [
         0.135,
         0.015,
         58,
         1
        ],
        [
         0.019,
         0.097,
         115,
         1
        ],
        [
         0.156,
         0.075,
         152,
         1
        ],
        [
         0.19,
         0.076,
         96,
         1
        ],
        [
         0.197,
         0.095,
         115,
         1
        ],
        [
         0.039,
         0.085,
         16,
         1
        ],
        [
         0.168,
         0.083,
         28,
         1
        ],
        [
         0.244,
         0.066,
         41,
         1
        ],
        [
         0.011,
         0.058,
         69,
         1
        ],
        [
         0.123,
         0.005,
         21,
         1
        ],
        [
         0.063,
         0.098,
         121,
         1
        ],
        [
         0.22,
         0.083,
         11,
         1
        ],
        [
         0.179,
         0.094,
         39,
         1
        ],
        [
         0.172,
         0.022,
         14,
         1
        ],
        [
         0.194,
         0.023,
         168,
         1
        ],
        [
         0.133,
         0.059,
         150,
         1
        ],
        [
         0.035,
         0.016,
         69,
         1
        ],
        [
         0.064,
         0.094,
         54,
         1
        ],
        [
         0.12,
         0.089,
         99,
         1
        ],
        [
         0.114,
         0.055,
         35,
         1
        ],
        [
         0.024,
         0.067,
         10,
         1
        ],
        [
         0.107,
         0.066,
         167,
         1
        ],
        [
         0.062,
         0.017,
         176,
         1
        ],
        [
         0.206,
         0.046,
         22,
         1
        ],
        [
         0.128,
         0.062,
         164,
         1
        ],
        [
         0.161,
         0.058,
         157,
         1
        ],
        [
         0.245,
         0.053,
         83,
         1
        ],
        [
         0.161,
         0.056,
         121,
         1
        ],
        [
         0.113,
         0.049,
         70,
         1
        ],
        [
         0.215,
         0.067,
         45,
         1
        ],
        [
         0.128,
         0.071,
         60,
         1
        ],
        [
         0.158,
         0.007,
         73,
         1
        ],
        [
         0.057,
         0.01,
         80,
         1
        ],
        [
         0.13,
         0.001,
         178,
         1
        ],
        [
         0.197,
         0.071,
         26,
         1
        ],
        [
         0.053,
         0.027,
         82,
         1
        ],
        [
         0.12,
         0.024,
         175,
         1
        ],
        [
         0.014,
         0.004,
         121,
         1
        ],
        [
         0.246,
         0.021,
         134,
         1
        ],
        [
         0.156,
         0.002,
         100,
         1
        ],
        [
         0.219,
         0.085,
         60,
         1
        ],
        [
         0.015,
         0.007,
         141,
         1
        ],
        [
         0.076,
         0.058,
         102,
         1
        ],
        [
         0.184,
         0.017,
         107,
         1
        ],
        [
         0.172,
         0.011,
         23,
         1
        ],
        [
         0.112,
         0.013,
         55,
         1
        ],
        [
         0.089,
         0.1,
         153,
         1
        ],
        [
         0.063,
         0.086,
         82,
         1
        ],
        [
         0.199,
         0.068,
         82,
         1
        ],
        [
         0.061,
         0.032,
         165,
         1
        ],
        [
         0.061,
         0.002,
         128,
         1
        ],
        [
         0.031,
         0.02,
         125,
         1
        ],
        [
         0.122,
         0.012,
         72,
         1
        ],
        [
         0.165,
         0.034,
         45,
         1
        ],
        [
         0.123,
         0.043,
         91,
         1
        ],
        [
         0.129,
         0.067,
         76,
         1
        ],
        [
         0.248,
         0.064,
         101,
         1
        ],
        [
         0.09,
         0.007,
         50,
         1
        ],
        [
         0.085,
         0.037,
         155,
         1
        ],
        [
         0.222,
         0.06,
         108,
         1
        ],
        [
         0.029,
         0.074,
         82,
         1
        ],
        [
         0.216,
         0.041,
         161,
         1
        ],
        [
         0.065,
         0.074,
         142,
         1
        ],
        [
         0.218,
         0.003,
         111,
         1
        ],
        [
         0.155,
         0.042,
         113,
         1
        ],
        [
         0.103,
         0.072,
         153,
         1
        ],
        [
         0.19,
         0.078,
         112,
         1
        ],
        [
         0.013,
         0.038,
         63,
         1
        ],
        [
         0.154,
         0.035,
         39,
         1
        ],
        [
         0.091,
         0.083,
         158,
         1
        ],
        [
         0.006,
         0.016,
         67,
         1
        ],
        [
         0.124,
         0.003,
         37,
         1
        ],
        [
         0.12,
         0.009,
         79,
         1
        ],
        [
         0.25,
         0.035,
         146,
         1
        ],
        [
         0.178,
         0.045,
         72,
         1
        ],
        [
         0.069,
         0.085,
         91,
         1
        ],
        [
         0.052,
         0.088,
         55,
         1
        ],
        [
         0.073,
         0.025,
         131,
         1
        ],
        [
         0.002,
         0.098,
         35,
         1
        ],
        [
         0.172,
         0.073,
         99,
         1
        ],
        [
         0.24,
         0.081,
         135,
         1
        ],
        [
         0.068,
         0.083,
         138,
         1
        ],
        [
         0.206,
         0.052,
         166,
         1
        ],
        [
         0.144,
         0.031,
         51,
         1
        ],
        [
         0.193,
         0.053,
         75,
         1
        ],
        [
         0.012,
         0.045,
         25,
         1
        ],
        [
         0.204,
         0.075,
         88,
         1
        ],
        [
         0.007,
         0.005,
         116,
         1
        ],
        [
         0.192,
         0.039,
         74,
         1
        ],
        [
         0.108,
         0.032,
         99,
         1
        ],
        [
         0.183,
         0.042,
         177,
         1
        ],
        [
         0.095,
         0.065,
         78,
         1
        ],
        [
         0.113,
         0.042,
         38,
         1
        ],
        [
         0.115,
         0.033,
         138,
         1
        ],
        [
         0.074,
         0.03,
         78,
         1
        ],
        [
         0.151,
         0.096,
         150,
         1
        ],
        [
         0.145,
         0.015,
         97,
         1
        ],
        [
         0.042,
         0.068,
         149,
         1
        ],
        [
         0.157,
         0.078,
         160,
         1
        ],
        [
         0.047,
         0.006,
         10,
         1
        ],
        [
         0.054,
         0.032,
         58,
         1
        ],
        [
         0.178,
         0.082,
         176,
         1
        ],
        [
         0.072,
         0.085,
         36,
         1
        ],
        [
         0.062,
         0.003,
         157,
         1
        ],
        [
         0.226,
         0.031,
         151,
         1
        ],
        [
         0.011,
         0.071,
         7,
         1
        ],
        [
         0.067,
         0.022,
         59,
         1
        ],
        [
         0.05,
         0.018,
         36,
         1
        ],
        [
         0.05,
         0.024,
         93,
         1
        ],
        [
         0.005,
         0.08,
         48,
         1
        ],
        [
         0.062,
         0.02,
         8,
         1
        ],
        [
         0.107,
         0.083,
         98,
         1
        ],
        [
         0.056,
         0.059,
         83,
         1
        ],
        [
         0.126,
         0.037,
         128,
         1
        ],
        [
         0.162,
         0.067,
         156,
         1
        ],
        [
         0.01,
         0.063,
         176,
         1
        ],
        [
         0.165,
         0.052,
         124,
         1
        ],
        [
         0.245,
         0.03,
         135,
         1
        ],
        [
         0.158,
         0.095,
         108,
         1
        ],
        [
         0.017,
         0.034,
         150,
         1
        ],
        [
         0.228,
         0.007,
         120,
         1
        ],
        [
         0.035,
         0.066,
         178,
         1
        ],
        [
         0.162,
         0.023,
         47,
         1
        ],
        [
         0.138,
         0.096,
         38,
         1
        ],
        [
         0.249,
         0.004,
         108,
         1
        ],
        [
         0.073,
         0.097,
         91,
         1
        ],
        [
         0.078,
         0.054,
         161,
         1
        ],
        [
         0.139,
         0.052,
         38,
         1
        ],
        [
         0.211,
         0.06,
         54,
         1
        ],
        [
         0.025,
         0.001,
         157,
         1
        ],
        [
         0.012,
         0.002,
         160,
         1
        ],
        [
         0.035,
         0.017,
         83,
         1
        ],
        [
         0.206,
         0.078,
         179,
         1
        ],
        [
         0.084,
         0.089,
         28,
         1
        ],
        [
         0.119,
         0.1,
         141,
         1
        ],
        [
         0.01,
         0.048,
         62,
         1
        ],
        [
         0.069,
         0.088,
         174,
         1
        ],
        [
         0.008,
         0.023,
         100,
         1
        ],
        [
         0.207,
         0.074,
         174,
         1
        ],
        [
         0.2,
         0.069,
         43,
         1
        ],
        [
         0.122,
         0.067,
         89,
         1
        ],
        [
         0.144,
         0.008,
         148,
         1
        ],
        [
         0.066,
         0.054,
         147,
         1
        ],
        [
         0.224,
         0.019,
         139,
         1
        ],
        [
         0.226,
         0.049,
         34,
         1
        ],
        [
         0.002,
         0.044,
         55,
         1
        ],
        [
         0.21,
         0.051,
         106,
         1
        ],
        [
         0.157,
         0.037,
         114,
         1
        ],
        [
         0.114,
         0.044,
         68,
         1
        ],
        [
         0.209,
         0.048,
         44,
         1
        ],
        [
         0.18,
         0.015,
         145,
         1
        ],
        [
         0.059,
         0.051,
         85,
         1
        ],
        [
         0.128,
         0.1,
         179,
         1
        ],
        [
         0.167,
         0.082,
         131,
         1
        ],
        [
         0.096,
         0.083,
         47,
         1
        ],
        [
         0.089,
         0.033,
         35,
         1
        ],
        [
         0.151,
         0.072,
         105,
         1
        ],
        [
         0.2,
         0.041,
         41,
         1
        ],
        [
         0.034,
         0.095,
         57,
         1
        ],
        [
         0.063,
         0.018,
         76,
         1
        ],
        [
         0.028,
         0.094,
         135,
         1
        ],
        [
         0.03,
         0.097,
         9,
         1
        ],
        [
         0.221,
         0.097,
         32,
         1
        ],
        [
         0.141,
         0.04,
         92,
         1
        ],
        [
         0.189,
         0.095,
         116,
         1
        ],
        [
         0.243,
         0.053,
         56,
         1
        ],
        [
         0.076,
         0.06,
         18,
         1
        ],
        [
         0.199,
         0.006,
         178,
         1
        ],
        [
         0.019,
         0.035,
         177,
         1
        ],
        [
         0.206,
         0.05,
         19,
         1
        ],
        [
         0.054,
         0.092,
         99,
         1
        ],
        [
         0.196,
         0.055,
         10,
         1
        ],
        [
         0.198,
         0.0,
         85,
         1
        ],
        [
         0.025,
         0.038,
         57,
         1
        ],
        [
         0.147,
         0.057,
         99,
         1
        ],
        [
         0.1,
         0.013,
         26,
         1
        ],
        [
         0.183,
         0.025,
         171,
         1
        ],
        [
         0.211,
         0.0,
         167,
         1
        ],
        [
         0.062,
         0.043,
         121,
         1
        ],
        [
         0.147,
         0.049,
         108,
         1
        ],
        [
         0.198,
         0.081,
         86,
         1
        ],
        [
         0.099,
         0.029,
         86,
         1
        ],
        [
         0.226,
         0.054,
         59,
         1
        ],
        [
         0.098,
         0.021,
         17,
         1
        ],
        [
         0.188,
         0.008,
         108,
         1
        ],
        [
         0.062,
         0.007,
         158,
         1
        ],
        [
         0.227,
         0.064,
         153,
         1
        ],
        [
         0.118,
         0.098,
         29,
         1
        ],
        [
         0.012,
         0.069,
         109,
         1
        ],
        [
         0.101,
         0.094,
         43,
         1
        ],
        [
         0.186,
         0.002,
         164,
         1
        ],
        [
         0.198,
         0.068,
         146,
         1
        ],
        [
         0.048,
         0.041,
         64,
         1
        ],
        [
         0.126,
         0.024,
         152,
         1
        ],
        [
         0.217,
         0.01,
         174,
         1
        ],
        [
         0.2,
         0.084,
         122,
         1
        ],
        [
         0.233,
         0.016,
         89,
         1
        ],
        [
         0.024,
         0.047,
         42,
         1
        ],
        [
         0.103,
         0.026,
         113,
         1
        ],
        [
         0.085,
         0.032,
         75,
         1
        ],
        [
         0.069,
         0.067,
         144,
         1
        ],
        [
         0.159,
         0.029,
         35,
         1
        ],
        [
         0.165,
         0.046,
         7,
         1
        ],
        [
         0.071,
         0.01,
         116,
         1
        ],
        [
         0.136,
         0.006,
         163,
         1
        ],
        [
         0.172,
         0.068,
         8,
         1
        ],
        [
         0.04,
         0.025,
         20,
         1
        ],
        [
         0.069,
         0.072,
         95,
         1
        ],
        [
         0.186,
         0.08,
         168,
         1
        ],
        [
         0.216,
         0.055,
         82,
         1
        ],
        [
         0.112,
         0.002,
         21,
         1
        ],
        [
         0.197,
         0.057,
         129,
         1
        ],
        [
         0.1,
         0.071,
         120,
         1
        ],
        [
         0.106,
         0.075,
         121,
         1
        ],
        [
         0.054,
         0.021,
         79,
         1
        ],
        [
         0.103,
         0.079,
         61,
         1
        ],
        [
         0.233,
         0.083,
         84,
         1
        ],
        [
         0.128,
         0.032,
         103,
         1
        ],
        [
         0.23,
         0.093,
         90,
         1
        ],
        [
         0.194,
         0.013,
         34,
         1
        ],
        [
         0.039,
         0.029,
         173,
         1
        ],
        [
         0.199,
         0.053,
         78,
         1
        ],
        [
         0.116,
         0.06,
         53,
         1
        ],
        [
         0.09,
         0.092,
         72,
         1
        ],
        [
         0.206,
         0.048,
         102,
         1
        ],
        [
         0.045,
         0.093,
         156,
         1
        ],
        [
         0.017,
         0.033,
         162,
         1
        ],
        [
         0.197,
         0.017,
         57,
         1
        ],
        [
         0.21,
         0.08,
         175,
         1
        ],
        [
         0.14,
         0.093,
         169,
         1
        ],
        [
         0.148,
         0.078,
         71,
         1
        ],
        [
         0.069,
         0.06,
         51,
         1
        ],
        [
         0.101,
         0.038,
         113,
         1
        ],
        [
         0.241,
         0.041,
         140,
         1
        ],
        [
         0.076,
         0.072,
         23,
         1
        ],
        [
         0.117,
         0.002,
         90,
         1
        ],
        [
         0.189,
         0.024,
         122,
         1
        ],
        [
         0.211,
         0.081,
         14,
         1
        ],
        [
         0.201,
         0.045,
         83,
         1
        ],
        [
         0.076,
         0.03,
         117,
         1
        ],
        [
         0.013,
         0.036,
         122,
         1
        ],
        [
         0.152,
         0.016,
         5,
         1
        ],
        [
         0.125,
         0.072,
         40,
         1
        ],
        [
         0.232,
         0.026,
         126,
         1
        ],
        [
         0.25,
         0.099,
         164,
         1
        ],
        [
         0.128,
         0.078,
         176,
         1
        ],
        [
         0.221,
         0.051,
         76,
         1
        ],
        [
         0.143,
         0.049,
         107,
         1
        ],
        [
         0.161,
         0.092,
         152,
         1
        ],
        [
         0.02,
         0.018,
         105,
         1
        ],
        [
         0.079,
         0.098,
         93,
         1
        ],
        [
         0.03,
         0.077,
         115,
         1
        ],
        [
         0.206,
         0.044,
         20,
         1
        ],
        [
         0.01,
         0.027,
         83,
         1
        ],
        [
         0.201,
         0.028,
         36,
         1
        ],
        [
         0.139,
         0.085,
         132,
         1
        ],
        [
         0.203,
         0.004,
         169,
         1
        ],
        [
         0.141,
         0.063,
         17,
         1
        ],
        [
         0.148,
         0.046,
         94,
         1
        ],
        [
         0.126,
         0.053,
         79,
         1
        ],
        [
         0.201,
         0.03,
         156,
         1
        ],
        [
         0.15,
         0.043,
         111,
         1
        ],
        [
         0.209,
         0.085,
         156,
         1
        ],
        [
         0.166,
         0.031,
         118,
         1
        ],
        [
         0.154,
         0.048,
         36,
         1
        ],
        [
         0.014,
         0.068,
         56,
         1
        ],
        [
         0.167,
         0.049,
         32,
         1
        ],
        [
         0.208,
         0.047,
         171,
         1
        ],
        [
         0.081,
         0.06,
         56,
         1
        ],
        [
         0.041,
         0.085,
         123,
         1
        ],
        [
         0.111,
         0.095,
         107,
         1
        ],
        [
         0.098,
         0.032,
         78,
         1
        ],
        [
         0.104,
         0.036,
         100,
         1
        ],
        [
         0.208,
         0.093,
         92,
         1
        ],
        [
         0.227,
         0.035,
         105,
         1
        ],
        [
         0.175,
         0.056,
         155,
         1
        ],
        [
         0.04,
         0.037,
         138,
         1
        ],
        [
         0.17,
         0.044,
         160,
         1
        ],
        [
         0.03,
         0.084,
         101,
         1
        ],
        [
         0.105,
         0.089,
         67,
         1
        ],
        [
         0.169,
         0.061,
         126,
         1
        ],
        [
         0.234,
         0.067,
         160,
         1
        ],
        [
         0.045,
         0.071,
         159,
         1
        ],
        [
         0.14,
         0.02,
         75,
         1
        ],
        [
         0.047,
         0.074,
         119,
         1
        ],
        [
         0.106,
         0.022,
         19,
         1
        ],
        [
         0.217,
         0.067,
         62,
         1
        ],
        [
         0.024,
         0.022,
         83,
         1
        ],
        [
         0.089,
         0.026,
         13,
         1
        ],
        [
         0.021,
         0.026,
         167,
         1
        ],
        [
         0.24,
         0.002,
         81,
         1
        ],
        [
         0.247,
         0.042,
         33,
         1
        ],
        [
         0.154,
         0.081,
         48,
         1
        ],
        [
         0.089,
         0.087,
         50,
         1
        ],
        [
         0.064,
         0.085,
         25,
         1
        ],
        [
         0.248,
         0.069,
         140,
         1
        ],
        [
         0.08,
         0.036,
         90,
         1
        ],
        [
         0.004,
         0.054,
         20,
         1
        ],
        [
         0.232,
         0.049,
         78,
         1
        ],
        [
         0.133,
         0.055,
         176,
         1
        ],
        [
         0.089,
         0.034,
         113,
         1
        ],
        [
         0.101,
         0.096,
         14,
         1
        ],
        [
         0.199,
         0.097,
         168,
         1
        ],
        [
         0.143,
         0.058,
         95,
         1
        ],
        [
         0.244,
         0.006,
         164,
         1
        ],
        [
         0.132,
         0.063,
         152,
         1
        ],
        [
         0.112,
         0.002,
         82,
         1
        ],
        [
         0.151,
         0.034,
         6,
         1
        ],
        [
         0.105,
         0.014,
         171,
         1
        ],
        [
         0.088,
         0.019,
         29,
         1
        ],
        [
         0.17,
         0.095,
         73,
         1
        ],
        [
         0.032,
         0.002,
         176,
         1
        ],
        [
         0.099,
         0.033,
         166,
         1
        ],
        [
         0.168,
         0.026,
         111,
         1
        ],
        [
         0.156,
         0.091,
         9,
         1
        ],
        [
         0.06,
         0.051,
         34,
         1
        ],
        [
         0.065,
         0.028,
         166,
         1
        ],
        [
         0.074,
         0.047,
         153,
         1
        ],
        [
         0.238,
         0.077,
         107,
         1
        ],
        [
         0.111,
         0.056,
         7,
         1
        ],
        [
         0.038,
         0.002,
         37,
         1
        ],
        [
         0.178,
         0.02,
         178,
         1
        ],
        [
         0.14,
         0.012,
         122,
         1
        ],
        [
         0.093,
         0.061,
         65,
         1
        ],
        [
         0.218,
         0.098,
         172,
         1
        ],
        [
         0.061,
         0.034,
         59,
         1
        ],
        [
         0.176,
         0.054,
         99,
         1
        ],
        [
         0.127,
         0.002,
         152,
         1
        ],
        [
         0.035,
         0.044,
         79,
         1
        ],
        [
         0.005,
         0.092,
         33,
         1
        ],
        [
         0.18,
         0.013,
         172,
         1
        ],
        [
         0.084,
         0.014,
         152,
         1
        ],
        [
         0.123,
         0.063,
         153,
         1
        ],
        [
         0.019,
         0.05,
         136,
         1
        ],
        [
         0.147,
         0.007,
         136,
         1
        ],
        [
         0.218,
         0.073,
         173,
         1
        ],
        [
         0.107,
         0.068,
         13,
         1
        ],
        [
         0.117,
         0.096,
         90,
         1
        ],
        [
         0.157,
         0.067,
         86,
         1
        ],
        [
         0.195,
         0.072,
         16,
         1
        ],
        [
         0.084,
         0.051,
         103,
         1
        ],
        [
         0.1,
         0.041,
         171,
         1
        ],
        [
         0.087,
         0.045,
         17,
         1
        ],
        [
         0.242,
         0.066,
         73,
         1
        ],
        [
         0.135,
         0.04,
         62,
         1
        ],
        [
         0.064,
         0.017,
         34,
         1
        ],
        [
         0.172,
         0.091,
         119,
         1
        ],
        [
         0.249,
         0.051,
         69,
         1
        ],
        [
         0.125,
         0.047,
         47,
         1
        ],
        [
         0.171,
         0.073,
         19,
         1
        ],
        [
         0.018,
         0.058,
         161,
         1
        ],
        [
         0.249,
         0.08,
         9,
         1
        ],
        [
         0.111,
         0.035,
         97,
         1
        ],
        [
         0.145,
         0.05,
         24,
         1
        ],
        [
         0.068,
         0.077,
         41,
         1
        ],
        [
         0.007,
         0.074,
         24,
         1
        ],
        [
         0.088,
         0.027,
         158,
         1
        ],
        [
         0.017,
         0.016,
         111,
         1
        ],
        [
         0.141,
         0.025,
         19,
         1
        ],
        [
         0.016,
         0.085,
         148,
         1
        ],
        [
         0.14,
         0.085,
         93,
         1
        ],
        [
         0.096,
         0.093,
         108,
         1
        ],
        [
         0.103,
         0.023,
         155,
         1
        ],
        [
         0.124,
         0.025,
         36,
         1
        ],
        [
         0.141,
         0.056,
         22,
         1
        ],
        [
         0.07,
         0.064,
         42,
         1
        ],
        [
         0.08,
         0.043,
         160,
         1
        ],
        [
         0.008,
         0.029,
         108,
         1
        ],
        [
         0.174,
         0.039,
         20,
         1
        ],
        [
         0.119,
         0.095,
         136,
         1
        ],
        [
         0.182,
         0.048,
         53,
         1
        ],
        [
         0.178,
         0.1,
         99,
         1
        ],
        [
         0.105,
         0.083,
         101,
         1
        ],
        [
         0.202,
         0.028,
         97,
         1
        ],
        [
         0.238,
         0.018,
         149,
         1
        ],
        [
         0.009,
         0.065,
         165,
         1
        ],
        [
         0.238,
         0.042,
         5,
         1
        ],
        [
         0.119,
         0.083,
         109,
         1
        ],
        [
         0.179,
         0.043,
         123,
         1
        ],
        [
         0.09,
         0.051,
         83,
         1
        ],
        [
         0.196,
         0.048,
         10,
         1
        ],
        [
         0.045,
         0.025,
         111,
         1
        ],
        [
         0.052,
         0.019,
         45,
         1
        ],
        [
         0.123,
         0.033,
         101,
         1
        ],
        [
         0.239,
         0.032,
         160,
         1
        ],
        [
         0.162,
         0.072,
         40,
         1
        ],
        [
         0.103,
         0.044,
         153,
         1
        ],
        [
         0.184,
         0.01,
         103,
         1
        ],
        [
         0.164,
         0.026,
         71,
         1
        ],
        [
         0.178,
         0.091,
         21,
         1
        ],
        [
         0.227,
         0.056,
         134,
         1
        ],
        [
         0.172,
         0.041,
         33,
         1
        ],
        [
         0.219,
         0.095,
         56,
         1
        ],
        [
         0.216,
         0.096,
         78,
         1
        ],
        [
         0.226,
         0.039,
         126,
         1
        ],
        [
         0.144,
         0.046,
         106,
         1
        ],
        [
         0.125,
         0.009,
         36,
         1
        ],
        [
         0.082,
         0.002,
         135,
         1
        ],
        [
         0.144,
         0.034,
         19,
         1
        ],
        [
         0.18,
         0.006,
         79,
         1
        ],
        [
         0.042,
         0.054,
         25,
         1
        ],
        [
         0.158,
         0.089,
         59,
         1
        ],
        [
         0.039,
         0.004,
         147,
         1
        ],
        [
         0.192,
         0.047,
         168,
         1
        ],
        [
         0.091,
         0.038,
         141,
         1
        ],
        [
         0.047,
         0.021,
         19,
         1
        ],
        [
         0.101,
         0.075,
         19,
         1
        ],
        [
         0.033,
         0.087,
         156,
         1
        ],
        [
         0.094,
         0.075,
         104,
         1
        ],
        [
         0.197,
         0.095,
         123,
         1
        ],
        [
         0.233,
         0.073,
         84,
         1
        ],
        [
         0.162,
         0.092,
         106,
         1
        ]
       ],
       "datasetInfos": [],
       "dbfsResultPath": null,
       "isJsonSchema": true,
       "metadata": {},
       "overflow": false,
       "plotOptions": {
        "customPlotOptions": {},
        "displayType": "table",
        "pivotAggregation": null,
        "pivotColumns": null,
        "xColumns": null,
        "yColumns": null
       },
       "removedWidgets": [],
       "schema": [
        {
         "metadata": "{}",
         "name": "Click-Through Rates (CTR)",
         "type": "\"double\""
        },
        {
         "metadata": "{}",
         "name": "conversion_rates",
         "type": "\"double\""
        },
        {
         "metadata": "{}",
         "name": "ad_interaction_time",
         "type": "\"integer\""
        },
        {
         "metadata": "{}",
         "name": "count",
         "type": "\"long\""
        }
       ],
       "type": "table"
      }
     },
     "output_type": "display_data"
    }
   ],
   "source": [
    "ad_interaction_query = \"\"\"\n",
    "    SELECT\n",
    "        `Click-Through Rates (CTR)` AS `Click-Through Rates (CTR)`,\n",
    "        `Conversion Rates` AS conversion_rates,\n",
    "        `Ad Interaction Time (sec)` AS ad_interaction_time,\n",
    "        COUNT(*) AS count\n",
    "    FROM\n",
    "        data_table\n",
    "    GROUP BY `Click-Through Rates (CTR)`, `Conversion Rates`, `Ad Interaction Time (sec)`\n",
    "\"\"\"\n",
    "\n",
    "ad_interaction_result = spark.sql(ad_interaction_query)\n",
    "\n",
    "display(ad_interaction_result)"
   ]
  }
 ],
 "metadata": {
  "application/vnd.databricks.v1+notebook": {
   "dashboards": [
    {
     "elements": [
      {
       "dashboardResultIndex": null,
       "elementNUID": "dca46d96-33b5-4ff8-90ad-ddaa8378f211",
       "elementType": "command",
       "guid": "1860b231-6323-4c70-8b49-60efedfdeff1",
       "options": {
        "autoScaleImg": false,
        "scale": 0,
        "showTitle": true,
        "title": "Users grouped by the Device they use",
        "titleAlign": "center"
       },
       "position": {
        "height": 8,
        "width": 11,
        "x": 13,
        "y": 21,
        "z": null
       },
       "resultIndex": null
      },
      {
       "dashboardResultIndex": null,
       "elementNUID": "9d179090-75f1-4973-84f5-fe3ea6d1fe4b",
       "elementType": "command",
       "guid": "2514f638-db9a-49e6-81e8-5987171a4dfa",
       "options": {
        "autoScaleImg": false,
        "scale": 0,
        "showTitle": true,
        "title": "Users' Education Level",
        "titleAlign": "center"
       },
       "position": {
        "height": 8,
        "width": 12,
        "x": 0,
        "y": 11,
        "z": null
       },
       "resultIndex": null
      },
      {
       "dashboardResultIndex": null,
       "elementNUID": "29024fdc-3258-4dc5-80a4-bb50b0a20ce7",
       "elementType": "command",
       "guid": "328d483c-e0de-4779-8075-d29676ffea22",
       "options": null,
       "position": {
        "height": 9,
        "width": 11,
        "x": 13,
        "y": 0,
        "z": null
       },
       "resultIndex": null
      },
      {
       "dashboardResultIndex": null,
       "elementNUID": "0b7cee45-71fc-4744-b4ad-a255eb027947",
       "elementType": "command",
       "guid": "3f8a012d-e4bb-45f4-973f-db106d54bfa0",
       "options": {
        "autoScaleImg": false,
        "scale": 0,
        "showTitle": true,
        "title": "Users grouped by Total Income",
        "titleAlign": "center"
       },
       "position": {
        "height": 8,
        "width": 11,
        "x": 13,
        "y": 11,
        "z": null
       },
       "resultIndex": null
      },
      {
       "dashboardResultIndex": null,
       "elementNUID": "9e716700-2818-4255-b47a-2c41810c5240",
       "elementType": "command",
       "guid": "619404fa-a4b3-4360-bad6-999625dcdad3",
       "options": {
        "autoScaleImg": false,
        "scale": 0,
        "showTitle": true,
        "title": "Users' Gender",
        "titleAlign": "center"
       },
       "position": {
        "height": 9,
        "width": 12,
        "x": 0,
        "y": 0,
        "z": null
       },
       "resultIndex": null
      },
      {
       "dashboardResultIndex": null,
       "elementNUID": "d787f682-66fd-478d-9c2e-7fd036fad091",
       "elementType": "command",
       "guid": "90015c49-cd5c-4ee4-84bb-8fe2fe86b151",
       "options": null,
       "position": {
        "height": 8,
        "width": 24,
        "x": 0,
        "y": 32,
        "z": null
       },
       "resultIndex": null
      },
      {
       "dashboardResultIndex": 0,
       "elementNUID": "11a064a4-fd0d-4cfb-86b8-17ed1f663baa",
       "elementType": "command",
       "guid": "9bc150eb-ffb9-4d95-97ac-b4af788405e2",
       "options": {
        "autoScaleImg": false,
        "scale": 0,
        "showTitle": true,
        "title": "Table of Ctr, Conversion and ad interaction time rates",
        "titleAlign": "center"
       },
       "position": {
        "height": 8,
        "width": 24,
        "x": 0,
        "y": 50,
        "z": null
       },
       "resultIndex": null
      },
      {
       "dashboardResultIndex": null,
       "elementNUID": "c718731f-1661-4300-a271-937c3ef264ee",
       "elementType": "command",
       "guid": "c431401d-c2c8-487b-acb7-b7982b7e45eb",
       "options": {
        "autoScaleImg": false,
        "scale": 0,
        "showTitle": true,
        "title": "Users grouped by Age",
        "titleAlign": "center"
       },
       "position": {
        "height": 8,
        "width": 12,
        "x": 0,
        "y": 21,
        "z": null
       },
       "resultIndex": null
      },
      {
       "dashboardResultIndex": null,
       "elementNUID": "d01b3573-7299-4422-9eac-60dc5d66a6c9",
       "elementType": "command",
       "guid": "c788768f-9bcb-4817-96c7-700d466aee3e",
       "options": null,
       "position": {
        "height": 8,
        "width": 24,
        "x": 0,
        "y": 41,
        "z": null
       },
       "resultIndex": null
      }
     ],
     "globalVars": {},
     "guid": "",
     "layoutOption": {
      "grid": true,
      "stack": false
     },
     "nuid": "7779c755-115b-45bf-9a91-516127c6bc3d",
     "origId": 4070443727212257,
     "title": "User Profiling - Segmentation Dashboard",
     "version": "DashboardViewV1",
     "width": 1024
    }
   ],
   "language": "python",
   "notebookMetadata": {
    "pythonIndentUnit": 4
   },
   "notebookName": "Pyspark User Profiling-Segmentation",
   "widgets": {}
  }
 },
 "nbformat": 4,
 "nbformat_minor": 0
}
